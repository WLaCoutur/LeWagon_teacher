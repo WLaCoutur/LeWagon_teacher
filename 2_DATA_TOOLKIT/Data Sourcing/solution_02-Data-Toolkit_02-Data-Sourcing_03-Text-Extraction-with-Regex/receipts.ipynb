{
 "cells": [
  {
   "cell_type": "markdown",
   "metadata": {},
   "source": [
    "# Part 1: Working with Regex"
   ]
  },
  {
   "cell_type": "code",
   "execution_count": null,
   "metadata": {
    "tags": [
     "challengify"
    ]
   },
   "outputs": [],
   "source": [
    "import numpy as np\n",
    "import pandas as pd\n",
    "%matplotlib inline\n",
    "import matplotlib\n",
    "import re"
   ]
  },
  {
   "cell_type": "code",
   "execution_count": null,
   "metadata": {
    "tags": [
     "delete_begin"
    ]
   },
   "outputs": [
    {
     "data": {
      "text/plain": [
       "['75011']"
      ]
     },
     "execution_count": null,
     "metadata": {},
     "output_type": "execute_result"
    }
   ],
   "source": [
    "zip_code_pattern = r\"\\d{5}\"\n",
    "text_to_search = \"I moved to Paris 75011, it's closer to my workplace.\"\n",
    "re.findall(zip_code_pattern, text_to_search)"
   ]
  },
  {
   "cell_type": "code",
   "execution_count": null,
   "metadata": {},
   "outputs": [
    {
     "data": {
      "text/plain": [
       "['15-02-2017']"
      ]
     },
     "execution_count": null,
     "metadata": {},
     "output_type": "execute_result"
    }
   ],
   "source": [
    "date_pattern = r\"\\d{2}-\\d{2}-\\d{4}\"\n",
    "text_to_search = \"Receipt Number 103402 ||| 15-02-2017\"\n",
    "re.findall(date_pattern, text_to_search)"
   ]
  },
  {
   "cell_type": "code",
   "execution_count": null,
   "metadata": {},
   "outputs": [],
   "source": [
    "with open('data/receipts.txt', encoding=\"utf-8\") as doc:\n",
    "    text = doc.read();"
   ]
  },
  {
   "cell_type": "code",
   "execution_count": null,
   "metadata": {},
   "outputs": [
    {
     "data": {
      "text/plain": [
       "['Quantity                         163',\n",
       " 'Quantity                         110',\n",
       " 'Quantity                         156',\n",
       " 'Quantity                         182',\n",
       " 'Quantity                          97']"
      ]
     },
     "execution_count": null,
     "metadata": {},
     "output_type": "execute_result"
    }
   ],
   "source": [
    "quantity_pattern = r\"Quantity +\\d+\"\n",
    "re.findall(quantity_pattern, text)[0:5]"
   ]
  },
  {
   "cell_type": "code",
   "execution_count": null,
   "metadata": {},
   "outputs": [
    {
     "data": {
      "text/plain": [
       "['Total Amount               3097.00 €',\n",
       " 'Total Amount                935.00 €',\n",
       " 'Total Amount               2808.00 €',\n",
       " 'Total Amount               4368.00 €',\n",
       " 'Total Amount               1988.50 €']"
      ]
     },
     "execution_count": null,
     "metadata": {},
     "output_type": "execute_result"
    }
   ],
   "source": [
    "amount_pattern = r\"Total Amount +\\d+.\\d{2} €\"\n",
    "re.findall(amount_pattern, text)[0:5]"
   ]
  },
  {
   "cell_type": "code",
   "execution_count": null,
   "metadata": {},
   "outputs": [
    {
     "data": {
      "text/plain": [
       "['163', '110', '156', '182', '97']"
      ]
     },
     "execution_count": null,
     "metadata": {},
     "output_type": "execute_result"
    }
   ],
   "source": [
    "quantity_group_pattern = r\"Quantity +(\\d+)\"\n",
    "re.findall(quantity_group_pattern, text)[0:5]"
   ]
  },
  {
   "cell_type": "code",
   "execution_count": null,
   "metadata": {
    "tags": [
     "delete_end"
    ]
   },
   "outputs": [
    {
     "data": {
      "text/plain": [
       "['3097.00', '935.00', '2808.00', '4368.00', '1988.50']"
      ]
     },
     "execution_count": null,
     "metadata": {},
     "output_type": "execute_result"
    }
   ],
   "source": [
    "amount_group_pattern = r\"Total Amount +(\\d+.\\d{2}) €\"\n",
    "re.findall(amount_group_pattern, text)[0:5]"
   ]
  },
  {
   "cell_type": "code",
   "execution_count": null,
   "metadata": {},
   "outputs": [
    {
     "name": "stdout",
     "output_type": "stream",
     "text": [
      "\n",
      "\u001b[1m============================= test session starts ==============================\u001b[0m\n",
      "platform darwin -- Python 3.10.6, pytest-7.1.3, pluggy-1.0.0 -- /Users/markbotterill/.pyenv/versions/lewagon/bin/python3\n",
      "cachedir: .pytest_cache\n",
      "rootdir: /Users/markbotterill/code/lewagon_dev/data-solutions/02-Data-Toolkit/02-Data-Sourcing/03-Text-Extraction-with-Regex/tests\n",
      "plugins: asyncio-0.19.0, anyio-3.7.1\n",
      "asyncio: mode=strict\n",
      "\u001b[1mcollecting ... \u001b[0mcollected 6 items\n",
      "\n",
      "test_patterns.py::TestPatterns::test_amount_group_pattern \u001b[32mPASSED\u001b[0m\u001b[32m         [ 16%]\u001b[0m\n",
      "test_patterns.py::TestPatterns::test_amount_pattern \u001b[32mPASSED\u001b[0m\u001b[32m               [ 33%]\u001b[0m\n",
      "test_patterns.py::TestPatterns::test_date_pattern \u001b[32mPASSED\u001b[0m\u001b[32m                 [ 50%]\u001b[0m\n",
      "test_patterns.py::TestPatterns::test_quantity_group_pattern \u001b[32mPASSED\u001b[0m\u001b[32m       [ 66%]\u001b[0m\n",
      "test_patterns.py::TestPatterns::test_quantity_pattern \u001b[32mPASSED\u001b[0m\u001b[32m             [ 83%]\u001b[0m\n",
      "test_patterns.py::TestPatterns::test_zip_code_pattern \u001b[32mPASSED\u001b[0m\u001b[32m             [100%]\u001b[0m\n",
      "\n",
      "\u001b[32m============================== \u001b[32m\u001b[1m6 passed\u001b[0m\u001b[32m in 0.01s\u001b[0m\u001b[32m ===============================\u001b[0m\n",
      "\n",
      "\n",
      "💯 You can commit your code:\n",
      "\n",
      "\u001b[1;32mgit\u001b[39m add tests/patterns.pickle\n",
      "\n",
      "\u001b[32mgit\u001b[39m commit -m \u001b[33m'Completed patterns step'\u001b[39m\n",
      "\n",
      "\u001b[32mgit\u001b[39m push origin master\n",
      "\n"
     ]
    }
   ],
   "source": [
    "from nbresult import ChallengeResult\n",
    "\n",
    "result = ChallengeResult('patterns',\n",
    "    zipcode_re=zip_code_pattern,\n",
    "    date_re=date_pattern,\n",
    "    quantity_re=quantity_pattern,\n",
    "                         \n",
    "    amount_re=amount_pattern,\n",
    "    quantity_grp_re=quantity_group_pattern,\n",
    "    amount_grp_re=amount_group_pattern\n",
    ")\n",
    "result.write()\n",
    "print(result.check())"
   ]
  },
  {
   "cell_type": "markdown",
   "metadata": {},
   "source": [
    "# Part 2: From a text file to a DataFrame"
   ]
  },
  {
   "cell_type": "code",
   "execution_count": null,
   "metadata": {
    "tags": [
     "challengify"
    ]
   },
   "outputs": [],
   "source": [
    "receipts_list = text.split('\\n\\n====================================\\n************************************\\n\\n\\n')"
   ]
  },
  {
   "cell_type": "code",
   "execution_count": null,
   "metadata": {
    "tags": [
     "delete_begin"
    ]
   },
   "outputs": [],
   "source": [
    "receipts_dict = {'date':[], 'quantity':[], 'amount':[]}\n",
    "for receipt in receipts_list:\n",
    "    # receipts['no'].extend(re.findall(r\"Number +(\\d+)\", raw_receipt))\n",
    "    receipts_dict['date'].extend(re.findall(date_pattern, receipt))\n",
    "    receipts_dict['quantity'].extend(re.findall(quantity_group_pattern, receipt))\n",
    "    receipts_dict['amount'].extend(re.findall(amount_group_pattern, receipt))"
   ]
  },
  {
   "cell_type": "code",
   "execution_count": null,
   "metadata": {},
   "outputs": [],
   "source": [
    "receipts_df = pd.DataFrame(receipts_dict)"
   ]
  },
  {
   "cell_type": "code",
   "execution_count": null,
   "metadata": {},
   "outputs": [
    {
     "data": {
      "text/html": [
       "<div>\n",
       "<style scoped>\n",
       "    .dataframe tbody tr th:only-of-type {\n",
       "        vertical-align: middle;\n",
       "    }\n",
       "\n",
       "    .dataframe tbody tr th {\n",
       "        vertical-align: top;\n",
       "    }\n",
       "\n",
       "    .dataframe thead th {\n",
       "        text-align: right;\n",
       "    }\n",
       "</style>\n",
       "<table border=\"1\" class=\"dataframe\">\n",
       "  <thead>\n",
       "    <tr style=\"text-align: right;\">\n",
       "      <th></th>\n",
       "      <th>date</th>\n",
       "      <th>quantity</th>\n",
       "      <th>amount</th>\n",
       "    </tr>\n",
       "  </thead>\n",
       "  <tbody>\n",
       "    <tr>\n",
       "      <th>0</th>\n",
       "      <td>02-01-2017</td>\n",
       "      <td>163</td>\n",
       "      <td>3097.00</td>\n",
       "    </tr>\n",
       "    <tr>\n",
       "      <th>1</th>\n",
       "      <td>05-01-2017</td>\n",
       "      <td>110</td>\n",
       "      <td>935.00</td>\n",
       "    </tr>\n",
       "    <tr>\n",
       "      <th>2</th>\n",
       "      <td>23-01-2017</td>\n",
       "      <td>156</td>\n",
       "      <td>2808.00</td>\n",
       "    </tr>\n",
       "    <tr>\n",
       "      <th>3</th>\n",
       "      <td>31-01-2017</td>\n",
       "      <td>182</td>\n",
       "      <td>4368.00</td>\n",
       "    </tr>\n",
       "    <tr>\n",
       "      <th>4</th>\n",
       "      <td>06-02-2017</td>\n",
       "      <td>97</td>\n",
       "      <td>1988.50</td>\n",
       "    </tr>\n",
       "  </tbody>\n",
       "</table>\n",
       "</div>"
      ],
      "text/plain": [
       "         date quantity   amount\n",
       "0  02-01-2017      163  3097.00\n",
       "1  05-01-2017      110   935.00\n",
       "2  23-01-2017      156  2808.00\n",
       "3  31-01-2017      182  4368.00\n",
       "4  06-02-2017       97  1988.50"
      ]
     },
     "execution_count": null,
     "metadata": {},
     "output_type": "execute_result"
    }
   ],
   "source": [
    "receipts_df.head()"
   ]
  },
  {
   "cell_type": "code",
   "execution_count": null,
   "metadata": {},
   "outputs": [
    {
     "data": {
      "text/plain": [
       "100"
      ]
     },
     "execution_count": null,
     "metadata": {},
     "output_type": "execute_result"
    }
   ],
   "source": [
    "len(receipts_list)"
   ]
  },
  {
   "cell_type": "code",
   "execution_count": null,
   "metadata": {},
   "outputs": [
    {
     "data": {
      "text/plain": [
       "3"
      ]
     },
     "execution_count": null,
     "metadata": {},
     "output_type": "execute_result"
    }
   ],
   "source": [
    "len(receipts_dict)"
   ]
  },
  {
   "cell_type": "code",
   "execution_count": null,
   "metadata": {},
   "outputs": [
    {
     "data": {
      "text/plain": [
       "(100, 3)"
      ]
     },
     "execution_count": null,
     "metadata": {},
     "output_type": "execute_result"
    }
   ],
   "source": [
    "receipts_df.shape"
   ]
  },
  {
   "cell_type": "code",
   "execution_count": null,
   "metadata": {
    "tags": [
     "delete_end"
    ]
   },
   "outputs": [
    {
     "data": {
      "text/plain": [
       "'1850.00'"
      ]
     },
     "execution_count": null,
     "metadata": {},
     "output_type": "execute_result"
    }
   ],
   "source": [
    "receipts_df.iloc[-1, :].amount"
   ]
  },
  {
   "cell_type": "code",
   "execution_count": null,
   "metadata": {},
   "outputs": [
    {
     "name": "stdout",
     "output_type": "stream",
     "text": [
      "\n",
      "\u001b[1m============================= test session starts ==============================\u001b[0m\n",
      "platform darwin -- Python 3.10.6, pytest-7.1.3, pluggy-1.0.0 -- /Users/markbotterill/.pyenv/versions/lewagon/bin/python3\n",
      "cachedir: .pytest_cache\n",
      "rootdir: /Users/markbotterill/code/lewagon_dev/data-solutions/02-Data-Toolkit/02-Data-Sourcing/03-Text-Extraction-with-Regex/tests\n",
      "plugins: asyncio-0.19.0, anyio-3.7.1\n",
      "asyncio: mode=strict\n",
      "\u001b[1mcollecting ... \u001b[0mcollected 4 items\n",
      "\n",
      "test_receipts.py::TestReceipts::test_receipt \u001b[32mPASSED\u001b[0m\u001b[32m                      [ 25%]\u001b[0m\n",
      "test_receipts.py::TestReceipts::test_receipts_df_size \u001b[32mPASSED\u001b[0m\u001b[32m             [ 50%]\u001b[0m\n",
      "test_receipts.py::TestReceipts::test_receipts_dict \u001b[32mPASSED\u001b[0m\u001b[32m                [ 75%]\u001b[0m\n",
      "test_receipts.py::TestReceipts::test_receipts_list \u001b[32mPASSED\u001b[0m\u001b[32m                [100%]\u001b[0m\n",
      "\n",
      "\u001b[32m============================== \u001b[32m\u001b[1m4 passed\u001b[0m\u001b[32m in 0.23s\u001b[0m\u001b[32m ===============================\u001b[0m\n",
      "\n",
      "\n",
      "💯 You can commit your code:\n",
      "\n",
      "\u001b[1;32mgit\u001b[39m add tests/receipts.pickle\n",
      "\n",
      "\u001b[32mgit\u001b[39m commit -m \u001b[33m'Completed receipts step'\u001b[39m\n",
      "\n",
      "\u001b[32mgit\u001b[39m push origin master\n",
      "\n"
     ]
    }
   ],
   "source": [
    "from nbresult import ChallengeResult\n",
    "\n",
    "result = ChallengeResult('receipts',\n",
    "    raw=receipts_list,\n",
    "    receipts=receipts_dict,\n",
    "    df_size=receipts_df.shape,\n",
    "    receipt=receipts_df.iloc[-1, :]\n",
    ")\n",
    "result.write()\n",
    "print(result.check())"
   ]
  },
  {
   "cell_type": "markdown",
   "metadata": {},
   "source": [
    "# Part 3: Data Visualization"
   ]
  },
  {
   "cell_type": "code",
   "execution_count": null,
   "metadata": {
    "tags": [
     "challengify"
    ]
   },
   "outputs": [],
   "source": [
    "#receipts_df['no'] = pd.to_numeric(receipts_df['no'])\n",
    "receipts_df['date'] = pd.to_datetime(receipts_df['date'], format = '%d-%m-%Y')\n",
    "receipts_df.set_index('date', inplace = True)\n",
    "# receipts_df\n",
    "receipts_df['quantity'] = pd.to_numeric(receipts_df['quantity'])\n",
    "receipts_df['amount'] = pd.to_numeric(receipts_df['amount'])\n",
    "no_duplicates_df = receipts_df.groupby('date').mean()"
   ]
  },
  {
   "cell_type": "code",
   "execution_count": null,
   "metadata": {
    "tags": [
     "delete"
    ]
   },
   "outputs": [
    {
     "data": {
      "text/plain": [
       "<AxesSubplot:xlabel='date'>"
      ]
     },
     "execution_count": null,
     "metadata": {},
     "output_type": "execute_result"
    },
    {
     "data": {
      "image/png": "[encoded data removed]",
      "text/plain": [
       "<Figure size 1400x500 with 1 Axes>"
      ]
     },
     "metadata": {},
     "output_type": "display_data"
    }
   ],
   "source": [
    "no_duplicates_df['amount'].plot(figsize=(14,5))"
   ]
  }
 ],
 "metadata": {
  "kernelspec": {
   "display_name": "Python 3",
   "language": "python",
   "name": "python3"
  }
 },
 "nbformat": 4,
 "nbformat_minor": 2
}
