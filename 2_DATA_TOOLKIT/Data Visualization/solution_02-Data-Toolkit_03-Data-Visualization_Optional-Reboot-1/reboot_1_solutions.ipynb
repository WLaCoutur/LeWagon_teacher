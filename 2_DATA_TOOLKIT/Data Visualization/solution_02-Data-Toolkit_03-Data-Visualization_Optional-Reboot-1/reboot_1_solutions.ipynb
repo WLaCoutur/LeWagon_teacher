{
 "cells": [
  {
   "cell_type": "markdown",
   "metadata": {},
   "source": [
    "# 1. The Worlds Worst Variable\n",
    "\n",
    "An example of what not to do, but will also inevitably encounter."
   ]
  },
  {
   "cell_type": "code",
   "execution_count": null,
   "metadata": {},
   "outputs": [],
   "source": [
    "worlds_worst_variable = [{(\"Iron Man\", 2008): {\"Plot\": \"Rich man builds metal suit and blasts things\",\n",
    "                                               \"Actors\": [\"RDJ\", \"Gwyneth Paltrow\", \"Jon Favreau\"],\n",
    "                                               \"Box Office Yields\": [{\"US\": 4000000}, {\"England\": 4500000}, {\"Asia\": 50000}]},\n",
    "                        (\"Thor\", 2011): {\"Plot\": \"Blonde man bashes things with hammer\",\n",
    "                                    \"Actors\": [\"Chris Hemsworth\", \"Natalie Portman\", \"Jon Favreau\"],\n",
    "                                    \"Box Office Yields\": [{\"US\": 300000}, {\"Europe\": 320000}, {\"Asia\": 70000}]},\n",
    "                        (\"Doctor Strange\", 2016): {\"Plot\": \"Boy with spider powers saves New York\",\n",
    "                                                   \"Actors\": [\"Benedict Cumberbatch\", \"Benedict Wong\", \"Rachel McAdams\"],\n",
    "                                                   \"Box Office Yields\": [{\"US\": 353300}, {\"Europe\": 320500}, {\"Asia\": 74000}]},\n",
    "                        (\"Captain America: Civil War\", 2016): {\"Plot\": \"Metal boy and America man fight\",\n",
    "                                                               \"Actors\": [\"Chris Evans\", \"RDJ\", \"Scarlett Johanson\"],\n",
    "                                                               \"Box Office Yields\": [{\"US\": 3200300}, {\"Europe\": 3750500}, {\"Asia\": 7344000}]},\n",
    "                        (\"Deadpool\", 2016): {\"Plot\": \"Man in red and black suit can't die\",\n",
    "                                             \"Actors\": [\"Ryan Reynolds\", \"Morena Baccarrin\", \"TJ Miller\"],\n",
    "                                             \"Box Office Yields\": [{\"US\": 200300}, {\"Europe\": 30500}, {\"Asia\": 7344000}]},\n",
    "                        (\"Morbius\", 2022): {\"Plot\": \"Terrible movie where man becomes a vampire\",\n",
    "                                            \"Actors\": [\"Jared Leto\", \"Matt Smith\", \"Adria Arjona\"],\n",
    "                                            \"Box Office Yields\": [{\"US\": 9900300}, {\"Europe\": 440500}, {\"Asia\": 74000}]}}]"
   ]
  },
  {
   "cell_type": "markdown",
   "metadata": {},
   "source": [
    "## 1.1. Get all the information associated with the Iron Man movie\n",
    "\n",
    "Making liberal use of the built-in python methods (`len`, `type()`) and dictionary methods (`dict.items()`, `dict.keys()`, `dict.values()`) to find out what kind of data type you are working with, and obtain data further within the variable."
   ]
  },
  {
   "cell_type": "code",
   "execution_count": null,
   "metadata": {},
   "outputs": [
    {
     "data": {
      "text/plain": [
       "(list, 1)"
      ]
     },
     "execution_count": null,
     "metadata": {},
     "output_type": "execute_result"
    }
   ],
   "source": [
    "type(worlds_worst_variable), len(worlds_worst_variable)"
   ]
  },
  {
   "cell_type": "code",
   "execution_count": null,
   "metadata": {},
   "outputs": [
    {
     "data": {
      "text/plain": [
       "dict"
      ]
     },
     "execution_count": null,
     "metadata": {},
     "output_type": "execute_result"
    }
   ],
   "source": [
    "type(worlds_worst_variable[0])"
   ]
  },
  {
   "cell_type": "code",
   "execution_count": null,
   "metadata": {},
   "outputs": [
    {
     "data": {
      "text/plain": [
       "dict_keys([('Iron Man', 2008), ('Thor', 2011), ('Doctor Strange', 2016), ('Captain America: Civil War', 2016), ('Deadpool', 2016), ('Morbius', 2022)])"
      ]
     },
     "execution_count": null,
     "metadata": {},
     "output_type": "execute_result"
    }
   ],
   "source": [
    "worlds_worst_variable[0].keys()"
   ]
  },
  {
   "cell_type": "code",
   "execution_count": null,
   "metadata": {},
   "outputs": [
    {
     "data": {
      "text/plain": [
       "{'Plot': 'Rich man builds metal suit and blasts things',\n",
       " 'Actors': ['RDJ', 'Gwyneth Paltrow', 'Jon Favreau'],\n",
       " 'Box Office Yields': [{'US': 4000000}, {'England': 4500000}, {'Asia': 50000}]}"
      ]
     },
     "execution_count": null,
     "metadata": {},
     "output_type": "execute_result"
    }
   ],
   "source": [
    "worlds_worst_variable[0][(\"Iron Man\", 2008)]"
   ]
  },
  {
   "cell_type": "markdown",
   "metadata": {},
   "source": [
    "## 1.2. There is a mistake in the Iron Man info; change \"England\" key to \"Europe\" in the Iron Man Box office yields dictionary\n",
    "\n",
    "Dictionary keys are immutable and difficult to change by design. The process would be to add a new entry with the correct key and remove the old entry with the incorrect key."
   ]
  },
  {
   "cell_type": "code",
   "execution_count": null,
   "metadata": {
    "tags": []
   },
   "outputs": [
    {
     "data": {
      "text/plain": [
       "{'England': 4500000}"
      ]
     },
     "execution_count": null,
     "metadata": {},
     "output_type": "execute_result"
    }
   ],
   "source": [
    "# Find the dictionary that we need to correct\n",
    "worlds_worst_variable[0][(\"Iron Man\", 2008)]['Box Office Yields'][1]"
   ]
  },
  {
   "cell_type": "markdown",
   "metadata": {},
   "source": [
    "One way to achieve this is with `.pop()` dictionary method. Noting that `.pop()` *returns* the value that is being removed from the list.\n",
    "\n",
    "`.pop()` removes an entry from a list or dictionary and returns that entry for use. Refer to the [python docs](https://docs.python.org/3/library/stdtypes.html?#dict.pop) or give it a google for more information."
   ]
  },
  {
   "cell_type": "code",
   "execution_count": null,
   "metadata": {},
   "outputs": [],
   "source": [
    "worlds_worst_variable[0][(\"Iron Man\", 2008)]['Box Office Yields'][1]['Europe'] = worlds_worst_variable[0][(\"Iron Man\", 2008)]['Box Office Yields'][1].pop('England')"
   ]
  },
  {
   "cell_type": "code",
   "execution_count": null,
   "metadata": {
    "tags": []
   },
   "outputs": [
    {
     "data": {
      "text/plain": [
       "{'Europe': 4500000}"
      ]
     },
     "execution_count": null,
     "metadata": {},
     "output_type": "execute_result"
    }
   ],
   "source": [
    "# Confirming change\n",
    "worlds_worst_variable[0][(\"Iron Man\", 2008)]['Box Office Yields'][1]"
   ]
  },
  {
   "cell_type": "markdown",
   "metadata": {},
   "source": [
    "## 1.3. Add Michael Keaton to the cast of Morbius"
   ]
  },
  {
   "cell_type": "code",
   "execution_count": null,
   "metadata": {},
   "outputs": [
    {
     "data": {
      "text/plain": [
       "(list, ['Jared Leto', 'Matt Smith', 'Adria Arjona'])"
      ]
     },
     "execution_count": null,
     "metadata": {},
     "output_type": "execute_result"
    }
   ],
   "source": [
    "# Find the data type to determine what method to use\n",
    "type(worlds_worst_variable[0][(\"Morbius\", 2022)]['Actors']), worlds_worst_variable[0][(\"Morbius\", 2022)]['Actors']"
   ]
  },
  {
   "cell_type": "code",
   "execution_count": null,
   "metadata": {},
   "outputs": [],
   "source": [
    "# It's a list, .append() is the go to method\n",
    "worlds_worst_variable[0][(\"Morbius\", 2022)]['Actors'].append('Michael Keaton')"
   ]
  },
  {
   "cell_type": "code",
   "execution_count": null,
   "metadata": {},
   "outputs": [
    {
     "data": {
      "text/plain": [
       "['Jared Leto', 'Matt Smith', 'Adria Arjona', 'Michael Keaton']"
      ]
     },
     "execution_count": null,
     "metadata": {},
     "output_type": "execute_result"
    }
   ],
   "source": [
    "# Confirming change\n",
    "worlds_worst_variable[0][(\"Morbius\", 2022)]['Actors']"
   ]
  },
  {
   "cell_type": "markdown",
   "metadata": {},
   "source": [
    "## 1.4. Correct the plot of the Doctor Strange entry"
   ]
  },
  {
   "cell_type": "code",
   "execution_count": null,
   "metadata": {},
   "outputs": [
    {
     "data": {
      "text/plain": [
       "{'Plot': 'Boy with spider powers saves New York',\n",
       " 'Actors': ['Benedict Cumberbatch', 'Benedict Wong', 'Rachel McAdams'],\n",
       " 'Box Office Yields': [{'US': 353300}, {'Europe': 320500}, {'Asia': 74000}]}"
      ]
     },
     "execution_count": null,
     "metadata": {},
     "output_type": "execute_result"
    }
   ],
   "source": [
    "# have a look at the existing data\n",
    "worlds_worst_variable[0][('Doctor Strange', 2016)]"
   ]
  },
  {
   "cell_type": "code",
   "execution_count": null,
   "metadata": {},
   "outputs": [
    {
     "data": {
      "text/plain": [
       "dict"
      ]
     },
     "execution_count": null,
     "metadata": {},
     "output_type": "execute_result"
    }
   ],
   "source": [
    "# Determine data type\n",
    "type(worlds_worst_variable[0][(\"Doctor Strange\", 2016)])"
   ]
  },
  {
   "cell_type": "markdown",
   "metadata": {},
   "source": [
    "Knowing that it is a dictionary, reassign the value in the relevant key-value pair."
   ]
  },
  {
   "cell_type": "code",
   "execution_count": null,
   "metadata": {},
   "outputs": [],
   "source": [
    "worlds_worst_variable[0][(\"Doctor Strange\", 2016)]['Plot'] = \"Man with goatee learns to make sparks.\""
   ]
  },
  {
   "cell_type": "code",
   "execution_count": null,
   "metadata": {},
   "outputs": [
    {
     "data": {
      "text/plain": [
       "{'Plot': 'Man with goatee learns to make sparks.',\n",
       " 'Actors': ['Benedict Cumberbatch', 'Benedict Wong', 'Rachel McAdams'],\n",
       " 'Box Office Yields': [{'US': 353300}, {'Europe': 320500}, {'Asia': 74000}]}"
      ]
     },
     "execution_count": null,
     "metadata": {},
     "output_type": "execute_result"
    }
   ],
   "source": [
    "# Confirm changes\n",
    "worlds_worst_variable[0][(\"Doctor Strange\", 2016)]"
   ]
  },
  {
   "cell_type": "markdown",
   "metadata": {},
   "source": [
    "## 1.5. Add up the European box office yields for all of the movies released in 2016"
   ]
  },
  {
   "cell_type": "code",
   "execution_count": null,
   "metadata": {},
   "outputs": [
    {
     "data": {
      "text/plain": [
       "{'Europe': 4500000}"
      ]
     },
     "execution_count": null,
     "metadata": {},
     "output_type": "execute_result"
    }
   ],
   "source": [
    "# find where European yields are in the variable\n",
    "worlds_worst_variable[0][('Iron Man', 2008)]['Box Office Yields'][1]"
   ]
  },
  {
   "cell_type": "code",
   "execution_count": null,
   "metadata": {},
   "outputs": [
    {
     "name": "stdout",
     "output_type": "stream",
     "text": [
      "Total yield in Europe is 4101500 American dollary doos.\n"
     ]
    }
   ],
   "source": [
    "total_yield = 0\n",
    "for movie_name, movie_info in worlds_worst_variable[0].items():\n",
    "    # When building loops, look at intermediate steps, for example:\n",
    "    # print(movie_name, movie_info)\n",
    "\n",
    "    # if statement to check year is 2016\n",
    "    if movie_name[1] == 2016:\n",
    "        # add yield to total_yield\n",
    "        total_yield += movie_info['Box Office Yields'][1]['Europe']\n",
    "\n",
    "print(f'Total yield in Europe is {total_yield} American dollary doos.')"
   ]
  },
  {
   "cell_type": "markdown",
   "metadata": {},
   "source": [
    "### As comprehension\n",
    "\n",
    "This is why you **_should not_** use comprehension on variables with complex structures!"
   ]
  },
  {
   "cell_type": "code",
   "execution_count": null,
   "metadata": {},
   "outputs": [
    {
     "name": "stdout",
     "output_type": "stream",
     "text": [
      "Total yield in Europe is 4101500 American dollars.\n"
     ]
    }
   ],
   "source": [
    "# as comprehension\n",
    "total_yield = sum([movie_info['Box Office Yields'][1]['Europe'] for movie_name, movie_info in worlds_worst_variable[0].items() if movie_name[1] == 2016 ])\n",
    "print(f'Total yield in Europe is {total_yield} American dollars.')"
   ]
  },
  {
   "cell_type": "markdown",
   "metadata": {},
   "source": [
    "# 2. Pandas Practice"
   ]
  },
  {
   "cell_type": "code",
   "execution_count": null,
   "metadata": {},
   "outputs": [],
   "source": [
    "import pandas as pd"
   ]
  },
  {
   "cell_type": "code",
   "execution_count": null,
   "metadata": {},
   "outputs": [],
   "source": [
    "# Load data from csv\n",
    "df = pd.read_csv(\"https://wagon-public-datasets.s3.amazonaws.com/Reboot/IMDB-Movie-Data.csv\")"
   ]
  },
  {
   "cell_type": "code",
   "execution_count": null,
   "metadata": {},
   "outputs": [
    {
     "data": {
      "text/html": [
       "<div>\n",
       "<style scoped>\n",
       "    .dataframe tbody tr th:only-of-type {\n",
       "        vertical-align: middle;\n",
       "    }\n",
       "\n",
       "    .dataframe tbody tr th {\n",
       "        vertical-align: top;\n",
       "    }\n",
       "\n",
       "    .dataframe thead th {\n",
       "        text-align: right;\n",
       "    }\n",
       "</style>\n",
       "<table border=\"1\" class=\"dataframe\">\n",
       "  <thead>\n",
       "    <tr style=\"text-align: right;\">\n",
       "      <th></th>\n",
       "      <th>Rank</th>\n",
       "      <th>Title</th>\n",
       "      <th>Genre</th>\n",
       "      <th>Description</th>\n",
       "      <th>Director</th>\n",
       "      <th>Actors</th>\n",
       "      <th>Year</th>\n",
       "      <th>Runtime (Minutes)</th>\n",
       "      <th>Rating</th>\n",
       "      <th>Votes</th>\n",
       "      <th>Revenue (Millions)</th>\n",
       "      <th>Metascore</th>\n",
       "    </tr>\n",
       "  </thead>\n",
       "  <tbody>\n",
       "    <tr>\n",
       "      <th>0</th>\n",
       "      <td>1</td>\n",
       "      <td>Guardians of the Galaxy</td>\n",
       "      <td>Action,Adventure,Sci-Fi</td>\n",
       "      <td>A group of intergalactic criminals are forced ...</td>\n",
       "      <td>James Gunn</td>\n",
       "      <td>Chris Pratt, Vin Diesel, Bradley Cooper, Zoe S...</td>\n",
       "      <td>2014</td>\n",
       "      <td>121</td>\n",
       "      <td>8.1</td>\n",
       "      <td>757074</td>\n",
       "      <td>333.13</td>\n",
       "      <td>76</td>\n",
       "    </tr>\n",
       "    <tr>\n",
       "      <th>1</th>\n",
       "      <td>2</td>\n",
       "      <td>Prometheus</td>\n",
       "      <td>Adventure,Mystery,Sci-Fi</td>\n",
       "      <td>Following clues to the origin of mankind, a te...</td>\n",
       "      <td>Ridley Scott</td>\n",
       "      <td>Noomi Rapace, Logan Marshall-Green, Michael Fa...</td>\n",
       "      <td>2012</td>\n",
       "      <td>124</td>\n",
       "      <td>7.0</td>\n",
       "      <td>485820</td>\n",
       "      <td>126.46</td>\n",
       "      <td>65</td>\n",
       "    </tr>\n",
       "    <tr>\n",
       "      <th>2</th>\n",
       "      <td>3</td>\n",
       "      <td>Split</td>\n",
       "      <td>Horror,Thriller</td>\n",
       "      <td>Three girls are kidnapped by a man with a diag...</td>\n",
       "      <td>M. Night Shyamalan</td>\n",
       "      <td>James McAvoy, Anya Taylor-Joy, Haley Lu Richar...</td>\n",
       "      <td>2016</td>\n",
       "      <td>117</td>\n",
       "      <td>7.3</td>\n",
       "      <td>157606</td>\n",
       "      <td>138.12</td>\n",
       "      <td>62</td>\n",
       "    </tr>\n",
       "    <tr>\n",
       "      <th>3</th>\n",
       "      <td>4</td>\n",
       "      <td>Sing</td>\n",
       "      <td>Animation,Comedy,Family</td>\n",
       "      <td>In a city of humanoid animals, a hustling thea...</td>\n",
       "      <td>Christophe Lourdelet</td>\n",
       "      <td>Matthew McConaughey,Reese Witherspoon, Seth Ma...</td>\n",
       "      <td>2016</td>\n",
       "      <td>108</td>\n",
       "      <td>7.2</td>\n",
       "      <td>60545</td>\n",
       "      <td>270.32</td>\n",
       "      <td>59</td>\n",
       "    </tr>\n",
       "    <tr>\n",
       "      <th>4</th>\n",
       "      <td>5</td>\n",
       "      <td>Suicide Squad</td>\n",
       "      <td>Action,Adventure,Fantasy</td>\n",
       "      <td>A secret government agency recruits some of th...</td>\n",
       "      <td>David Ayer</td>\n",
       "      <td>Will Smith, Jared Leto, Margot Robbie, Viola D...</td>\n",
       "      <td>2016</td>\n",
       "      <td>123</td>\n",
       "      <td>6.2</td>\n",
       "      <td>393727</td>\n",
       "      <td>325.02</td>\n",
       "      <td>40</td>\n",
       "    </tr>\n",
       "  </tbody>\n",
       "</table>\n",
       "</div>"
      ],
      "text/plain": [
       "   Rank                    Title                     Genre  \\\n",
       "0     1  Guardians of the Galaxy   Action,Adventure,Sci-Fi   \n",
       "1     2               Prometheus  Adventure,Mystery,Sci-Fi   \n",
       "2     3                    Split           Horror,Thriller   \n",
       "3     4                     Sing   Animation,Comedy,Family   \n",
       "4     5            Suicide Squad  Action,Adventure,Fantasy   \n",
       "\n",
       "                                         Description              Director  \\\n",
       "0  A group of intergalactic criminals are forced ...            James Gunn   \n",
       "1  Following clues to the origin of mankind, a te...          Ridley Scott   \n",
       "2  Three girls are kidnapped by a man with a diag...    M. Night Shyamalan   \n",
       "3  In a city of humanoid animals, a hustling thea...  Christophe Lourdelet   \n",
       "4  A secret government agency recruits some of th...            David Ayer   \n",
       "\n",
       "                                              Actors  Year  Runtime (Minutes)  \\\n",
       "0  Chris Pratt, Vin Diesel, Bradley Cooper, Zoe S...  2014                121   \n",
       "1  Noomi Rapace, Logan Marshall-Green, Michael Fa...  2012                124   \n",
       "2  James McAvoy, Anya Taylor-Joy, Haley Lu Richar...  2016                117   \n",
       "3  Matthew McConaughey,Reese Witherspoon, Seth Ma...  2016                108   \n",
       "4  Will Smith, Jared Leto, Margot Robbie, Viola D...  2016                123   \n",
       "\n",
       "   Rating   Votes  Revenue (Millions)  Metascore  \n",
       "0     8.1  757074              333.13         76  \n",
       "1     7.0  485820              126.46         65  \n",
       "2     7.3  157606              138.12         62  \n",
       "3     7.2   60545              270.32         59  \n",
       "4     6.2  393727              325.02         40  "
      ]
     },
     "execution_count": null,
     "metadata": {},
     "output_type": "execute_result"
    }
   ],
   "source": [
    "# Always have a looky at the data\n",
    "df.head()"
   ]
  },
  {
   "cell_type": "markdown",
   "metadata": {},
   "source": [
    "### Challenge 1: Add 5 mins to all of the run times"
   ]
  },
  {
   "cell_type": "code",
   "execution_count": null,
   "metadata": {},
   "outputs": [
    {
     "name": "stdout",
     "output_type": "stream",
     "text": [
      "<class 'pandas.core.frame.DataFrame'>\n",
      "RangeIndex: 1000 entries, 0 to 999\n",
      "Data columns (total 12 columns):\n",
      " #   Column              Non-Null Count  Dtype  \n",
      "---  ------              --------------  -----  \n",
      " 0   Rank                1000 non-null   int64  \n",
      " 1   Title               1000 non-null   object \n",
      " 2   Genre               1000 non-null   object \n",
      " 3   Description         1000 non-null   object \n",
      " 4   Director            1000 non-null   object \n",
      " 5   Actors              1000 non-null   object \n",
      " 6   Year                1000 non-null   int64  \n",
      " 7   Runtime (Minutes)   1000 non-null   int64  \n",
      " 8   Rating              1000 non-null   float64\n",
      " 9   Votes               1000 non-null   int64  \n",
      " 10  Revenue (Millions)  1000 non-null   float64\n",
      " 11  Metascore           1000 non-null   int64  \n",
      "dtypes: float64(2), int64(5), object(5)\n",
      "memory usage: 93.9+ KB\n"
     ]
    }
   ],
   "source": [
    "# See what dtypes the data is in. May have to do some swapping.\n",
    "df.info()"
   ]
  },
  {
   "cell_type": "code",
   "execution_count": null,
   "metadata": {},
   "outputs": [
    {
     "data": {
      "text/plain": [
       "Index(['Rank', 'Title', 'Genre', 'Description', 'Director', 'Actors', 'Year',\n",
       "       'Runtime (Minutes)', 'Rating', 'Votes', 'Revenue (Millions)',\n",
       "       'Metascore'],\n",
       "      dtype='object')"
      ]
     },
     "execution_count": null,
     "metadata": {},
     "output_type": "execute_result"
    }
   ],
   "source": [
    "# Double check column names\n",
    "df.columns"
   ]
  },
  {
   "cell_type": "markdown",
   "metadata": {},
   "source": [
    "We know that `Runtime (Minutes)` is an integer and we have the column name, we can perform vectorized operations on the entire series."
   ]
  },
  {
   "cell_type": "code",
   "execution_count": null,
   "metadata": {},
   "outputs": [],
   "source": [
    "df['Runtime (Minutes)'] += 5"
   ]
  },
  {
   "cell_type": "code",
   "execution_count": null,
   "metadata": {},
   "outputs": [
    {
     "data": {
      "text/html": [
       "<div>\n",
       "<style scoped>\n",
       "    .dataframe tbody tr th:only-of-type {\n",
       "        vertical-align: middle;\n",
       "    }\n",
       "\n",
       "    .dataframe tbody tr th {\n",
       "        vertical-align: top;\n",
       "    }\n",
       "\n",
       "    .dataframe thead th {\n",
       "        text-align: right;\n",
       "    }\n",
       "</style>\n",
       "<table border=\"1\" class=\"dataframe\">\n",
       "  <thead>\n",
       "    <tr style=\"text-align: right;\">\n",
       "      <th></th>\n",
       "      <th>Rank</th>\n",
       "      <th>Title</th>\n",
       "      <th>Genre</th>\n",
       "      <th>Description</th>\n",
       "      <th>Director</th>\n",
       "      <th>Actors</th>\n",
       "      <th>Year</th>\n",
       "      <th>Runtime (Minutes)</th>\n",
       "      <th>Rating</th>\n",
       "      <th>Votes</th>\n",
       "      <th>Revenue (Millions)</th>\n",
       "      <th>Metascore</th>\n",
       "    </tr>\n",
       "  </thead>\n",
       "  <tbody>\n",
       "    <tr>\n",
       "      <th>0</th>\n",
       "      <td>1</td>\n",
       "      <td>Guardians of the Galaxy</td>\n",
       "      <td>Action,Adventure,Sci-Fi</td>\n",
       "      <td>A group of intergalactic criminals are forced ...</td>\n",
       "      <td>James Gunn</td>\n",
       "      <td>Chris Pratt, Vin Diesel, Bradley Cooper, Zoe S...</td>\n",
       "      <td>2014</td>\n",
       "      <td>126</td>\n",
       "      <td>8.1</td>\n",
       "      <td>757074</td>\n",
       "      <td>333.13</td>\n",
       "      <td>76</td>\n",
       "    </tr>\n",
       "    <tr>\n",
       "      <th>1</th>\n",
       "      <td>2</td>\n",
       "      <td>Prometheus</td>\n",
       "      <td>Adventure,Mystery,Sci-Fi</td>\n",
       "      <td>Following clues to the origin of mankind, a te...</td>\n",
       "      <td>Ridley Scott</td>\n",
       "      <td>Noomi Rapace, Logan Marshall-Green, Michael Fa...</td>\n",
       "      <td>2012</td>\n",
       "      <td>129</td>\n",
       "      <td>7.0</td>\n",
       "      <td>485820</td>\n",
       "      <td>126.46</td>\n",
       "      <td>65</td>\n",
       "    </tr>\n",
       "    <tr>\n",
       "      <th>2</th>\n",
       "      <td>3</td>\n",
       "      <td>Split</td>\n",
       "      <td>Horror,Thriller</td>\n",
       "      <td>Three girls are kidnapped by a man with a diag...</td>\n",
       "      <td>M. Night Shyamalan</td>\n",
       "      <td>James McAvoy, Anya Taylor-Joy, Haley Lu Richar...</td>\n",
       "      <td>2016</td>\n",
       "      <td>122</td>\n",
       "      <td>7.3</td>\n",
       "      <td>157606</td>\n",
       "      <td>138.12</td>\n",
       "      <td>62</td>\n",
       "    </tr>\n",
       "    <tr>\n",
       "      <th>3</th>\n",
       "      <td>4</td>\n",
       "      <td>Sing</td>\n",
       "      <td>Animation,Comedy,Family</td>\n",
       "      <td>In a city of humanoid animals, a hustling thea...</td>\n",
       "      <td>Christophe Lourdelet</td>\n",
       "      <td>Matthew McConaughey,Reese Witherspoon, Seth Ma...</td>\n",
       "      <td>2016</td>\n",
       "      <td>113</td>\n",
       "      <td>7.2</td>\n",
       "      <td>60545</td>\n",
       "      <td>270.32</td>\n",
       "      <td>59</td>\n",
       "    </tr>\n",
       "    <tr>\n",
       "      <th>4</th>\n",
       "      <td>5</td>\n",
       "      <td>Suicide Squad</td>\n",
       "      <td>Action,Adventure,Fantasy</td>\n",
       "      <td>A secret government agency recruits some of th...</td>\n",
       "      <td>David Ayer</td>\n",
       "      <td>Will Smith, Jared Leto, Margot Robbie, Viola D...</td>\n",
       "      <td>2016</td>\n",
       "      <td>128</td>\n",
       "      <td>6.2</td>\n",
       "      <td>393727</td>\n",
       "      <td>325.02</td>\n",
       "      <td>40</td>\n",
       "    </tr>\n",
       "  </tbody>\n",
       "</table>\n",
       "</div>"
      ],
      "text/plain": [
       "   Rank                    Title                     Genre  \\\n",
       "0     1  Guardians of the Galaxy   Action,Adventure,Sci-Fi   \n",
       "1     2               Prometheus  Adventure,Mystery,Sci-Fi   \n",
       "2     3                    Split           Horror,Thriller   \n",
       "3     4                     Sing   Animation,Comedy,Family   \n",
       "4     5            Suicide Squad  Action,Adventure,Fantasy   \n",
       "\n",
       "                                         Description              Director  \\\n",
       "0  A group of intergalactic criminals are forced ...            James Gunn   \n",
       "1  Following clues to the origin of mankind, a te...          Ridley Scott   \n",
       "2  Three girls are kidnapped by a man with a diag...    M. Night Shyamalan   \n",
       "3  In a city of humanoid animals, a hustling thea...  Christophe Lourdelet   \n",
       "4  A secret government agency recruits some of th...            David Ayer   \n",
       "\n",
       "                                              Actors  Year  Runtime (Minutes)  \\\n",
       "0  Chris Pratt, Vin Diesel, Bradley Cooper, Zoe S...  2014                126   \n",
       "1  Noomi Rapace, Logan Marshall-Green, Michael Fa...  2012                129   \n",
       "2  James McAvoy, Anya Taylor-Joy, Haley Lu Richar...  2016                122   \n",
       "3  Matthew McConaughey,Reese Witherspoon, Seth Ma...  2016                113   \n",
       "4  Will Smith, Jared Leto, Margot Robbie, Viola D...  2016                128   \n",
       "\n",
       "   Rating   Votes  Revenue (Millions)  Metascore  \n",
       "0     8.1  757074              333.13         76  \n",
       "1     7.0  485820              126.46         65  \n",
       "2     7.3  157606              138.12         62  \n",
       "3     7.2   60545              270.32         59  \n",
       "4     6.2  393727              325.02         40  "
      ]
     },
     "execution_count": null,
     "metadata": {},
     "output_type": "execute_result"
    }
   ],
   "source": [
    "# Confirm\n",
    "df.head()"
   ]
  },
  {
   "cell_type": "markdown",
   "metadata": {},
   "source": [
    "### Challenge 2: Plot a bar chart of run times "
   ]
  },
  {
   "cell_type": "code",
   "execution_count": null,
   "metadata": {},
   "outputs": [
    {
     "data": {
      "text/plain": [
       "<AxesSubplot:ylabel='Frequency'>"
      ]
     },
     "execution_count": null,
     "metadata": {},
     "output_type": "execute_result"
    },
    {
     "data": {
      "image/png": "[encoded data removed]",
      "text/plain": [
       "<Figure size 640x480 with 1 Axes>"
      ]
     },
     "metadata": {},
     "output_type": "display_data"
    }
   ],
   "source": [
    "df[\"Runtime (Minutes)\"].plot.hist()"
   ]
  },
  {
   "cell_type": "markdown",
   "metadata": {},
   "source": [
    "### Challenge 3: Replace Horror with Comedy in all of the genres\n",
    "\n",
    "This is perfect for a sting method. Pandas string methods work the same as regular python string methods, but can be applied to an entire column (or columns)."
   ]
  },
  {
   "cell_type": "code",
   "execution_count": null,
   "metadata": {},
   "outputs": [],
   "source": [
    "df['Genre'] = df['Genre'].str.replace('Horror', 'Comedy')"
   ]
  },
  {
   "cell_type": "code",
   "execution_count": null,
   "metadata": {},
   "outputs": [
    {
     "data": {
      "text/html": [
       "<div>\n",
       "<style scoped>\n",
       "    .dataframe tbody tr th:only-of-type {\n",
       "        vertical-align: middle;\n",
       "    }\n",
       "\n",
       "    .dataframe tbody tr th {\n",
       "        vertical-align: top;\n",
       "    }\n",
       "\n",
       "    .dataframe thead th {\n",
       "        text-align: right;\n",
       "    }\n",
       "</style>\n",
       "<table border=\"1\" class=\"dataframe\">\n",
       "  <thead>\n",
       "    <tr style=\"text-align: right;\">\n",
       "      <th></th>\n",
       "      <th>Rank</th>\n",
       "      <th>Title</th>\n",
       "      <th>Genre</th>\n",
       "      <th>Description</th>\n",
       "      <th>Director</th>\n",
       "      <th>Actors</th>\n",
       "      <th>Year</th>\n",
       "      <th>Runtime (Minutes)</th>\n",
       "      <th>Rating</th>\n",
       "      <th>Votes</th>\n",
       "      <th>Revenue (Millions)</th>\n",
       "      <th>Metascore</th>\n",
       "    </tr>\n",
       "  </thead>\n",
       "  <tbody>\n",
       "    <tr>\n",
       "      <th>0</th>\n",
       "      <td>1</td>\n",
       "      <td>Guardians of the Galaxy</td>\n",
       "      <td>Action,Adventure,Sci-Fi</td>\n",
       "      <td>A group of intergalactic criminals are forced ...</td>\n",
       "      <td>James Gunn</td>\n",
       "      <td>Chris Pratt, Vin Diesel, Bradley Cooper, Zoe S...</td>\n",
       "      <td>2014</td>\n",
       "      <td>126</td>\n",
       "      <td>8.1</td>\n",
       "      <td>757074</td>\n",
       "      <td>333.13</td>\n",
       "      <td>76</td>\n",
       "    </tr>\n",
       "    <tr>\n",
       "      <th>1</th>\n",
       "      <td>2</td>\n",
       "      <td>Prometheus</td>\n",
       "      <td>Adventure,Mystery,Sci-Fi</td>\n",
       "      <td>Following clues to the origin of mankind, a te...</td>\n",
       "      <td>Ridley Scott</td>\n",
       "      <td>Noomi Rapace, Logan Marshall-Green, Michael Fa...</td>\n",
       "      <td>2012</td>\n",
       "      <td>129</td>\n",
       "      <td>7.0</td>\n",
       "      <td>485820</td>\n",
       "      <td>126.46</td>\n",
       "      <td>65</td>\n",
       "    </tr>\n",
       "    <tr>\n",
       "      <th>2</th>\n",
       "      <td>3</td>\n",
       "      <td>Split</td>\n",
       "      <td>Comedy,Thriller</td>\n",
       "      <td>Three girls are kidnapped by a man with a diag...</td>\n",
       "      <td>M. Night Shyamalan</td>\n",
       "      <td>James McAvoy, Anya Taylor-Joy, Haley Lu Richar...</td>\n",
       "      <td>2016</td>\n",
       "      <td>122</td>\n",
       "      <td>7.3</td>\n",
       "      <td>157606</td>\n",
       "      <td>138.12</td>\n",
       "      <td>62</td>\n",
       "    </tr>\n",
       "    <tr>\n",
       "      <th>3</th>\n",
       "      <td>4</td>\n",
       "      <td>Sing</td>\n",
       "      <td>Animation,Comedy,Family</td>\n",
       "      <td>In a city of humanoid animals, a hustling thea...</td>\n",
       "      <td>Christophe Lourdelet</td>\n",
       "      <td>Matthew McConaughey,Reese Witherspoon, Seth Ma...</td>\n",
       "      <td>2016</td>\n",
       "      <td>113</td>\n",
       "      <td>7.2</td>\n",
       "      <td>60545</td>\n",
       "      <td>270.32</td>\n",
       "      <td>59</td>\n",
       "    </tr>\n",
       "    <tr>\n",
       "      <th>4</th>\n",
       "      <td>5</td>\n",
       "      <td>Suicide Squad</td>\n",
       "      <td>Action,Adventure,Fantasy</td>\n",
       "      <td>A secret government agency recruits some of th...</td>\n",
       "      <td>David Ayer</td>\n",
       "      <td>Will Smith, Jared Leto, Margot Robbie, Viola D...</td>\n",
       "      <td>2016</td>\n",
       "      <td>128</td>\n",
       "      <td>6.2</td>\n",
       "      <td>393727</td>\n",
       "      <td>325.02</td>\n",
       "      <td>40</td>\n",
       "    </tr>\n",
       "  </tbody>\n",
       "</table>\n",
       "</div>"
      ],
      "text/plain": [
       "   Rank                    Title                     Genre  \\\n",
       "0     1  Guardians of the Galaxy   Action,Adventure,Sci-Fi   \n",
       "1     2               Prometheus  Adventure,Mystery,Sci-Fi   \n",
       "2     3                    Split           Comedy,Thriller   \n",
       "3     4                     Sing   Animation,Comedy,Family   \n",
       "4     5            Suicide Squad  Action,Adventure,Fantasy   \n",
       "\n",
       "                                         Description              Director  \\\n",
       "0  A group of intergalactic criminals are forced ...            James Gunn   \n",
       "1  Following clues to the origin of mankind, a te...          Ridley Scott   \n",
       "2  Three girls are kidnapped by a man with a diag...    M. Night Shyamalan   \n",
       "3  In a city of humanoid animals, a hustling thea...  Christophe Lourdelet   \n",
       "4  A secret government agency recruits some of th...            David Ayer   \n",
       "\n",
       "                                              Actors  Year  Runtime (Minutes)  \\\n",
       "0  Chris Pratt, Vin Diesel, Bradley Cooper, Zoe S...  2014                126   \n",
       "1  Noomi Rapace, Logan Marshall-Green, Michael Fa...  2012                129   \n",
       "2  James McAvoy, Anya Taylor-Joy, Haley Lu Richar...  2016                122   \n",
       "3  Matthew McConaughey,Reese Witherspoon, Seth Ma...  2016                113   \n",
       "4  Will Smith, Jared Leto, Margot Robbie, Viola D...  2016                128   \n",
       "\n",
       "   Rating   Votes  Revenue (Millions)  Metascore  \n",
       "0     8.1  757074              333.13         76  \n",
       "1     7.0  485820              126.46         65  \n",
       "2     7.3  157606              138.12         62  \n",
       "3     7.2   60545              270.32         59  \n",
       "4     6.2  393727              325.02         40  "
      ]
     },
     "execution_count": null,
     "metadata": {},
     "output_type": "execute_result"
    }
   ],
   "source": [
    "# Confirm\n",
    "df.head()"
   ]
  },
  {
   "cell_type": "code",
   "execution_count": null,
   "metadata": {},
   "outputs": [
    {
     "data": {
      "text/plain": [
       "False    1000\n",
       "Name: Genre, dtype: int64"
      ]
     },
     "execution_count": null,
     "metadata": {},
     "output_type": "execute_result"
    }
   ],
   "source": [
    "# Alternate way to confirm - I've since learnt that this might not be a super robust check!\n",
    "df['Genre'].isin(['Horror']).value_counts()"
   ]
  },
  {
   "cell_type": "markdown",
   "metadata": {},
   "source": [
    "### Challenge 4: Overrated/ Underrated "
   ]
  },
  {
   "cell_type": "code",
   "execution_count": null,
   "metadata": {},
   "outputs": [],
   "source": [
    "def overrated_func(row):\n",
    "    if row[\"Metascore\"] > row[\"Rating\"] * 10:\n",
    "        return \"Overrated\"\n",
    "    if row[\"Rating\"] * 10 >= row[\"Metascore\"]:\n",
    "        return \"Underrated\"\n"
   ]
  },
  {
   "cell_type": "code",
   "execution_count": null,
   "metadata": {},
   "outputs": [],
   "source": [
    "df[\"Overrated column\"] = df.apply(overrated_func, axis = 1)"
   ]
  },
  {
   "cell_type": "markdown",
   "metadata": {},
   "source": [
    "### Challenge 5: Correlation between \"Rating\" and \"Runtime\""
   ]
  },
  {
   "cell_type": "code",
   "execution_count": null,
   "metadata": {},
   "outputs": [
    {
     "data": {
      "text/html": [
       "<div>\n",
       "<style scoped>\n",
       "    .dataframe tbody tr th:only-of-type {\n",
       "        vertical-align: middle;\n",
       "    }\n",
       "\n",
       "    .dataframe tbody tr th {\n",
       "        vertical-align: top;\n",
       "    }\n",
       "\n",
       "    .dataframe thead th {\n",
       "        text-align: right;\n",
       "    }\n",
       "</style>\n",
       "<table border=\"1\" class=\"dataframe\">\n",
       "  <thead>\n",
       "    <tr style=\"text-align: right;\">\n",
       "      <th></th>\n",
       "      <th>Rank</th>\n",
       "      <th>Year</th>\n",
       "      <th>Runtime (Minutes)</th>\n",
       "      <th>Rating</th>\n",
       "      <th>Votes</th>\n",
       "      <th>Revenue (Millions)</th>\n",
       "      <th>Metascore</th>\n",
       "    </tr>\n",
       "  </thead>\n",
       "  <tbody>\n",
       "    <tr>\n",
       "      <th>Rank</th>\n",
       "      <td>1.000000</td>\n",
       "      <td>-0.261605</td>\n",
       "      <td>-0.221739</td>\n",
       "      <td>-0.219555</td>\n",
       "      <td>-0.283876</td>\n",
       "      <td>-0.262545</td>\n",
       "      <td>-0.166840</td>\n",
       "    </tr>\n",
       "    <tr>\n",
       "      <th>Year</th>\n",
       "      <td>-0.261605</td>\n",
       "      <td>1.000000</td>\n",
       "      <td>-0.164900</td>\n",
       "      <td>-0.211219</td>\n",
       "      <td>-0.411904</td>\n",
       "      <td>-0.181602</td>\n",
       "      <td>-0.094631</td>\n",
       "    </tr>\n",
       "    <tr>\n",
       "      <th>Runtime (Minutes)</th>\n",
       "      <td>-0.221739</td>\n",
       "      <td>-0.164900</td>\n",
       "      <td>1.000000</td>\n",
       "      <td>0.392214</td>\n",
       "      <td>0.407062</td>\n",
       "      <td>0.300004</td>\n",
       "      <td>0.210351</td>\n",
       "    </tr>\n",
       "    <tr>\n",
       "      <th>Rating</th>\n",
       "      <td>-0.219555</td>\n",
       "      <td>-0.211219</td>\n",
       "      <td>0.392214</td>\n",
       "      <td>1.000000</td>\n",
       "      <td>0.511537</td>\n",
       "      <td>0.251721</td>\n",
       "      <td>0.611092</td>\n",
       "    </tr>\n",
       "    <tr>\n",
       "      <th>Votes</th>\n",
       "      <td>-0.283876</td>\n",
       "      <td>-0.411904</td>\n",
       "      <td>0.407062</td>\n",
       "      <td>0.511537</td>\n",
       "      <td>1.000000</td>\n",
       "      <td>0.665175</td>\n",
       "      <td>0.329599</td>\n",
       "    </tr>\n",
       "    <tr>\n",
       "      <th>Revenue (Millions)</th>\n",
       "      <td>-0.262545</td>\n",
       "      <td>-0.181602</td>\n",
       "      <td>0.300004</td>\n",
       "      <td>0.251721</td>\n",
       "      <td>0.665175</td>\n",
       "      <td>1.000000</td>\n",
       "      <td>0.159088</td>\n",
       "    </tr>\n",
       "    <tr>\n",
       "      <th>Metascore</th>\n",
       "      <td>-0.166840</td>\n",
       "      <td>-0.094631</td>\n",
       "      <td>0.210351</td>\n",
       "      <td>0.611092</td>\n",
       "      <td>0.329599</td>\n",
       "      <td>0.159088</td>\n",
       "      <td>1.000000</td>\n",
       "    </tr>\n",
       "  </tbody>\n",
       "</table>\n",
       "</div>"
      ],
      "text/plain": [
       "                        Rank      Year  Runtime (Minutes)    Rating     Votes  \\\n",
       "Rank                1.000000 -0.261605          -0.221739 -0.219555 -0.283876   \n",
       "Year               -0.261605  1.000000          -0.164900 -0.211219 -0.411904   \n",
       "Runtime (Minutes)  -0.221739 -0.164900           1.000000  0.392214  0.407062   \n",
       "Rating             -0.219555 -0.211219           0.392214  1.000000  0.511537   \n",
       "Votes              -0.283876 -0.411904           0.407062  0.511537  1.000000   \n",
       "Revenue (Millions) -0.262545 -0.181602           0.300004  0.251721  0.665175   \n",
       "Metascore          -0.166840 -0.094631           0.210351  0.611092  0.329599   \n",
       "\n",
       "                    Revenue (Millions)  Metascore  \n",
       "Rank                         -0.262545  -0.166840  \n",
       "Year                         -0.181602  -0.094631  \n",
       "Runtime (Minutes)             0.300004   0.210351  \n",
       "Rating                        0.251721   0.611092  \n",
       "Votes                         0.665175   0.329599  \n",
       "Revenue (Millions)            1.000000   0.159088  \n",
       "Metascore                     0.159088   1.000000  "
      ]
     },
     "execution_count": null,
     "metadata": {},
     "output_type": "execute_result"
    }
   ],
   "source": [
    "df.corr(numeric_only=True) #Correlation is 0.392"
   ]
  },
  {
   "cell_type": "markdown",
   "metadata": {},
   "source": [
    "### Challenge 6: How are \"Year\" and \"Rating\" related? Have movies gotten worse with time?"
   ]
  },
  {
   "cell_type": "code",
   "execution_count": null,
   "metadata": {},
   "outputs": [],
   "source": [
    "import seaborn as sns"
   ]
  },
  {
   "cell_type": "code",
   "execution_count": null,
   "metadata": {},
   "outputs": [
    {
     "data": {
      "text/plain": [
       "<AxesSubplot:xlabel='Year', ylabel='Rating'>"
      ]
     },
     "execution_count": null,
     "metadata": {},
     "output_type": "execute_result"
    },
    {
     "data": {
      "image/png": "[encoded data removed]",
      "text/plain": [
       "<Figure size 640x480 with 1 Axes>"
      ]
     },
     "metadata": {},
     "output_type": "display_data"
    }
   ],
   "source": [
    "sns.regplot(data=df, x=\"Year\", y=\"Rating\") # Yes they have slightly!"
   ]
  },
  {
   "cell_type": "markdown",
   "metadata": {},
   "source": [
    "# 3. The Owen Wilson Wow API\n",
    "\n",
    "url: https://owen-wilson-wow-api.onrender.com/\n",
    "\n",
    "Some notes:\n",
    "- Put the API call in a different cell from displaying the response, this will allow you to play with the response object without repeating API calls.\n",
    "- the `.json()` method is turning the JSON recieved from the API into a data type that python can work with."
   ]
  },
  {
   "cell_type": "markdown",
   "metadata": {
    "tags": []
   },
   "source": [
    "## How `requests` library processes the `params` dictionary (optional for knowledge)\n",
    "\n",
    "The only thing that `params` is doing is altering the url string. This is not essential to know, feel free to skip."
   ]
  },
  {
   "cell_type": "code",
   "execution_count": null,
   "metadata": {},
   "outputs": [],
   "source": [
    "import requests"
   ]
  },
  {
   "cell_type": "code",
   "execution_count": null,
   "metadata": {
    "tags": []
   },
   "outputs": [
    {
     "data": {
      "text/plain": [
       "True"
      ]
     },
     "execution_count": null,
     "metadata": {},
     "output_type": "execute_result"
    }
   ],
   "source": [
    "# Request with params\n",
    "url = 'https://owen-wilson-wow-api.onrender.com/wows/random'\n",
    "params = {\n",
    "    'director': 'ben stiller',\n",
    "    'sort': 'director'\n",
    "}\n",
    "request_with_params = requests.get(url, params=params).json()\n",
    "\n",
    "# Request without params - Note that the params start at the ? in the url\n",
    "long_url = 'https://owen-wilson-wow-api.onrender.com/wows/random?director=ben+stiller&sort=director'\n",
    "request_no_params = requests.get(long_url).json()\n",
    "\n",
    "# Comfirm the responses are the same\n",
    "request_with_params == request_no_params"
   ]
  },
  {
   "cell_type": "code",
   "execution_count": null,
   "metadata": {},
   "outputs": [
    {
     "data": {
      "text/plain": [
       "(1, 1)"
      ]
     },
     "execution_count": null,
     "metadata": {},
     "output_type": "execute_result"
    }
   ],
   "source": [
    "len(request_no_params), len(request_with_params)"
   ]
  },
  {
   "cell_type": "code",
   "execution_count": null,
   "metadata": {},
   "outputs": [
    {
     "data": {
      "text/plain": [
       "(list, list)"
      ]
     },
     "execution_count": null,
     "metadata": {},
     "output_type": "execute_result"
    }
   ],
   "source": [
    "type(request_no_params), type(request_with_params)"
   ]
  },
  {
   "cell_type": "code",
   "execution_count": null,
   "metadata": {},
   "outputs": [],
   "source": [
    "# If you wanted to write a function to process the params and return a full string\n",
    "# It might look a like this:\n",
    "\n",
    "def process_params(url_string, params):\n",
    "    # Replace whitespace for + in values - using dictionary comprehension\n",
    "    params = {k: str(v).replace(\" \", \"+\") for k, v in params.items()}\n",
    "\n",
    "    # Change params from dictionary of key-value pairs to list of \"key=value\" strings\n",
    "    params_as_list = [f\"{key}={value}\" for key, value in params.items()]\n",
    "\n",
    "    # Join params together using & (joined params is a single string)\n",
    "    joined_params = \"&\".join(params_as_list)\n",
    "\n",
    "    # Return whole url as a string\n",
    "    return f\"{url_string}?{joined_params}\""
   ]
  },
  {
   "cell_type": "code",
   "execution_count": null,
   "metadata": {},
   "outputs": [
    {
     "data": {
      "text/plain": [
       "'https://owen-wilson-wow-api.onrender.com/wows/random?director=ben+stiller&sort=director'"
      ]
     },
     "execution_count": null,
     "metadata": {},
     "output_type": "execute_result"
    }
   ],
   "source": [
    "process_params(url, params)"
   ]
  },
  {
   "cell_type": "code",
   "execution_count": null,
   "metadata": {},
   "outputs": [
    {
     "data": {
      "text/plain": [
       "True"
      ]
     },
     "execution_count": null,
     "metadata": {},
     "output_type": "execute_result"
    }
   ],
   "source": [
    "process_params(url, params) == long_url"
   ]
  },
  {
   "cell_type": "markdown",
   "metadata": {},
   "source": [
    "## 2.1. Get 2 random Wows from the API and specify the return object data structure (json) "
   ]
  },
  {
   "cell_type": "code",
   "execution_count": null,
   "metadata": {},
   "outputs": [],
   "source": [
    "url = 'https://owen-wilson-wow-api.onrender.com/wows/random?results=2'"
   ]
  },
  {
   "cell_type": "code",
   "execution_count": null,
   "metadata": {
    "tags": []
   },
   "outputs": [
    {
     "data": {
      "text/plain": [
       "[{'movie': 'Marmaduke',\n",
       "  'year': 2010,\n",
       "  'release_date': '2010-06-04',\n",
       "  'director': 'Tom Dey',\n",
       "  'character': 'Marmaduke',\n",
       "  'movie_duration': '01:28:10',\n",
       "  'timestamp': '01:19:17',\n",
       "  'full_line': 'Wow.',\n",
       "  'current_wow_in_movie': 4,\n",
       "  'total_wows_in_movie': 4,\n",
       "  'poster': 'https://images.ctfassets.net/bs8ntwkklfua/1M4wQc5Rkk9mlcKB5Z4fga/25fef21907983d1d667e7e28c6a0ed14/Marmaduke_Poster.jpg',\n",
       "  'video': {'1080p': 'https://videos.ctfassets.net/bs8ntwkklfua/4MnTATqrpxkz0npyl1cojG/1de6cb4654bf0778468ade8c2db5e179/Marmaduke_Wow_4_1080p.mp4',\n",
       "   '720p': 'https://videos.ctfassets.net/bs8ntwkklfua/7mDZs5juxvPsLPxciMQpXc/60d4877b53b1479e9518ce1251384a81/Marmaduke_Wow_4_720p.mp4',\n",
       "   '480p': 'https://videos.ctfassets.net/bs8ntwkklfua/53RXTPUwA11sohwArW18rX/e06a9174143a598e3a00c810e9f266ee/Marmaduke_Wow_4_480p.mp4',\n",
       "   '360p': 'https://videos.ctfassets.net/bs8ntwkklfua/1uiC9TvAv2UyogVDyVnqsI/defd319962ec52cf754ef041acfe4d48/Marmaduke_Wow_4_360p.mp4'},\n",
       "  'audio': 'https://assets.ctfassets.net/bs8ntwkklfua/6CTECWjXKpX9cQsyAsZucB/0aaa6cc30fd1e98c001a75f57f3f1705/Marmaduke_Wow_4.mp3'},\n",
       " {'movie': 'No Escape',\n",
       "  'year': 2015,\n",
       "  'release_date': '2015-08-26',\n",
       "  'director': 'John Erick Dowdle',\n",
       "  'character': 'Jack Dwyer',\n",
       "  'movie_duration': '01:43:06',\n",
       "  'timestamp': '00:08:11',\n",
       "  'full_line': 'Wow.',\n",
       "  'current_wow_in_movie': 1,\n",
       "  'total_wows_in_movie': 2,\n",
       "  'poster': 'https://images.ctfassets.net/bs8ntwkklfua/R3PGhNHo0k5uhnPM7bqIp/5e2b3723c69f7c70313be19417c6fdba/No_Escape_Poster.jpg',\n",
       "  'video': {'1080p': 'https://videos.ctfassets.net/bs8ntwkklfua/3WxIt1hZQtpqnveyAb4xw3/54773cfd70ab4380c47048324f216fc4/No_Escape_Wow_1_1080p.mp4',\n",
       "   '720p': 'https://videos.ctfassets.net/bs8ntwkklfua/2JcYMonzmocD3qABm1dpNg/019b752a33b2517033d75ea5bfd20b59/No_Escape_Wow_1_720p.mp4',\n",
       "   '480p': 'https://videos.ctfassets.net/bs8ntwkklfua/5QMtRpqqyfg9irqjPPx5JO/5a24212c22dc20944b5831e5b81efe4d/No_Escape_Wow_1_480p.mp4',\n",
       "   '360p': 'https://videos.ctfassets.net/bs8ntwkklfua/6aou6AH16gfvXSccxgcZFf/347d5ff951c851d5fe9928323e6067eb/No_Escape_Wow_1_360p.mp4'},\n",
       "  'audio': 'https://assets.ctfassets.net/bs8ntwkklfua/24lDtvWBG8mDqaqBM8Qsr0/4c08f87367dd3399efb6a5554f6f4858/No_Escape_Wow_1.mp3'}]"
      ]
     },
     "execution_count": null,
     "metadata": {},
     "output_type": "execute_result"
    }
   ],
   "source": [
    "response = requests.get(url).json()\n",
    "response"
   ]
  },
  {
   "cell_type": "code",
   "execution_count": null,
   "metadata": {},
   "outputs": [
    {
     "data": {
      "text/plain": [
       "(list, dict)"
      ]
     },
     "execution_count": null,
     "metadata": {},
     "output_type": "execute_result"
    }
   ],
   "source": [
    "type(response), type(response[0])"
   ]
  },
  {
   "cell_type": "code",
   "execution_count": null,
   "metadata": {},
   "outputs": [],
   "source": [
    "# The data structure being returned is a list of dictionaries"
   ]
  },
  {
   "cell_type": "markdown",
   "metadata": {},
   "source": [
    "## 2.2. How many data fields are being returned per wow? Put them into a list."
   ]
  },
  {
   "cell_type": "code",
   "execution_count": null,
   "metadata": {},
   "outputs": [
    {
     "data": {
      "text/plain": [
       "13"
      ]
     },
     "execution_count": null,
     "metadata": {},
     "output_type": "execute_result"
    }
   ],
   "source": [
    "len(response[0].keys())"
   ]
  },
  {
   "cell_type": "markdown",
   "metadata": {},
   "source": [
    "## 2.3. In 10 random Wows, place the character that Owen Wilson is playing for that Wow into a list"
   ]
  },
  {
   "cell_type": "code",
   "execution_count": null,
   "metadata": {},
   "outputs": [],
   "source": [
    "url = 'https://owen-wilson-wow-api.onrender.com/wows/random'\n",
    "params = {\n",
    "    'results': '10'\n",
    "}\n",
    "\n",
    "response = requests.get(url, params=params).json()"
   ]
  },
  {
   "cell_type": "code",
   "execution_count": null,
   "metadata": {},
   "outputs": [],
   "source": [
    "# For loop"
   ]
  },
  {
   "cell_type": "code",
   "execution_count": null,
   "metadata": {},
   "outputs": [
    {
     "data": {
      "text/plain": [
       "['Kevin Rawley',\n",
       " 'Alexander Scott',\n",
       " 'Reggie',\n",
       " 'Jedediah Smith',\n",
       " 'Kevin Rawley',\n",
       " 'John Grogan',\n",
       " 'Alexander Scott',\n",
       " 'John Beckwith',\n",
       " 'Hansel McDonald',\n",
       " \"Roy O'Bannon\"]"
      ]
     },
     "execution_count": null,
     "metadata": {},
     "output_type": "execute_result"
    }
   ],
   "source": [
    "characters = []\n",
    "for wow in response:\n",
    "    characters.append(wow['character'])\n",
    "characters"
   ]
  },
  {
   "cell_type": "code",
   "execution_count": null,
   "metadata": {},
   "outputs": [
    {
     "data": {
      "text/plain": [
       "[\"Roy O'Bannon\",\n",
       " \"Roy O'Bannon\",\n",
       " 'Dignan',\n",
       " 'Marmaduke',\n",
       " 'Rick Mills',\n",
       " 'Lightning McQueen',\n",
       " 'Gil Pender',\n",
       " 'Lighting McQueen',\n",
       " 'Lightning McQueen',\n",
       " 'Lighting McQueen']"
      ]
     },
     "execution_count": null,
     "metadata": {},
     "output_type": "execute_result"
    }
   ],
   "source": [
    "# Comprehension\n",
    "characters = [wow['character'] for wow in response]\n",
    "characters"
   ]
  },
  {
   "cell_type": "markdown",
   "metadata": {},
   "source": [
    "## 2.4. Return a list of all movies with titles three words or longer that Owen Wilson wowed in.\n",
    "### Hint: We'll need to use the \"movies\" endpoint"
   ]
  },
  {
   "cell_type": "code",
   "execution_count": null,
   "metadata": {},
   "outputs": [],
   "source": [
    "# Use a different endpoint\n",
    "url = 'https://owen-wilson-wow-api.onrender.com/wows/movies'\n",
    "\n",
    "response = requests.get(url).json()"
   ]
  },
  {
   "cell_type": "code",
   "execution_count": null,
   "metadata": {},
   "outputs": [
    {
     "data": {
      "text/plain": [
       "['Breakfast of Champions',\n",
       " 'Meet the Parents',\n",
       " 'The Big Bounce',\n",
       " 'Starsky & Hutch',\n",
       " 'You, Me and Dupree',\n",
       " 'The Darjeeling Limited',\n",
       " 'Marley & Me',\n",
       " 'Midnight in Paris',\n",
       " 'The Big Year',\n",
       " 'Are You Here',\n",
       " 'Night at the Museum: Secret of the Tomb']"
      ]
     },
     "execution_count": null,
     "metadata": {},
     "output_type": "execute_result"
    }
   ],
   "source": [
    "# for loop\n",
    "movies = []\n",
    "\n",
    "for movie in response:\n",
    "    # check the length of the title by splitting into a list and finding it's length\n",
    "    if len(movie.split()) >= 3:\n",
    "        movies.append(movie)\n",
    "\n",
    "movies"
   ]
  },
  {
   "cell_type": "code",
   "execution_count": null,
   "metadata": {
    "tags": [
     "hide-output"
    ]
   },
   "outputs": [
    {
     "data": {
      "text/plain": [
       "['Breakfast of Champions',\n",
       " 'Meet the Parents',\n",
       " 'The Big Bounce',\n",
       " 'Starsky & Hutch',\n",
       " 'You, Me and Dupree',\n",
       " 'The Darjeeling Limited',\n",
       " 'Marley & Me',\n",
       " 'Midnight in Paris',\n",
       " 'The Big Year',\n",
       " 'Are You Here',\n",
       " 'Night at the Museum: Secret of the Tomb']"
      ]
     },
     "execution_count": null,
     "metadata": {},
     "output_type": "execute_result"
    }
   ],
   "source": [
    "# Comprehension\n",
    "movies = [movie for movie in response if len(movie.split()) >= 3]\n",
    "movies"
   ]
  },
  {
   "cell_type": "markdown",
   "metadata": {},
   "source": [
    "## 2.5. How many movies did Owen Wilson Wow in with movie titles that contain a non-alphanumeric character"
   ]
  },
  {
   "cell_type": "code",
   "execution_count": null,
   "metadata": {},
   "outputs": [
    {
     "data": {
      "text/plain": [
       "['Starsky & Hutch',\n",
       " 'You, Me and Dupree',\n",
       " 'Marley & Me',\n",
       " 'Night at the Museum: Secret of the Tomb']"
      ]
     },
     "execution_count": null,
     "metadata": {},
     "output_type": "execute_result"
    }
   ],
   "source": [
    "# We can use the previous response\n",
    "\n",
    "# For loop\n",
    "for_fun_movies = []\n",
    "for movie in response:\n",
    "    if movie.replace(\" \", \"\").isalnum() == False:\n",
    "        for_fun_movies.append(movie)\n",
    "\n",
    "for_fun_movies"
   ]
  },
  {
   "cell_type": "code",
   "execution_count": null,
   "metadata": {},
   "outputs": [
    {
     "data": {
      "text/plain": [
       "['Starsky & Hutch',\n",
       " 'You, Me and Dupree',\n",
       " 'Marley & Me',\n",
       " 'Night at the Museum: Secret of the Tomb']"
      ]
     },
     "execution_count": null,
     "metadata": {},
     "output_type": "execute_result"
    }
   ],
   "source": [
    "# List Comprehension\n",
    "fun_movies = [movie for movie in response if movie.replace(\" \", \"\").isalnum() == False]\n",
    "fun_movies"
   ]
  },
  {
   "cell_type": "markdown",
   "metadata": {},
   "source": [
    "## 2.6. What was the full line of Owen Wilsons 31'st wow?"
   ]
  },
  {
   "cell_type": "code",
   "execution_count": null,
   "metadata": {},
   "outputs": [],
   "source": [
    "url = 'https://owen-wilson-wow-api.onrender.com/wows/ordered/31'\n",
    "response = requests.get(url).json()"
   ]
  },
  {
   "cell_type": "code",
   "execution_count": null,
   "metadata": {},
   "outputs": [
    {
     "data": {
      "text/plain": [
       "\"Wow! You're amazing!\""
      ]
     },
     "execution_count": null,
     "metadata": {},
     "output_type": "execute_result"
    }
   ],
   "source": [
    "response['full_line']"
   ]
  },
  {
   "cell_type": "markdown",
   "metadata": {},
   "source": [
    "## 2.7. Which movie did Owen Wilson Wow the most in?"
   ]
  },
  {
   "cell_type": "code",
   "execution_count": null,
   "metadata": {},
   "outputs": [],
   "source": [
    "# Using the API Docs, we can obtain an ordered response of every on screen wow (WOW!)\n",
    "\n",
    "url = 'https://owen-wilson-wow-api.onrender.com/wows/random'\n",
    "params = {\n",
    "    'results': '91',\n",
    "    'sort': 'number_current_wow',\n",
    "    'direction': 'desc'\n",
    "}\n",
    "\n",
    "response = requests.get(url, params=params).json()"
   ]
  },
  {
   "cell_type": "code",
   "execution_count": null,
   "metadata": {},
   "outputs": [
    {
     "data": {
      "text/plain": [
       "[{'movie': 'Cars 3',\n",
       "  'year': 2017,\n",
       "  'release_date': '2017-05-23',\n",
       "  'director': 'Brian Fee',\n",
       "  'character': 'Lighting McQueen',\n",
       "  'movie_duration': '01:42:25',\n",
       "  'timestamp': '01:03:08',\n",
       "  'full_line': \"Wow. You don't mince words around here, do you?\",\n",
       "  'current_wow_in_movie': 10,\n",
       "  'total_wows_in_movie': 10,\n",
       "  'poster': 'https://images.ctfassets.net/bs8ntwkklfua/43fOBsgY8iOJL0dijvFnfl/ea361efc5131a859c173ab5dd3fdfe1e/Cars_3_Poster.jpg',\n",
       "  'video': {'1080p': 'https://videos.ctfassets.net/bs8ntwkklfua/3KJZ435sr6Y5k00AnZdOJ2/2aadc7fbc687b38c3f1536a9efc16cdb/Cars_3_Wow_10_1080p.mp4',\n",
       "   '720p': 'https://videos.ctfassets.net/bs8ntwkklfua/5vQtn6ny9J79PNG16jsJMR/1b4804366cfb9206d70472ab9b7f37e6/Cars_3_Wow_10_720p.mp4',\n",
       "   '480p': 'https://videos.ctfassets.net/bs8ntwkklfua/6kIDoftFyBJOgvCBe5Jr5k/51be6dcd0a40aff052a4215258f6f2cb/Cars_3_Wow_10_480p.mp4',\n",
       "   '360p': 'https://videos.ctfassets.net/bs8ntwkklfua/923BnYGWVuiPpWeM7e6wv/db39600a6bd7c6a807e95d397d129dd4/Cars_3_Wow_10_360p.mp4'},\n",
       "  'audio': 'https://assets.ctfassets.net/bs8ntwkklfua/3iZaUMMLnxCH1fIqcXpYZ0/78e6ee967cae46e64a6f65c6f451115a/Cars_3_Wow_10.mp3'},\n",
       " {'movie': 'Midnight in Paris',\n",
       "  'year': 2011,\n",
       "  'release_date': '2011-05-20',\n",
       "  'director': 'Woody Allen',\n",
       "  'character': 'Gil Pender',\n",
       "  'movie_duration': '01:33:57',\n",
       "  'timestamp': '01:28:59',\n",
       "  'full_line': 'Wow, what are you doing here?',\n",
       "  'current_wow_in_movie': 10,\n",
       "  'total_wows_in_movie': 10,\n",
       "  'poster': 'https://images.ctfassets.net/bs8ntwkklfua/2ZcfSCe2dlfoVzYMr4b9nK/d566e5ad044dee56645f3bffc7200d64/Midnight_in_Paris_Poster.jpg',\n",
       "  'video': {'1080p': 'https://videos.ctfassets.net/bs8ntwkklfua/53qNbwo1bhqRIdsEHPpTgL/83469d1bfc1c01d25aa5b213609ee988/Midnight_in_Paris_Wow_10_1080p.mp4',\n",
       "   '720p': 'https://videos.ctfassets.net/bs8ntwkklfua/35tFTqQO7ZiLnWaxpOGtGd/fde41f2592c8c841dead7fa602dec360/Midnight_in_Paris_Wow_10_720p.mp4',\n",
       "   '480p': 'https://videos.ctfassets.net/bs8ntwkklfua/37JfmMxgY5URkfzGHVFzz6/7b3a2c28337b907156b9d188d915f808/Midnight_in_Paris_Wow_10_480p.mp4',\n",
       "   '360p': 'https://videos.ctfassets.net/bs8ntwkklfua/1ADFvq1Y1NNvDPuxE4oeGw/99238d021f9cd98b7599401ec0f89a9e/Midnight_in_Paris_Wow_10_360p.mp4'},\n",
       "  'audio': 'https://assets.ctfassets.net/bs8ntwkklfua/3Zzh5NfDdGzKcccwAvxssg/827fd8154ea1e0bad32805adb176d9f5/Midnight_in_Paris_Wow_10.mp3'},\n",
       " {'movie': 'Midnight in Paris',\n",
       "  'year': 2011,\n",
       "  'release_date': '2011-05-20',\n",
       "  'director': 'Woody Allen',\n",
       "  'character': 'Gil Pender',\n",
       "  'movie_duration': '01:33:57',\n",
       "  'timestamp': '01:28:53',\n",
       "  'full_line': 'Wow.',\n",
       "  'current_wow_in_movie': 9,\n",
       "  'total_wows_in_movie': 10,\n",
       "  'poster': 'https://images.ctfassets.net/bs8ntwkklfua/2ZcfSCe2dlfoVzYMr4b9nK/d566e5ad044dee56645f3bffc7200d64/Midnight_in_Paris_Poster.jpg',\n",
       "  'video': {'1080p': 'https://videos.ctfassets.net/bs8ntwkklfua/45Q0ffzvqoAkiUhc1jiFLZ/842a556b8b1ee4dbef293b8cb7388501/Midnight_in_Paris_Wow_9_1080p.mp4',\n",
       "   '720p': 'https://videos.ctfassets.net/bs8ntwkklfua/20j8Gggdcxtc42l8Uy0w4y/9bd84d693c77933a7568c6cfc62539d1/Midnight_in_Paris_Wow_9_720p.mp4',\n",
       "   '480p': 'https://videos.ctfassets.net/bs8ntwkklfua/4pQPn6Mo9Gx9NE7PPNrIRR/28cdc9c9bd7cc6f130a4e3a572d35a43/Midnight_in_Paris_Wow_9_480p.mp4',\n",
       "   '360p': 'https://videos.ctfassets.net/bs8ntwkklfua/3BWSfUucHzuSDOhZ1ihL0K/00b5e18f5f7bd4d1c242fede8127e66f/Midnight_in_Paris_Wow_9_360p.mp4'},\n",
       "  'audio': 'https://assets.ctfassets.net/bs8ntwkklfua/01NH6ZBGnZUXfMSzzYaGLG/8e2a79cc4447ae85542233410309daf0/Midnight_in_Paris_Wow_9.mp3'},\n",
       " {'movie': 'Cars 3',\n",
       "  'year': 2017,\n",
       "  'release_date': '2017-05-23',\n",
       "  'director': 'Brian Fee',\n",
       "  'character': 'Lighting McQueen',\n",
       "  'movie_duration': '01:42:25',\n",
       "  'timestamp': '01:01:00',\n",
       "  'full_line': 'Wow! If this track could talk.',\n",
       "  'current_wow_in_movie': 9,\n",
       "  'total_wows_in_movie': 10,\n",
       "  'poster': 'https://images.ctfassets.net/bs8ntwkklfua/43fOBsgY8iOJL0dijvFnfl/ea361efc5131a859c173ab5dd3fdfe1e/Cars_3_Poster.jpg',\n",
       "  'video': {'1080p': 'https://videos.ctfassets.net/bs8ntwkklfua/3gPhAoO2LZIm0gzabDjz7Z/a760747d57c79919d11ab0f5d375d941/Cars_3_Wow_9_1080p.mp4',\n",
       "   '720p': 'https://videos.ctfassets.net/bs8ntwkklfua/7bPOEzJtYhDXbpOs6kgdkx/c14bae22c91df66464b6618d482d870f/Cars_3_Wow_9_720p.mp4',\n",
       "   '480p': 'https://videos.ctfassets.net/bs8ntwkklfua/2DfiudsiNA5n0CR2ibzu38/a405bd61b9c11240aa4dd7e163cc0903/Cars_3_Wow_9_480p.mp4',\n",
       "   '360p': 'https://videos.ctfassets.net/bs8ntwkklfua/5hqNcasvZElh5BBsqfIfGe/4290d6abe948dd3748174f7b9ec8e99d/Cars_3_Wow_9_360p.mp4'},\n",
       "  'audio': 'https://assets.ctfassets.net/bs8ntwkklfua/7dtp0B7f3vxAv7Gx9ojPH/cbd707a4b762e8032ce619c6f8e62cd9/Cars_3_Wow_9.mp3'},\n",
       " {'movie': 'Midnight in Paris',\n",
       "  'year': 2011,\n",
       "  'release_date': '2011-05-20',\n",
       "  'director': 'Woody Allen',\n",
       "  'character': 'Gil Pender',\n",
       "  'movie_duration': '01:33:57',\n",
       "  'timestamp': '01:20:58',\n",
       "  'full_line': \"Wow, it didn't take Gaugin long to start steaming in.\",\n",
       "  'current_wow_in_movie': 8,\n",
       "  'total_wows_in_movie': 10,\n",
       "  'poster': 'https://images.ctfassets.net/bs8ntwkklfua/2ZcfSCe2dlfoVzYMr4b9nK/d566e5ad044dee56645f3bffc7200d64/Midnight_in_Paris_Poster.jpg',\n",
       "  'video': {'1080p': 'https://videos.ctfassets.net/bs8ntwkklfua/5aDODF9NxMU99or8dLPrvG/f47a3624ebbff94bcdfbccfd91d9a784/Midnight_in_Paris_Wow_8_1080p.mp4',\n",
       "   '720p': 'https://videos.ctfassets.net/bs8ntwkklfua/2jnrWhZw8SgoyyKO0VPGuU/57e53de03b11c4037c72a188d1fa9971/Midnight_in_Paris_Wow_8_720p.mp4',\n",
       "   '480p': 'https://videos.ctfassets.net/bs8ntwkklfua/1pXqS5q7zVz2XyR78aLgwr/ce9bd68ee8e1cd162f9a678f5e90d988/Midnight_in_Paris_Wow_8_480p.mp4',\n",
       "   '360p': 'https://videos.ctfassets.net/bs8ntwkklfua/1aBBzoY05PkO4ugVZbmcDz/419f94c7166694e62e9e39b01643c026/Midnight_in_Paris_Wow_8_360p.mp4'},\n",
       "  'audio': 'https://assets.ctfassets.net/bs8ntwkklfua/2xSXBwWS7KcGf9vmBcmCfU/32c5a1a914ac3aa8874d4d61f95a33dd/Midnight_in_Paris_Wow_8.mp3'}]"
      ]
     },
     "execution_count": null,
     "metadata": {},
     "output_type": "execute_result"
    }
   ],
   "source": [
    "# Inspect response\n",
    "response[:5]"
   ]
  },
  {
   "cell_type": "code",
   "execution_count": null,
   "metadata": {},
   "outputs": [
    {
     "data": {
      "text/plain": [
       "['Cars 3', 'Midnight in Paris']"
      ]
     },
     "execution_count": null,
     "metadata": {},
     "output_type": "execute_result"
    }
   ],
   "source": [
    "# Looks like a tie between 'Midnight in Paris' and 'Cars 3'\n",
    "top_wows_in_movies = []\n",
    "\n",
    "# Loop through the two top movies with a slice\n",
    "for wow in response[:2]:\n",
    "    top_wows_in_movies.append(wow['movie'])\n",
    "\n",
    "top_wows_in_movies"
   ]
  },
  {
   "cell_type": "code",
   "execution_count": null,
   "metadata": {},
   "outputs": [
    {
     "data": {
      "text/plain": [
       "['Cars 3', 'Midnight in Paris']"
      ]
     },
     "execution_count": null,
     "metadata": {},
     "output_type": "execute_result"
    }
   ],
   "source": [
    "# As comprehension\n",
    "top_wows_in_movies = [movie['movie'] for movie in response[:2]]\n",
    "top_wows_in_movies"
   ]
  },
  {
   "cell_type": "markdown",
   "metadata": {},
   "source": [
    "## 2.8. What Directors Experienced the most Wows"
   ]
  },
  {
   "cell_type": "code",
   "execution_count": null,
   "metadata": {},
   "outputs": [
    {
     "data": {
      "text/plain": [
       "{'movie': 'Cars 3',\n",
       " 'year': 2017,\n",
       " 'release_date': '2017-05-23',\n",
       " 'director': 'Brian Fee',\n",
       " 'character': 'Lighting McQueen',\n",
       " 'movie_duration': '01:42:25',\n",
       " 'timestamp': '01:03:08',\n",
       " 'full_line': \"Wow. You don't mince words around here, do you?\",\n",
       " 'current_wow_in_movie': 10,\n",
       " 'total_wows_in_movie': 10,\n",
       " 'poster': 'https://images.ctfassets.net/bs8ntwkklfua/43fOBsgY8iOJL0dijvFnfl/ea361efc5131a859c173ab5dd3fdfe1e/Cars_3_Poster.jpg',\n",
       " 'video': {'1080p': 'https://videos.ctfassets.net/bs8ntwkklfua/3KJZ435sr6Y5k00AnZdOJ2/2aadc7fbc687b38c3f1536a9efc16cdb/Cars_3_Wow_10_1080p.mp4',\n",
       "  '720p': 'https://videos.ctfassets.net/bs8ntwkklfua/5vQtn6ny9J79PNG16jsJMR/1b4804366cfb9206d70472ab9b7f37e6/Cars_3_Wow_10_720p.mp4',\n",
       "  '480p': 'https://videos.ctfassets.net/bs8ntwkklfua/6kIDoftFyBJOgvCBe5Jr5k/51be6dcd0a40aff052a4215258f6f2cb/Cars_3_Wow_10_480p.mp4',\n",
       "  '360p': 'https://videos.ctfassets.net/bs8ntwkklfua/923BnYGWVuiPpWeM7e6wv/db39600a6bd7c6a807e95d397d129dd4/Cars_3_Wow_10_360p.mp4'},\n",
       " 'audio': 'https://assets.ctfassets.net/bs8ntwkklfua/3iZaUMMLnxCH1fIqcXpYZ0/78e6ee967cae46e64a6f65c6f451115a/Cars_3_Wow_10.mp3'}"
      ]
     },
     "execution_count": null,
     "metadata": {},
     "output_type": "execute_result"
    }
   ],
   "source": [
    "# We can use the previous response of every wow and filter for only max wows per movie\n",
    "\n",
    "# First look at the single wow to remind us of the structure and what might be useful\n",
    "response[0]"
   ]
  },
  {
   "cell_type": "code",
   "execution_count": null,
   "metadata": {},
   "outputs": [
    {
     "data": {
      "text/plain": [
       "{'Brian Fee': 10,\n",
       " 'Woody Allen': 10,\n",
       " 'Peter Farrelly and Bobby Farrelly': 6,\n",
       " 'David Dobkin': 10,\n",
       " 'John Lasseter': 6,\n",
       " 'Shawn Levy': 6,\n",
       " 'Jan de Bont': 5,\n",
       " 'Tom Dey': 5,\n",
       " 'Betty Thomas': 3,\n",
       " 'Wes Anderson': 4,\n",
       " 'Jimmy Hayward': 3,\n",
       " 'David Frankel': 6,\n",
       " 'Jay Roach': 2,\n",
       " 'Paul Weitz': 2,\n",
       " 'John Erick Dowdle': 2,\n",
       " 'Matthew Weiner': 2,\n",
       " 'Steven Brill': 2,\n",
       " 'George Armitage': 2,\n",
       " 'Todd Phillips': 1,\n",
       " 'Ben Stiller': 1,\n",
       " 'Joe Russo and Anthony Russo': 1,\n",
       " 'Alan Rudolph': 1,\n",
       " 'Lawrence Sher': 1}"
      ]
     },
     "execution_count": null,
     "metadata": {},
     "output_type": "execute_result"
    }
   ],
   "source": [
    "# We only need total_wows_in_movie for each movie, having individual wows isn't really useful in this scenario (wow...)\n",
    "max_only = [wow for wow in response if wow['current_wow_in_movie'] == wow['total_wows_in_movie']]\n",
    "\n",
    "directors_wow = {}\n",
    "\n",
    "for wow in max_only:\n",
    "\n",
    "    # check to see if a director is present in directors_wow, if it IS NOT, create a new key: value pair in the dictionary and set value to zero\n",
    "    if wow['director'] not in directors_wow.keys():\n",
    "        directors_wow[wow['director']] = 0\n",
    "\n",
    "    # Add wows from movie to director\n",
    "    directors_wow[wow['director']] += wow['total_wows_in_movie']\n",
    "\n",
    "directors_wow"
   ]
  },
  {
   "cell_type": "markdown",
   "metadata": {},
   "source": [
    "## 2.9. In what movies and How many total wows happened between 2005 and 2010 after the 45 minute mark?\n",
    "\n",
    "Return as a dictionary `{movies: [list of movies], total_wows: some_integer}`\n",
    "\n",
    "Hint: start with a response of all wows and related metadata and use an intermediate data structure between response and output dict"
   ]
  },
  {
   "cell_type": "code",
   "execution_count": null,
   "metadata": {},
   "outputs": [],
   "source": [
    "url = 'https://owen-wilson-wow-api.onrender.com/wows/random'\n",
    "params = {\n",
    "    'results': '91',\n",
    "    'sort': 'number_current_wow',\n",
    "    'direction': 'desc'\n",
    "}\n",
    "\n",
    "response = requests.get(url, params=params).json()"
   ]
  },
  {
   "cell_type": "code",
   "execution_count": null,
   "metadata": {},
   "outputs": [
    {
     "data": {
      "text/plain": [
       "{'Wedding Crashers': 6,\n",
       " 'Cars': 5,\n",
       " 'Marmaduke': 4,\n",
       " 'Marley & Me': 3,\n",
       " 'Little Fockers': 2,\n",
       " 'Drillbit Taylor': 2,\n",
       " 'The Darjeeling Limited': 1,\n",
       " 'You, Me and Dupree': 1}"
      ]
     },
     "execution_count": null,
     "metadata": {},
     "output_type": "execute_result"
    }
   ],
   "source": [
    "# We will need to iterate over every wow individually to because of the timestamp check\n",
    "# The intermediate structure that is useful is a dictionary with movies : num_wows\n",
    "\n",
    "movies_and_wows = {}\n",
    "\n",
    "for wow in response:\n",
    "    # Check to see if movie is in the specified range\n",
    "    if wow['year'] >= 2005 and wow['year'] <= 2010:\n",
    "        # Now check time stamps\n",
    "        # If the minute value is >= 45 or the hour is >= 1, that should satisfy\n",
    "        # We can split the time_stamp on ':' and cast to an integer\n",
    "        hour_stamp = int(wow['movie_duration'].split(':')[0])\n",
    "        min_stamp = int(wow['movie_duration'].split(':')[1])\n",
    "\n",
    "        # Check to see if wow occurs after the required time\n",
    "        if hour_stamp >= 1 or min_stamp >= 45:\n",
    "\n",
    "            # Add the movie to movies_and_wows as a key to the dictionary if it does not already exist\n",
    "            if wow['movie'] not in movies_and_wows.keys():\n",
    "                movies_and_wows[wow['movie']] = 0\n",
    "\n",
    "            # Increment the wow count associated with the movie\n",
    "            movies_and_wows[wow['movie']] += 1\n",
    "\n",
    "movies_and_wows"
   ]
  },
  {
   "cell_type": "code",
   "execution_count": null,
   "metadata": {},
   "outputs": [
    {
     "data": {
      "text/plain": [
       "{'movies': ['Wedding Crashers',\n",
       "  'Cars',\n",
       "  'Marmaduke',\n",
       "  'Marley & Me',\n",
       "  'Little Fockers',\n",
       "  'Drillbit Taylor',\n",
       "  'The Darjeeling Limited',\n",
       "  'You, Me and Dupree'],\n",
       " 'total_wows': 24}"
      ]
     },
     "execution_count": null,
     "metadata": {},
     "output_type": "execute_result"
    }
   ],
   "source": [
    "movies_and_wows\n",
    "\n",
    "# Place into the desired structure\n",
    "output_dict = {\n",
    "    'movies': [movie for movie in movies_and_wows.keys()],\n",
    "    'total_wows': sum([wow for wow in movies_and_wows.values()])\n",
    "}\n",
    "\n",
    "# Check\n",
    "output_dict"
   ]
  },
  {
   "cell_type": "markdown",
   "metadata": {},
   "source": [
    "# 4. Webscraping the UK employment tribunal court cases website"
   ]
  },
  {
   "cell_type": "markdown",
   "metadata": {},
   "source": [
    "The first page can be found at: `\"https://www.gov.uk/employment-tribunal-decisions?page=1\"`"
   ]
  },
  {
   "cell_type": "code",
   "execution_count": null,
   "metadata": {},
   "outputs": [],
   "source": [
    "import requests\n",
    "from bs4 import BeautifulSoup\n",
    "import pandas as pd"
   ]
  },
  {
   "cell_type": "markdown",
   "metadata": {},
   "source": [
    "## 3.1. Scrape a single page\n",
    "\n",
    "Scrape a single page and return a list of dictionaries with `{title: ?, year: ?}`\n",
    "\n",
    "The first step is to get the scraper working for a single page. Once that is working, we can work on pagination."
   ]
  },
  {
   "cell_type": "code",
   "execution_count": null,
   "metadata": {},
   "outputs": [],
   "source": [
    "# The usual suspects for scraping\n",
    "\n",
    "url = f\"https://www.gov.uk/employment-tribunal-decisions\"\n",
    "params = {'page': 1}\n",
    "response = requests.get(url, params=params)\n",
    "soup = BeautifulSoup(response.content, \"html.parser\")"
   ]
  },
  {
   "cell_type": "code",
   "execution_count": null,
   "metadata": {},
   "outputs": [
    {
     "data": {
      "text/plain": [
       "<li class=\"gem-c-document-list__item\">\n",
       "<a class=\"gem-c-document-list__item-title govuk-link\" data-ecommerce-index=\"1\" data-ecommerce-path=\"/employment-tribunal-decisions/mrs-l-chivers-v-l-rice-and-others-3308804-slash-2022\" data-ecommerce-row=\"1\" data-ga4-ecommerce-path=\"/employment-tribunal-decisions/mrs-l-chivers-v-l-rice-and-others-3308804-slash-2022\" data-track-action=\"Employment tribunal decisions.1\" data-track-category=\"navFinderLinkClicked\" data-track-label=\"/employment-tribunal-decisions/mrs-l-chivers-v-l-rice-and-others-3308804-slash-2022\" data-track-options='{\"dimension28\":50,\"dimension29\":\"Mrs L Chivers v L Rice and others: 3308804/2022\"}' href=\"/employment-tribunal-decisions/mrs-l-chivers-v-l-rice-and-others-3308804-slash-2022\">Mrs L Chivers v L Rice and others: 3308804/2022</a>\n",
       "<p class=\"gem-c-document-list__item-description\">Employment Tribunal decision.</p>\n",
       "<ul class=\"gem-c-document-list__item-metadata\">\n",
       "<li class=\"gem-c-document-list__attribute\">\n",
       "                    Decided: <time datetime=\"2023-02-27\">27 February 2023</time>\n",
       "</li> </ul>\n",
       "</li>"
      ]
     },
     "execution_count": null,
     "metadata": {},
     "output_type": "execute_result"
    }
   ],
   "source": [
    "# Inspect a single item\n",
    "soup.find('li', class_=\"gem-c-document-list__item\")"
   ]
  },
  {
   "cell_type": "code",
   "execution_count": null,
   "metadata": {},
   "outputs": [],
   "source": [
    "cases = []\n",
    "for case in soup.find_all('li', class_=\"gem-c-document-list__item\"):\n",
    "    # find the whole title and split into a list\n",
    "    full_title = case.find('a').string.strip().split(':')\n",
    "    # Join the title back together with white space and drop the last element to remove numbers\n",
    "    # title = \" \".join(full_title[:-1])\n",
    "    title = full_title[0]\n",
    "\n",
    "    # find year\n",
    "    year = case.find('ul').find('time').string.split()[2]\n",
    "\n",
    "    # case info\n",
    "    case_info = {'title': title, 'year': year}\n",
    "    # append to cases list as a dictionary\n",
    "    cases.append(case_info)"
   ]
  },
  {
   "cell_type": "code",
   "execution_count": null,
   "metadata": {},
   "outputs": [
    {
     "data": {
      "text/plain": [
       "[{'title': 'Mrs L Chivers v L Rice and others', 'year': '2023'},\n",
       " {'title': 'Ms C Currell v Hertfordshire County Council', 'year': '2023'},\n",
       " {'title': 'Mrs K Simmons v RJ Simmons Agricultural Services Ltd',\n",
       "  'year': '2023'},\n",
       " {'title': 'Ms M Proctor v Gillette UK Ltd', 'year': '2023'},\n",
       " {'title': 'Mrs A Taylor v C A Leith (Opticians) Ltd', 'year': '2023'}]"
      ]
     },
     "execution_count": null,
     "metadata": {},
     "output_type": "execute_result"
    }
   ],
   "source": [
    "# inspect the first 5 cases\n",
    "cases[:5]"
   ]
  },
  {
   "cell_type": "markdown",
   "metadata": {},
   "source": [
    "## 3.2. Implementing pagination and scape 1000 cases\n",
    "\n",
    "Some items we will require to make this work:\n",
    "- We will need a counter for number of cases that we scrape. This counter will increase after we append an item to our output list.\n",
    "- We will also need a way to increase the page number, we can also use a counter for this as well. Once we have scraped a page, the counter increases and we scrape another page.\n",
    "\n",
    "Workflow Logic:\n",
    "1. First create some variables that will help us:\n",
    "    1. an empty `cases` list - this is where will store our output.\n",
    "    1. `case_counter` counter to count total number of cases scraped.\n",
    "    1. `page_no` counter for pagination, this will be part of our `params` dictionary.\n",
    "2. Check to see if `case_counter` is less than or equal to 1000\n",
    "3. Scape a page\n",
    "4. Start looking at each case in the scraped page\n",
    "5. Check to see if case counter is greater than 1000\n",
    "    1. If `case_counter` is greater than 1000, if True break out of the while loop, this stops everything.\n",
    "    1. If `case_counter` is less than 1000\n",
    "        1. Append the case to `cases` as a dictionary\n",
    "        1. increase the `case_counter` by 1\n",
    "6. Once the entire page has been scraped and appended to `cases`, increase `page_no` by 1\n",
    "7. Return to Step 2"
   ]
  },
  {
   "cell_type": "code",
   "execution_count": null,
   "metadata": {},
   "outputs": [],
   "source": [
    "cases = []\n",
    "case_counter = 1\n",
    "page_no = 1\n",
    "\n",
    "while case_counter <= 1000:\n",
    "    # Scrape a single page\n",
    "    params = {'page': page_no}\n",
    "    url = f\"https://www.gov.uk/employment-tribunal-decisions\"\n",
    "    response = requests.get(url, params=params)\n",
    "    soup = BeautifulSoup(response.content, \"html.parser\")\n",
    "\n",
    "    # Examine each case on scraped page and append relevant information to cases\n",
    "    for case in soup.find_all('li', class_=\"gem-c-document-list__item\"):\n",
    "        # check the counter to see if we have reached 1000 cases\n",
    "        if case_counter > 1000:\n",
    "            # stop the while loop\n",
    "            break\n",
    "        # if the counter is <= 1000 then the following code executes\n",
    "\n",
    "        # find the whole title and split into a list with [name, case_number]\n",
    "        full_title = case.find('a').string.strip().split(':')\n",
    "        # Select the case name\n",
    "        title = full_title[0]\n",
    "\n",
    "        # find year\n",
    "        year = case.find('ul').find('time').string.split()[2]\n",
    "\n",
    "        # case info\n",
    "        case_info = {'title': title, 'year': year}\n",
    "        # append case_info dictionary to cases lists\n",
    "        cases.append(case_info)\n",
    "\n",
    "        # increase the counter\n",
    "        case_counter += 1\n",
    "\n",
    "    # increase the page number, restart the while loop\n",
    "    page_no += 1"
   ]
  },
  {
   "cell_type": "code",
   "execution_count": null,
   "metadata": {},
   "outputs": [
    {
     "data": {
      "text/plain": [
       "1000"
      ]
     },
     "execution_count": null,
     "metadata": {},
     "output_type": "execute_result"
    }
   ],
   "source": [
    "# Confirm we have 1000 cases\n",
    "len(cases)"
   ]
  },
  {
   "cell_type": "code",
   "execution_count": null,
   "metadata": {},
   "outputs": [
    {
     "data": {
      "text/plain": [
       "[{'title': 'Mrs L Chivers v L Rice and others', 'year': '2023'},\n",
       " {'title': 'Ms C Currell v Hertfordshire County Council', 'year': '2023'},\n",
       " {'title': 'Mrs K Simmons v RJ Simmons Agricultural Services Ltd',\n",
       "  'year': '2023'},\n",
       " {'title': 'Ms M Proctor v Gillette UK Ltd', 'year': '2023'},\n",
       " {'title': 'Mrs A Taylor v C A Leith (Opticians) Ltd', 'year': '2023'}]"
      ]
     },
     "execution_count": null,
     "metadata": {},
     "output_type": "execute_result"
    }
   ],
   "source": [
    "# have a look at a few cases\n",
    "cases[:5]"
   ]
  },
  {
   "cell_type": "code",
   "execution_count": null,
   "metadata": {},
   "outputs": [
    {
     "data": {
      "text/html": [
       "<div>\n",
       "<style scoped>\n",
       "    .dataframe tbody tr th:only-of-type {\n",
       "        vertical-align: middle;\n",
       "    }\n",
       "\n",
       "    .dataframe tbody tr th {\n",
       "        vertical-align: top;\n",
       "    }\n",
       "\n",
       "    .dataframe thead th {\n",
       "        text-align: right;\n",
       "    }\n",
       "</style>\n",
       "<table border=\"1\" class=\"dataframe\">\n",
       "  <thead>\n",
       "    <tr style=\"text-align: right;\">\n",
       "      <th></th>\n",
       "      <th>title</th>\n",
       "      <th>year</th>\n",
       "    </tr>\n",
       "  </thead>\n",
       "  <tbody>\n",
       "    <tr>\n",
       "      <th>0</th>\n",
       "      <td>Mrs L Chivers v L Rice and others</td>\n",
       "      <td>2023</td>\n",
       "    </tr>\n",
       "    <tr>\n",
       "      <th>1</th>\n",
       "      <td>Ms C Currell v Hertfordshire County Council</td>\n",
       "      <td>2023</td>\n",
       "    </tr>\n",
       "    <tr>\n",
       "      <th>2</th>\n",
       "      <td>Mrs K Simmons v RJ Simmons Agricultural Servic...</td>\n",
       "      <td>2023</td>\n",
       "    </tr>\n",
       "    <tr>\n",
       "      <th>3</th>\n",
       "      <td>Ms M Proctor v Gillette UK Ltd</td>\n",
       "      <td>2023</td>\n",
       "    </tr>\n",
       "    <tr>\n",
       "      <th>4</th>\n",
       "      <td>Mrs A Taylor v C A Leith (Opticians) Ltd</td>\n",
       "      <td>2023</td>\n",
       "    </tr>\n",
       "  </tbody>\n",
       "</table>\n",
       "</div>"
      ],
      "text/plain": [
       "                                               title  year\n",
       "0                  Mrs L Chivers v L Rice and others  2023\n",
       "1        Ms C Currell v Hertfordshire County Council  2023\n",
       "2  Mrs K Simmons v RJ Simmons Agricultural Servic...  2023\n",
       "3                     Ms M Proctor v Gillette UK Ltd  2023\n",
       "4           Mrs A Taylor v C A Leith (Opticians) Ltd  2023"
      ]
     },
     "execution_count": null,
     "metadata": {},
     "output_type": "execute_result"
    }
   ],
   "source": [
    "# Create a data frame\n",
    "\n",
    "cases_df = pd.DataFrame(cases)\n",
    "cases_df.head()"
   ]
  },
  {
   "cell_type": "code",
   "execution_count": null,
   "metadata": {},
   "outputs": [],
   "source": []
  }
 ],
 "metadata": {
  "kernelspec": {
   "display_name": "Python 3",
   "language": "python",
   "name": "python3"
  }
 },
 "nbformat": 4,
 "nbformat_minor": 5
}
