{
 "cells": [
  {
   "cell_type": "markdown",
   "metadata": {},
   "source": [
    "## Reboot #1"
   ]
  },
  {
   "cell_type": "markdown",
   "metadata": {},
   "source": [
    "The goal of this recap notebook is so that you can go over some of the core ideas from the first week and a half. It will test your abilities on the following:\n",
    "\n",
    "1. Working with tricky variables\n",
    "2. Pandas basics\n",
    "3. API refresher\n",
    "4. Scraping practice\n",
    "\n",
    "There is no need to do the exercises in one section if you already feel comfortable with it!\n"
   ]
  },
  {
   "cell_type": "markdown",
   "metadata": {},
   "source": [
    "# Section 1: The World's Worst Variable 🤢\n",
    "\n",
    "The key to this exercise is knowing what you're working with at each stage in the process 🤔 Run the cell below to initialize the variable 💪"
   ]
  },
  {
   "cell_type": "code",
   "execution_count": null,
   "metadata": {},
   "outputs": [],
   "source": [
    "worlds_worst_variable = [({(\"Iron Man\", 2008): {\"Plot\": \"Rich man builds metal suit and blasts things\", \n",
    "                                               \"Actors\": [\"RDJ\", \"Gwyneth Paltrow\", \"Jon Favreau\"], \n",
    "                                               \"Box Office Yields\": [{\"US\": 4000000}, {\"England\": 4500000}, {\"Asia\": 50000}]},\n",
    "                        (\"Thor\", 2011): {\"Plot\": \"Blonde man hits things with hammer\", \n",
    "                                    \"Actors\": [\"Chris Hemsworth\", \"Natalie Portman\", \"Jon Favreau\"], \n",
    "                                    \"Box Office Yields\": [{\"US\": 300000}, {\"Europe\": 320000}, {\"Asia\": 70000}]},\n",
    "                        (\"Doctor Strange\", 2016): {\"Plot\": \"Boy with spider powers saves New York\", \n",
    "                                                   \"Actors\": [\"Benedict Cumberbatch\", \"Benedict Wong\", \"Rachel McAdams\"], \n",
    "                                                   \"Box Office Yields\": [{\"US\": 353300}, {\"Europe\": 320500}, {\"Asia\": 74000}]},\n",
    "                        (\"Captain America: Civil War\", 2016): {\"Plot\": \"Metal boy and America man fight\", \n",
    "                                                               \"Actors\": [\"Chris Evans\", \"RDJ\", \"Scarlett Johanson\"], \n",
    "                                                               \"Box Office Yields\": [{\"US\": 3200300}, {\"Europe\": 3750500}, {\"Asia\": 7344000}]},\n",
    "                        (\"Deadpool\", 2016): {\"Plot\": \"Man in red and black suit can't die\", \n",
    "                                             \"Actors\": [\"Ryan Reynolds\", \"Morena Baccarrin\", \"TJ Miller\"], \n",
    "                                             \"Box Office Yields\": [{\"US\": 200300}, {\"Europe\": 30500}, {\"Asia\": 7344000}]},\n",
    "                        (\"Morbius\", 2022): {\"Plot\": \"Terrible movie where man becomes a vampire\", \n",
    "                                            \"Actors\": [\"Jared Leto\", \"Matt Smith\", \"Adria Arjona\"], \n",
    "                                            \"Box Office Yields\": [{\"US\": 9900300}, {\"Europe\": 440500}, {\"Asia\": 74000}]}},)]"
   ]
  },
  {
   "cell_type": "markdown",
   "metadata": {},
   "source": [
    "### Task 1: Get all the information associated with the Iron Man movie\n",
    "\n",
    "Making liberal use of the built-in python methods (`len`, `type()`) and dictionary methods (`dict.items()`, `dict.keys()`, `dict.values()`) to find out what kind of data type you are working with, and obtain data further within the variable."
   ]
  },
  {
   "cell_type": "code",
   "execution_count": null,
   "metadata": {},
   "outputs": [],
   "source": [
    "iron_man_info = {}# Your code here"
   ]
  },
  {
   "cell_type": "markdown",
   "metadata": {},
   "source": [
    "### Task 2: There is a mistake in the Iron Man info; change \"England\" key to \"Europe\" in the Iron Man Box office yields dictionary\n",
    "\n",
    "Dictionary keys are immutable and difficult to change by design. Have a look at different methods to change keys."
   ]
  },
  {
   "cell_type": "code",
   "execution_count": null,
   "metadata": {
    "tags": []
   },
   "outputs": [],
   "source": [
    "# Your code here"
   ]
  },
  {
   "cell_type": "markdown",
   "metadata": {},
   "source": [
    "### Task 3: Add \"Michael Keaton\" to the cast of Morbius"
   ]
  },
  {
   "cell_type": "code",
   "execution_count": null,
   "metadata": {},
   "outputs": [],
   "source": [
    "# Your code here"
   ]
  },
  {
   "cell_type": "markdown",
   "metadata": {},
   "source": [
    "### Task 4: Correct the plot of the Doctor Strange entry"
   ]
  },
  {
   "cell_type": "code",
   "execution_count": null,
   "metadata": {},
   "outputs": [],
   "source": [
    "# Your code here"
   ]
  },
  {
   "cell_type": "markdown",
   "metadata": {},
   "source": [
    "### Task 5: Add up the European box office yields for all of the movies released in 2016"
   ]
  },
  {
   "cell_type": "code",
   "execution_count": null,
   "metadata": {},
   "outputs": [],
   "source": [
    "european_box_office_yields_2016 = 4101500# YOUR CODE HERE"
   ]
  },
  {
   "cell_type": "markdown",
   "metadata": {
    "lang": "fr"
   },
   "source": [
    "# Section 2: Pandas Practice\n",
    "\n",
    "Download the [IMDB-Movie-Data.csv](https://wagon-public-datasets.s3.amazonaws.com/Reboot/IMDB-Movie-Data.csv) and load it into a data frame, look at the data and some of it's key characteristics and answer the following questions."
   ]
  },
  {
   "cell_type": "code",
   "execution_count": null,
   "metadata": {},
   "outputs": [],
   "source": [
    "# Load data from csv\n",
    "import pandas as pd"
   ]
  },
  {
   "cell_type": "code",
   "execution_count": null,
   "metadata": {},
   "outputs": [],
   "source": [
    "df = pd.read_csv(\"IMDB-Movie-Data.csv\")"
   ]
  },
  {
   "cell_type": "code",
   "execution_count": null,
   "metadata": {},
   "outputs": [
    {
     "data": {
      "text/html": [
       "<div>\n",
       "<style scoped>\n",
       "    .dataframe tbody tr th:only-of-type {\n",
       "        vertical-align: middle;\n",
       "    }\n",
       "\n",
       "    .dataframe tbody tr th {\n",
       "        vertical-align: top;\n",
       "    }\n",
       "\n",
       "    .dataframe thead th {\n",
       "        text-align: right;\n",
       "    }\n",
       "</style>\n",
       "<table border=\"1\" class=\"dataframe\">\n",
       "  <thead>\n",
       "    <tr style=\"text-align: right;\">\n",
       "      <th></th>\n",
       "      <th>Rank</th>\n",
       "      <th>Title</th>\n",
       "      <th>Genre</th>\n",
       "      <th>Description</th>\n",
       "      <th>Director</th>\n",
       "      <th>Actors</th>\n",
       "      <th>Year</th>\n",
       "      <th>Runtime (Minutes)</th>\n",
       "      <th>Rating</th>\n",
       "      <th>Votes</th>\n",
       "      <th>Revenue (Millions)</th>\n",
       "      <th>Metascore</th>\n",
       "    </tr>\n",
       "  </thead>\n",
       "  <tbody>\n",
       "    <tr>\n",
       "      <th>0</th>\n",
       "      <td>1</td>\n",
       "      <td>Guardians of the Galaxy</td>\n",
       "      <td>Action,Adventure,Sci-Fi</td>\n",
       "      <td>A group of intergalactic criminals are forced ...</td>\n",
       "      <td>James Gunn</td>\n",
       "      <td>Chris Pratt, Vin Diesel, Bradley Cooper, Zoe S...</td>\n",
       "      <td>2014</td>\n",
       "      <td>121</td>\n",
       "      <td>8.1</td>\n",
       "      <td>757074</td>\n",
       "      <td>333.13</td>\n",
       "      <td>76</td>\n",
       "    </tr>\n",
       "    <tr>\n",
       "      <th>1</th>\n",
       "      <td>2</td>\n",
       "      <td>Prometheus</td>\n",
       "      <td>Adventure,Mystery,Sci-Fi</td>\n",
       "      <td>Following clues to the origin of mankind, a te...</td>\n",
       "      <td>Ridley Scott</td>\n",
       "      <td>Noomi Rapace, Logan Marshall-Green, Michael Fa...</td>\n",
       "      <td>2012</td>\n",
       "      <td>124</td>\n",
       "      <td>7.0</td>\n",
       "      <td>485820</td>\n",
       "      <td>126.46</td>\n",
       "      <td>65</td>\n",
       "    </tr>\n",
       "    <tr>\n",
       "      <th>2</th>\n",
       "      <td>3</td>\n",
       "      <td>Split</td>\n",
       "      <td>Horror,Thriller</td>\n",
       "      <td>Three girls are kidnapped by a man with a diag...</td>\n",
       "      <td>M. Night Shyamalan</td>\n",
       "      <td>James McAvoy, Anya Taylor-Joy, Haley Lu Richar...</td>\n",
       "      <td>2016</td>\n",
       "      <td>117</td>\n",
       "      <td>7.3</td>\n",
       "      <td>157606</td>\n",
       "      <td>138.12</td>\n",
       "      <td>62</td>\n",
       "    </tr>\n",
       "    <tr>\n",
       "      <th>3</th>\n",
       "      <td>4</td>\n",
       "      <td>Sing</td>\n",
       "      <td>Animation,Comedy,Family</td>\n",
       "      <td>In a city of humanoid animals, a hustling thea...</td>\n",
       "      <td>Christophe Lourdelet</td>\n",
       "      <td>Matthew McConaughey,Reese Witherspoon, Seth Ma...</td>\n",
       "      <td>2016</td>\n",
       "      <td>108</td>\n",
       "      <td>7.2</td>\n",
       "      <td>60545</td>\n",
       "      <td>270.32</td>\n",
       "      <td>59</td>\n",
       "    </tr>\n",
       "    <tr>\n",
       "      <th>4</th>\n",
       "      <td>5</td>\n",
       "      <td>Suicide Squad</td>\n",
       "      <td>Action,Adventure,Fantasy</td>\n",
       "      <td>A secret government agency recruits some of th...</td>\n",
       "      <td>David Ayer</td>\n",
       "      <td>Will Smith, Jared Leto, Margot Robbie, Viola D...</td>\n",
       "      <td>2016</td>\n",
       "      <td>123</td>\n",
       "      <td>6.2</td>\n",
       "      <td>393727</td>\n",
       "      <td>325.02</td>\n",
       "      <td>40</td>\n",
       "    </tr>\n",
       "  </tbody>\n",
       "</table>\n",
       "</div>"
      ],
      "text/plain": [
       "   Rank                    Title                     Genre  \\\n",
       "0     1  Guardians of the Galaxy   Action,Adventure,Sci-Fi   \n",
       "1     2               Prometheus  Adventure,Mystery,Sci-Fi   \n",
       "2     3                    Split           Horror,Thriller   \n",
       "3     4                     Sing   Animation,Comedy,Family   \n",
       "4     5            Suicide Squad  Action,Adventure,Fantasy   \n",
       "\n",
       "                                         Description              Director  \\\n",
       "0  A group of intergalactic criminals are forced ...            James Gunn   \n",
       "1  Following clues to the origin of mankind, a te...          Ridley Scott   \n",
       "2  Three girls are kidnapped by a man with a diag...    M. Night Shyamalan   \n",
       "3  In a city of humanoid animals, a hustling thea...  Christophe Lourdelet   \n",
       "4  A secret government agency recruits some of th...            David Ayer   \n",
       "\n",
       "                                              Actors  Year  Runtime (Minutes)  \\\n",
       "0  Chris Pratt, Vin Diesel, Bradley Cooper, Zoe S...  2014                121   \n",
       "1  Noomi Rapace, Logan Marshall-Green, Michael Fa...  2012                124   \n",
       "2  James McAvoy, Anya Taylor-Joy, Haley Lu Richar...  2016                117   \n",
       "3  Matthew McConaughey,Reese Witherspoon, Seth Ma...  2016                108   \n",
       "4  Will Smith, Jared Leto, Margot Robbie, Viola D...  2016                123   \n",
       "\n",
       "   Rating   Votes  Revenue (Millions)  Metascore  \n",
       "0     8.1  757074              333.13         76  \n",
       "1     7.0  485820              126.46         65  \n",
       "2     7.3  157606              138.12         62  \n",
       "3     7.2   60545              270.32         59  \n",
       "4     6.2  393727              325.02         40  "
      ]
     },
     "execution_count": null,
     "metadata": {},
     "output_type": "execute_result"
    }
   ],
   "source": [
    "df.head()"
   ]
  },
  {
   "cell_type": "markdown",
   "metadata": {},
   "source": [
    "### Task 1: Add 5 mins to all of the run times"
   ]
  },
  {
   "cell_type": "code",
   "execution_count": null,
   "metadata": {},
   "outputs": [],
   "source": [
    "# YOUR CODE HERE"
   ]
  },
  {
   "cell_type": "markdown",
   "metadata": {},
   "source": [
    "### Task 2: Plot a histogram showing the distribution of runtimes for all of the movies (in one line)\n",
    "\n"
   ]
  },
  {
   "cell_type": "code",
   "execution_count": null,
   "metadata": {},
   "outputs": [],
   "source": [
    "# YOUR CODE HERE"
   ]
  },
  {
   "cell_type": "markdown",
   "metadata": {},
   "source": [
    "### Task 3: Replace the word \"Horror\" with \"Comedy\" in all of the genres\n",
    "\n",
    "This is perfect for a sting method. Pandas string methods work the same as regular python string methods, but can be applied to an entire column (or columns)."
   ]
  },
  {
   "cell_type": "code",
   "execution_count": null,
   "metadata": {},
   "outputs": [],
   "source": [
    "# YOUR CODE HERE"
   ]
  },
  {
   "cell_type": "markdown",
   "metadata": {},
   "source": [
    "### Task 4: Create an \"Overrated/ \"Underrated\" column\n",
    "We have two scores in our DataFrame - `\"Rating\"` and `\"Metascore\"`. Metascore has reviews from the site Metacritic and represents the professional critics' opinion of a movie. `\"Rating\"` on the other hand, is how IMDb users found the movie. \n",
    "\n",
    "Create a new column in your DataFrame which should have the `string` \"Overrated\" if the IMDB `\"Rating\"` (x10 so you can compare) is higher than the `Metascore` rating column and \"Underrated\" if the audience IMDB `\"Rating\"` is higher than the critic review. \n",
    "\n",
    "Hint: You can look into either [iterrows](https://pandas.pydata.org/docs/reference/api/pandas.DataFrame.iterrows.html) or using the [apply](https://pandas.pydata.org/docs/reference/api/pandas.DataFrame.apply.html) function along each row. Check the documentation!"
   ]
  },
  {
   "cell_type": "code",
   "execution_count": null,
   "metadata": {},
   "outputs": [],
   "source": [
    "# YOUR CODE HERE"
   ]
  },
  {
   "cell_type": "markdown",
   "metadata": {},
   "source": [
    "### Challenge 5: What is the correlation between runtime and rating? "
   ]
  },
  {
   "cell_type": "code",
   "execution_count": null,
   "metadata": {},
   "outputs": [],
   "source": [
    "# YOUR CODE HERE"
   ]
  },
  {
   "cell_type": "markdown",
   "metadata": {},
   "source": [
    "### Challenge 6: Use Seaborn's regplot function to answer the question: Have movies gotten worse public reviews over time? \n",
    "(N.B. Use the \"Rating\" column and the \"Year\" column for this - not the \"Metacritic\" column)\n"
   ]
  },
  {
   "cell_type": "code",
   "execution_count": null,
   "metadata": {},
   "outputs": [],
   "source": [
    "# YOUR CODE HERE"
   ]
  },
  {
   "cell_type": "markdown",
   "metadata": {},
   "source": [
    "# Section 3: The Owen Wilson Wow API\n",
    "\n",
    "url: https://owen-wilson-wow-api.onrender.com/\n",
    "\n",
    "Some notes:\n",
    "- Put the API call in a different cell from displaying the response, this will allow you to play with the response object without repeating API calls.\n",
    "- the `.json()` method is turning the JSON recieved from the API into a data type that python can work with."
   ]
  },
  {
   "cell_type": "markdown",
   "metadata": {},
   "source": [
    "### How `requests` library processes the `params` dictionary (optional for knowledge)\n",
    "\n",
    "The only thing that `params` is doing is altering the url string. This is not essential to know, feel free to skip."
   ]
  },
  {
   "cell_type": "code",
   "execution_count": null,
   "metadata": {},
   "outputs": [],
   "source": [
    "import requests"
   ]
  },
  {
   "cell_type": "markdown",
   "metadata": {},
   "source": [
    "# Request with params"
   ]
  },
  {
   "cell_type": "code",
   "execution_count": null,
   "metadata": {},
   "outputs": [
    {
     "data": {
      "text/plain": [
       "True"
      ]
     },
     "execution_count": null,
     "metadata": {},
     "output_type": "execute_result"
    }
   ],
   "source": [
    "url = 'https://owen-wilson-wow-api.onrender.com/wows/random'\n",
    "# url = 'https://www.breakingbadapi.com/api/episodes'\n",
    "params = {\n",
    "    'director': 'ben stiller',\n",
    "    'sort': 'director'\n",
    "}\n",
    "request_with_params = requests.get(url, params=params).json()\n",
    "\n",
    "# Request without params - Note that the params start at the ? in the url\n",
    "long_url = 'https://owen-wilson-wow-api.onrender.com/wows/random?director=ben+stiller&sort=director'\n",
    "request_no_params = requests.get(long_url).json()\n",
    "\n",
    "# Comfirm the responses are the same\n",
    "request_with_params == request_no_params"
   ]
  },
  {
   "cell_type": "code",
   "execution_count": null,
   "metadata": {},
   "outputs": [
    {
     "data": {
      "text/plain": [
       "(list, list)"
      ]
     },
     "execution_count": null,
     "metadata": {},
     "output_type": "execute_result"
    }
   ],
   "source": [
    "len(request_no_params), len(request_with_params)\n",
    "\n",
    "type(request_no_params), type(request_with_params)"
   ]
  },
  {
   "cell_type": "markdown",
   "metadata": {},
   "source": [
    "### Lets code a params function together!"
   ]
  },
  {
   "cell_type": "code",
   "execution_count": null,
   "metadata": {},
   "outputs": [],
   "source": [
    "def process_params(url, params_dict):\n",
    "    # question mark between url and query\n",
    "    url = f'{url}?'\n",
    "    \n",
    "    # whitespace replace with a +\n",
    "    params_dict_whitespace = {}\n",
    "    for key, value in params_dict.items():\n",
    "        params_dict_whitespace[key] = value.replace(' ', '+')\n",
    "\n",
    "    # between the k an v there is an =\n",
    "    list_amp = []\n",
    "    for key, value in params_dict_whitespace.items():\n",
    "        list_amp.append(f'{key}={value}')\n",
    "    \n",
    "    # & between each key : value pair.\n",
    "    combined_string = '&'.join(list_amp)\n",
    "    \n",
    "    return f'{url}{combined_string}'\n",
    "\n",
    "process_params(url, params)\n",
    "print(process_params(url, params))\n",
    "\n",
    "process_params(url, params) == long_url"
   ]
  },
  {
   "cell_type": "markdown",
   "metadata": {},
   "source": [
    "## Challenge 1: Get 2 random wow from the API and specify the return object data structure and individual wow data structure"
   ]
  },
  {
   "cell_type": "code",
   "execution_count": null,
   "metadata": {},
   "outputs": [],
   "source": [
    "# YOUR CODE HERE"
   ]
  },
  {
   "cell_type": "markdown",
   "metadata": {},
   "source": [
    "## Challenge 2: How many data fields are being returned per wow? Put them into a list."
   ]
  },
  {
   "cell_type": "code",
   "execution_count": null,
   "metadata": {},
   "outputs": [],
   "source": [
    "# YOUR CODE HERE"
   ]
  },
  {
   "cell_type": "markdown",
   "metadata": {},
   "source": [
    "## Challenge 3: In 10 random wows, place the character Owen Wilson plays into a list"
   ]
  },
  {
   "cell_type": "code",
   "execution_count": null,
   "metadata": {},
   "outputs": [],
   "source": [
    "# YOUR CODE HERE"
   ]
  },
  {
   "cell_type": "markdown",
   "metadata": {},
   "source": [
    "## Challenge 4: Return a list of all movies with titles three words or longer that Owen Wilson wowed in."
   ]
  },
  {
   "cell_type": "code",
   "execution_count": null,
   "metadata": {},
   "outputs": [],
   "source": [
    "# YOUR CODE HERE"
   ]
  },
  {
   "cell_type": "markdown",
   "metadata": {},
   "source": [
    "## Challenge 5: How many movies did Owen Wilson wow in with movie titles that contain a non-alphanumeric character"
   ]
  },
  {
   "cell_type": "code",
   "execution_count": null,
   "metadata": {},
   "outputs": [],
   "source": [
    "# YOUR CODE HERE"
   ]
  },
  {
   "cell_type": "markdown",
   "metadata": {},
   "source": [
    "## Challenge 6: What was the full line of Owen Wilsons 31'st wow?"
   ]
  },
  {
   "cell_type": "code",
   "execution_count": null,
   "metadata": {},
   "outputs": [],
   "source": [
    "# YOUR CODE HERE"
   ]
  },
  {
   "cell_type": "markdown",
   "metadata": {},
   "source": [
    "## 2.7. Which movie did Owen Wilson Wow the most in?"
   ]
  },
  {
   "cell_type": "code",
   "execution_count": null,
   "metadata": {},
   "outputs": [],
   "source": [
    "# YOUR CODE HERE"
   ]
  },
  {
   "cell_type": "markdown",
   "metadata": {},
   "source": [
    "## 2.9. In what movies and How many total wows happened between 2005 and 2010 after the 45 minute mark?\n",
    "\n",
    "Return as a dictionary `{movies: [list of movies], total_wows: some_integer}`\n",
    "\n",
    "Hint: start with a response of all wows and related metadata and use an intermediate data structure between response and output dict"
   ]
  },
  {
   "cell_type": "markdown",
   "metadata": {},
   "source": [
    "# Section 4: Webscraping the UK employment tribunal court cases websited"
   ]
  },
  {
   "cell_type": "markdown",
   "metadata": {},
   "source": [
    "The first page can be found at: `\"https://www.gov.uk/employment-tribunal-decisions?page=1\"`"
   ]
  },
  {
   "cell_type": "code",
   "execution_count": null,
   "metadata": {},
   "outputs": [],
   "source": [
    "import requests\n",
    "from bs4 import BeautifulSoup"
   ]
  },
  {
   "cell_type": "code",
   "execution_count": null,
   "metadata": {},
   "outputs": [],
   "source": [
    "import pandas as pd"
   ]
  },
  {
   "cell_type": "markdown",
   "metadata": {},
   "source": [
    "## Step 1: Scrape a single page\n",
    "\n",
    "Scrape a single page and return a list of dictionaries with in the form: `{title: ?, year: ?}`.\n",
    "\n",
    "Step 1 is to figure out how to scrape a single case, then a page of cases. "
   ]
  },
  {
   "cell_type": "code",
   "execution_count": null,
   "metadata": {},
   "outputs": [],
   "source": [
    "# YOUR CODE HERE"
   ]
  },
  {
   "cell_type": "code",
   "execution_count": null,
   "metadata": {},
   "outputs": [],
   "source": [
    "# Inspect a single item\n"
   ]
  },
  {
   "cell_type": "code",
   "execution_count": null,
   "metadata": {},
   "outputs": [],
   "source": [
    "# inspect the first 5 cases\n",
    "cases[:5]"
   ]
  },
  {
   "cell_type": "markdown",
   "metadata": {},
   "source": [
    "## Step 2: Implementing pagination and scape 1000 cases\n",
    "\n",
    "Now we can scrape a whole page, then we can work on pagination.\n",
    "\n",
    "Some items we will require to make this work:\n",
    "- We will need a counter for number of cases that we scrape. This counter will increase after we append an item to our output list.\n",
    "- We will also need a way to increase the page number, we can also use a counter for this as well. Once we have scraped a page, the counter increases and we scrape another page.\n",
    "\n",
    "Workflow Logic:\n",
    "1. First create some variables that will help us:\n",
    "    1. an empty `cases` list - this is where will store our output.\n",
    "    1. `case_counter` counter to count total number of cases scraped.\n",
    "    1. `page_no` counter for pagination, this will be part of our `params` dictionary.\n",
    "2. Check to see if `case_counter` is less than or equal to 1000\n",
    "3. Scape a page\n",
    "4. Start looking at each case in the scraped page\n",
    "5. Check to see if case counter is greater than 1000\n",
    "    1. If `case_counter` is greater than 1000, break out of the loop. If True, go to step 6.\n",
    "    1. If `case_counter` is less than 1000\n",
    "        1. Append the case to a `cases` as a dictionary\n",
    "        1. increase the counter by 1\n",
    "6. Once the entire page has been scraped and appended to `cases`, increase `page_no` by 1\n",
    "7. Return to Step 2"
   ]
  },
  {
   "cell_type": "code",
   "execution_count": null,
   "metadata": {},
   "outputs": [],
   "source": [
    "# YOUR CODE HERE"
   ]
  },
  {
   "cell_type": "code",
   "execution_count": null,
   "metadata": {},
   "outputs": [],
   "source": [
    "# have a look at a few cases\n",
    "cases[:5]"
   ]
  },
  {
   "cell_type": "code",
   "execution_count": null,
   "metadata": {},
   "outputs": [],
   "source": [
    "# Create a data frame\n",
    "\n",
    "cases_df = pd.DataFrame(cases)\n",
    "cases_df.head()"
   ]
  }
 ],
 "metadata": {
  "kernelspec": {
   "display_name": "Python 3",
   "language": "python",
   "name": "python3"
  }
 },
 "nbformat": 4,
 "nbformat_minor": 5
}
