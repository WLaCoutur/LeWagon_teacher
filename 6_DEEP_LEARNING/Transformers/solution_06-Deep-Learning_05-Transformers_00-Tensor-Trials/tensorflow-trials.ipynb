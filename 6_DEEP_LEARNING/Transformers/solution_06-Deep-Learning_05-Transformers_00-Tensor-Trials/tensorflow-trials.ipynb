{
 "cells": [
  {
   "cell_type": "markdown",
   "metadata": {},
   "source": [
    "## The Tensorflow Trials"
   ]
  },
  {
   "cell_type": "markdown",
   "metadata": {},
   "source": [
    "For much of the past week, you've been using tensors with your Deep Learning models. Over the course of today's challenges, you'll be manipulating tensors extensively and working with some unconventional model architectures. \n",
    "\n",
    "\n",
    "In this warm up, you'll be introduced to some new methods. \n",
    "\n",
    "All the methods here are going to make tackling challenges later in the day 100x easier, so if you do get stuck later on, make sure you come back here to see how you achieved the right answers. "
   ]
  },
  {
   "cell_type": "code",
   "execution_count": null,
   "metadata": {},
   "outputs": [],
   "source": [
    "import tensorflow as tf"
   ]
  },
  {
   "cell_type": "markdown",
   "metadata": {},
   "source": [
    "A) Use `tf.ones` to create a tensor `a` filled with ones of shape (3,3)."
   ]
  },
  {
   "cell_type": "code",
   "execution_count": null,
   "metadata": {},
   "outputs": [],
   "source": [
    "# $CHALLENGIFY_BEGIN\n",
    "a = tf.ones(shape = (3,3))\n",
    "# $CHALLENGIFY_END"
   ]
  },
  {
   "cell_type": "markdown",
   "metadata": {},
   "source": [
    "B) Use tf.expand_dims to make `a` an object of shape (1,3,3) called `b`."
   ]
  },
  {
   "cell_type": "code",
   "execution_count": null,
   "metadata": {},
   "outputs": [
    {
     "name": "stdout",
     "output_type": "stream",
     "text": [
      "(1, 3, 3)\n"
     ]
    }
   ],
   "source": [
    "# $CHALLENGIFY_BEGIN\n",
    "b = tf.expand_dims(a, 0)\n",
    "print(b.shape)\n",
    "# $CHALLENGIFY_END"
   ]
  },
  {
   "cell_type": "markdown",
   "metadata": {},
   "source": [
    "C) Create a tensor `c` filled with zeroes of size (9,1)"
   ]
  },
  {
   "cell_type": "code",
   "execution_count": null,
   "metadata": {},
   "outputs": [],
   "source": [
    "# $CHALLENGIFY_BEGIN\n",
    "c = tf.zeros(shape = (9,1))\n",
    "# $CHALLENGIFY_END"
   ]
  },
  {
   "cell_type": "markdown",
   "metadata": {},
   "source": [
    "D) Reshape `c` to be of shape (1, 3, 3). Name it `d`."
   ]
  },
  {
   "cell_type": "code",
   "execution_count": null,
   "metadata": {},
   "outputs": [],
   "source": [
    "# $CHALLENGIFY_BEGIN\n",
    "d = tf.reshape(c, shape = (1,3,3))\n",
    "# $CHALLENGIFY_END"
   ]
  },
  {
   "cell_type": "markdown",
   "metadata": {},
   "source": [
    "E) Use `tf.matmul` to matrix multiply `b` and `d` with each other and now assign the tensor to `e`. "
   ]
  },
  {
   "cell_type": "code",
   "execution_count": null,
   "metadata": {},
   "outputs": [],
   "source": [
    "# $CHALLENGIFY_BEGIN\n",
    "e = tf.matmul(b, d)\n",
    "# $CHALLENGIFY_END"
   ]
  },
  {
   "cell_type": "markdown",
   "metadata": {},
   "source": [
    "F) Below is a `numpy` array. Convert it to a tensor named `array_tensor`. Then use `tf.cast` to ensure it is of dtype `float` not `int`. Assign the result to `f`."
   ]
  },
  {
   "cell_type": "code",
   "execution_count": null,
   "metadata": {},
   "outputs": [],
   "source": [
    "import numpy as np"
   ]
  },
  {
   "cell_type": "code",
   "execution_count": null,
   "metadata": {},
   "outputs": [],
   "source": [
    "array = np.array([[\n",
    "    [1,2,3],\n",
    "    [1,2,3],\n",
    "    [4,5,6],\n",
    "    [7,8,9]\n",
    "]])"
   ]
  },
  {
   "cell_type": "code",
   "execution_count": null,
   "metadata": {},
   "outputs": [],
   "source": [
    "# $CHALLENGIFY_BEGIN\n",
    "array_tensor = tf.convert_to_tensor(array)\n",
    "f = tf.cast(array_tensor, float)\n",
    "# $CHALLENGIFY_END"
   ]
  },
  {
   "cell_type": "markdown",
   "metadata": {},
   "source": [
    "G) Select the values in the __last column__ of `f` and save this to `g`. To be clear, `g` should have shape (4,) and contain the values `3,3,6,9`. "
   ]
  },
  {
   "cell_type": "code",
   "execution_count": null,
   "metadata": {},
   "outputs": [],
   "source": [
    "# $CHALLENGIFY_BEGIN\n",
    "g = f[0,:,-1]\n",
    "# $CHALLENGIFY_END"
   ]
  },
  {
   "cell_type": "markdown",
   "metadata": {},
   "source": [
    "H) Expand the dimensions of g so that it's of shape (4,1). Assign this to `h`."
   ]
  },
  {
   "cell_type": "code",
   "execution_count": null,
   "metadata": {},
   "outputs": [
    {
     "name": "stdout",
     "output_type": "stream",
     "text": [
      "(4, 1)\n"
     ]
    }
   ],
   "source": [
    "# $CHALLENGIFY_BEGIN\n",
    "h = tf.expand_dims(g, -1)\n",
    "print(h.shape)\n",
    "# $CHALLENGIFY_END"
   ]
  },
  {
   "cell_type": "markdown",
   "metadata": {},
   "source": [
    "I) Multiply e with f, using `tf.matmul` with the optional `transpose_b` argument (`e` must come first in your positional arguments, then `f`). Assign this to `i`."
   ]
  },
  {
   "cell_type": "code",
   "execution_count": null,
   "metadata": {},
   "outputs": [],
   "source": [
    "# $CHALLENGIFY_BEGIN\n",
    "i = tf.matmul(e, f, transpose_b=True)\n",
    "# $CHALLENGIFY_END"
   ]
  },
  {
   "cell_type": "markdown",
   "metadata": {},
   "source": [
    "J) Create a `(10,10)` tensor filled with ones. Then use `tf.linalg.band_part()` to mask out the upper triangle of the matrix (i.e. the upper triangle should all be 0s). Assign to `j`."
   ]
  },
  {
   "cell_type": "code",
   "execution_count": null,
   "metadata": {},
   "outputs": [],
   "source": [
    "# $CHALLENGIFY_BEGIN\n",
    "ones = tf.ones((10,10))\n",
    "j = tf.linalg.band_part(ones, -1, 0)\n",
    "# $CHALLENGIFY_END"
   ]
  },
  {
   "cell_type": "markdown",
   "metadata": {},
   "source": [
    "K) Take the `number_list` below and make it a tensor. Assign it to `k`."
   ]
  },
  {
   "cell_type": "code",
   "execution_count": null,
   "metadata": {},
   "outputs": [],
   "source": [
    "number_list = [1,2,3,4,8]"
   ]
  },
  {
   "cell_type": "code",
   "execution_count": null,
   "metadata": {},
   "outputs": [],
   "source": [
    "# $CHALLENGIFY_BEGIN\n",
    "k = tf.convert_to_tensor(number_list)\n",
    "# $CHALLENGIFY_END"
   ]
  },
  {
   "cell_type": "markdown",
   "metadata": {},
   "source": [
    "L) Use `tf.expand_dims` to make `k` into a tensor of shape (1,5). Assign to `l`."
   ]
  },
  {
   "cell_type": "code",
   "execution_count": null,
   "metadata": {},
   "outputs": [],
   "source": [
    "# $CHALLENGIFY_BEGIN\n",
    "l = tf.expand_dims(k, 0)\n",
    "# $CHALLENGIFY_END"
   ]
  },
  {
   "cell_type": "markdown",
   "metadata": {},
   "source": [
    "M) Use `tf.tile` to repeat `l` (read as \"L\") 50 times, with an eventual shape of `(50, 5)`. Assign to `m`."
   ]
  },
  {
   "cell_type": "code",
   "execution_count": null,
   "metadata": {},
   "outputs": [],
   "source": [
    "# $CHALLENGIFY_BEGIN\n",
    "m = tf.tile(l, (50,1))\n",
    "# $CHALLENGIFY_END"
   ]
  },
  {
   "cell_type": "markdown",
   "metadata": {},
   "source": [
    "N) Use a simple Boolean statement to create a tensor containing `True` values for where `m` is 3  and `False` for where it is not 3. Assign to `n`"
   ]
  },
  {
   "cell_type": "code",
   "execution_count": null,
   "metadata": {},
   "outputs": [],
   "source": [
    "# $CHALLENGIFY_BEGIN\n",
    "n = m == 3\n",
    "# $CHALLENGIFY_END"
   ]
  },
  {
   "cell_type": "markdown",
   "metadata": {},
   "source": [
    "O) Divide every value in you variable `m` by 3. Assign to `o`."
   ]
  },
  {
   "cell_type": "code",
   "execution_count": null,
   "metadata": {},
   "outputs": [],
   "source": [
    "# $CHALLENGIFY_BEGIN\n",
    "o = m/3\n",
    "# $CHALLENGIFY_END"
   ]
  },
  {
   "cell_type": "markdown",
   "metadata": {},
   "source": [
    "P) Use `tf.concat()` to take the list of two tensors below of shape (5,5) and (5,5) each and turn them into a final tensor of shape (10,5). Assign to `p`. Think carefully about the concation axis."
   ]
  },
  {
   "cell_type": "code",
   "execution_count": null,
   "metadata": {},
   "outputs": [],
   "source": [
    "tensor_list = [tf.ones((5,5)), tf.ones((5,5))]"
   ]
  },
  {
   "cell_type": "code",
   "execution_count": null,
   "metadata": {},
   "outputs": [],
   "source": [
    "# $CHALLENGIFY_BEGIN\n",
    "p = tf.concat(tensor_list, axis=0)\n",
    "# $CHALLENGIFY_END"
   ]
  },
  {
   "cell_type": "markdown",
   "metadata": {},
   "source": [
    "### Check your answers"
   ]
  },
  {
   "cell_type": "code",
   "execution_count": null,
   "metadata": {},
   "outputs": [
    {
     "name": "stdout",
     "output_type": "stream",
     "text": [
      "\n",
      "\u001b[1m============================= test session starts ==============================\u001b[0m\n",
      "platform darwin -- Python 3.12.9, pytest-8.3.4, pluggy-1.5.0 -- /Users/jules/.pyenv/versions/3.12.9/envs/lewagon/bin/python\n",
      "cachedir: .pytest_cache\n",
      "rootdir: /Users/jules/code/lewagon/data-solutions/06-Deep-Learning/05-Transformers/00-Tensor-Trials/tests\n",
      "plugins: anyio-4.8.0, typeguard-4.4.2\n",
      "\u001b[1mcollecting ... \u001b[0mcollected 15 items\n",
      "\n",
      "test_tensors.py::TestTensors::test_a \u001b[32mPASSED\u001b[0m\u001b[32m                              [  6%]\u001b[0m\n",
      "test_tensors.py::TestTensors::test_b \u001b[32mPASSED\u001b[0m\u001b[32m                              [ 13%]\u001b[0m\n",
      "test_tensors.py::TestTensors::test_c \u001b[32mPASSED\u001b[0m\u001b[32m                              [ 20%]\u001b[0m\n",
      "test_tensors.py::TestTensors::test_d_shape \u001b[32mPASSED\u001b[0m\u001b[32m                        [ 26%]\u001b[0m\n",
      "test_tensors.py::TestTensors::test_e \u001b[32mPASSED\u001b[0m\u001b[32m                              [ 33%]\u001b[0m\n",
      "test_tensors.py::TestTensors::test_f \u001b[32mPASSED\u001b[0m\u001b[32m                              [ 40%]\u001b[0m\n",
      "test_tensors.py::TestTensors::test_g \u001b[32mPASSED\u001b[0m\u001b[32m                              [ 46%]\u001b[0m\n",
      "test_tensors.py::TestTensors::test_i \u001b[32mPASSED\u001b[0m\u001b[32m                              [ 53%]\u001b[0m\n",
      "test_tensors.py::TestTensors::test_j \u001b[32mPASSED\u001b[0m\u001b[32m                              [ 60%]\u001b[0m\n",
      "test_tensors.py::TestTensors::test_k \u001b[32mPASSED\u001b[0m\u001b[32m                              [ 66%]\u001b[0m\n",
      "test_tensors.py::TestTensors::test_l \u001b[32mPASSED\u001b[0m\u001b[32m                              [ 73%]\u001b[0m\n",
      "test_tensors.py::TestTensors::test_m \u001b[32mPASSED\u001b[0m\u001b[32m                              [ 80%]\u001b[0m\n",
      "test_tensors.py::TestTensors::test_n \u001b[32mPASSED\u001b[0m\u001b[32m                              [ 86%]\u001b[0m\n",
      "test_tensors.py::TestTensors::test_o \u001b[32mPASSED\u001b[0m\u001b[32m                              [ 93%]\u001b[0m\n",
      "test_tensors.py::TestTensors::test_p_shape \u001b[32mPASSED\u001b[0m\u001b[32m                        [100%]\u001b[0m\n",
      "\n",
      "\u001b[32m============================== \u001b[32m\u001b[1m15 passed\u001b[0m\u001b[32m in 4.04s\u001b[0m\u001b[32m ==============================\u001b[0m\n",
      "\n",
      "\n",
      "💯 You can commit your code:\n",
      "\n",
      "\u001b[1;32mgit\u001b[39m add tests/tensors.pickle\n",
      "\n",
      "\u001b[32mgit\u001b[39m commit -m \u001b[33m'Completed tensors step'\u001b[39m\n",
      "\n",
      "\u001b[32mgit\u001b[39m push origin master\n",
      "\n"
     ]
    }
   ],
   "source": [
    "from nbresult import ChallengeResult\n",
    "\n",
    "result = ChallengeResult('tensors',\n",
    "                            a = a,\n",
    "                            b = b,\n",
    "                            c = c,\n",
    "                            d_shape = d.shape,\n",
    "                            e = e,\n",
    "                            f = f,\n",
    "                            g = g,\n",
    "                            h = h,\n",
    "                            i = i,\n",
    "                            j = j,\n",
    "                            k = k,\n",
    "                            l = l,\n",
    "                            m = m,\n",
    "                            n = n,\n",
    "                            o = o,\n",
    "                            p_shape = p.shape\n",
    ")\n",
    "\n",
    "result.write()\n",
    "print(result.check())"
   ]
  },
  {
   "cell_type": "markdown",
   "metadata": {},
   "source": [
    "### Great work 🔥\n",
    "\n",
    "Now it's time to get stuck into some modelling!"
   ]
  }
 ],
 "metadata": {
  "kernelspec": {
   "display_name": "Python 3",
   "language": "python",
   "name": "python3"
  }
 },
 "nbformat": 4,
 "nbformat_minor": 5
}
