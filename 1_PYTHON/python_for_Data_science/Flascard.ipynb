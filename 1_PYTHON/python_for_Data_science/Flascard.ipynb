{
 "cells": [
  {
   "metadata": {},
   "cell_type": "markdown",
   "source": "How do you Create a list?",
   "id": "129115b5435fef61"
  },
  {
   "metadata": {},
   "cell_type": "markdown",
   "source": "beatles = [\"John\", \"Paul\", \"George\", \"Ringo\"]\"",
   "id": "582de105fd55b73a"
  },
  {
   "metadata": {},
   "cell_type": "markdown",
   "source": "How do you Create a dict?",
   "id": "f1275fc1fb7572ae"
  },
  {
   "metadata": {},
   "cell_type": "markdown",
   "source": "instruments = {'john': 'guitar', 'paul': 'bass'}",
   "id": "c05990869496fe4e"
  },
  {
   "metadata": {},
   "cell_type": "markdown",
   "source": "How do you add an element at the end of a list?",
   "id": "5dce464419024683"
  },
  {
   "metadata": {},
   "cell_type": "markdown",
   "source": [
    "In [1]: beatles = [\"John\", \"Paul\", \"George\"]\n",
    "\n",
    "In [2]: beatles.append(\"Ringo\")\n",
    "\n",
    "In [3]: beatles\n",
    "\n",
    "Out[3]: ['John', 'Paul', 'George', 'Ringo']"
   ],
   "id": "e5bce1f4a5d76fa1"
  },
  {
   "metadata": {},
   "cell_type": "markdown",
   "source": "How do you loop over a list?",
   "id": "df9f27d11c4f74cd"
  },
  {
   "metadata": {},
   "cell_type": "markdown",
   "source": [
    "In [1]: beatles = [\"John\", \"Paul\", \"George\", \"Ringo\"]\n",
    "\n",
    "\n",
    "In [2]: for beatle in beatles:\n",
    "    ...:     print(beatle)\n",
    "    ...:\n",
    "\n",
    "John\n",
    "Paul\n",
    "George\n",
    "Ringo"
   ],
   "id": "2cda246118fd0ee"
  },
  {
   "metadata": {},
   "cell_type": "markdown",
   "source": "How do you convert a str into an int?",
   "id": "b5f55ed81d671f4d"
  },
  {
   "metadata": {},
   "cell_type": "markdown",
   "source": [
    "In [1]: int('42')\n",
    "Out[1]: 42\n",
    "\n",
    "In [2]: type(int(42))\n",
    "Out[2]: int"
   ],
   "id": "4f0589b41646f45c"
  },
  {
   "metadata": {},
   "cell_type": "markdown",
   "source": "What function can you call on an object to determine its type (str, int, list…)?",
   "id": "aad84b3795d27ca6"
  },
  {
   "metadata": {},
   "cell_type": "markdown",
   "source": [
    "In [1]: type(12)\n",
    "Out[1]: int\n",
    "\n",
    "In [2]: type(7.8)\n",
    "Out[2]: float\n",
    "\n",
    "In [3]: type(\"Hello\")\n",
    "Out[3]: str\n",
    "\n",
    "In [4]: type([\"Sponge Bob\", 12, 3.14])\n",
    "Out[4]: list"
   ],
   "id": "8d251c3fd95b5fab"
  },
  {
   "metadata": {},
   "cell_type": "markdown",
   "source": "How do you add a key/value pair in a dict?",
   "id": "d1aa7b8a963e96e8"
  },
  {
   "metadata": {},
   "cell_type": "markdown",
   "source": [
    "In [1]: instruments = {'john': 'guitar', 'paul': 'bass'}\n",
    "\n",
    "In [2]: instruments['george'] = 'guitar'\n",
    "\n",
    "In [3]: instruments\n",
    "Out[3]: {'john': 'guitar', 'paul': 'bass', 'george': 'guitar'}\n"
   ],
   "id": "84e1c3f44174c287"
  },
  {
   "metadata": {},
   "cell_type": "markdown",
   "source": "How do you convert a str into an int?",
   "id": "e2dfd7da91ef452d"
  },
  {
   "metadata": {},
   "cell_type": "markdown",
   "source": [
    "In [1]: int('42')\n",
    "Out[1]: 42\n",
    "\n",
    "In [2]: type(int(42))\n",
    "Out[2]: int"
   ],
   "id": "77eff6854e2ffc91"
  },
  {
   "metadata": {},
   "cell_type": "markdown",
   "source": "How do you add a key/value pair in a dict?",
   "id": "b9793e5e678b4750"
  },
  {
   "metadata": {},
   "cell_type": "markdown",
   "source": [
    "In [1]: instruments = {'john': 'guitar', 'paul': 'bass'}\n",
    "\n",
    "In [2]: instruments['george'] = 'guitar'\n",
    "\n",
    "In [3]: instruments\n",
    "Out[3]: {'john': 'guitar', 'paul': 'bass', 'george': 'guitar'}\n"
   ],
   "id": "f59b8fe49ef4e445"
  },
  {
   "metadata": {},
   "cell_type": "markdown",
   "source": "How do you call a method on a string?",
   "id": "b93b90e4b66df012"
  },
  {
   "metadata": {},
   "cell_type": "markdown",
   "source": [
    "With a . and the name of the method, after the given string.\n",
    "For instance, calling the .upper() method on the \"Hello World\" string would give:\n",
    "\n",
    "In [1]: \"Hello World\".upper()\n",
    "Out[1]: \"HELLO WORLD\""
   ],
   "id": "375ed1aa0a355fa8"
  },
  {
   "metadata": {},
   "cell_type": "markdown",
   "source": "",
   "id": "f32bbf85ce5fd94b"
  }
 ],
 "metadata": {
  "kernelspec": {
   "display_name": "Python 3",
   "language": "python",
   "name": "python3"
  },
  "language_info": {
   "codemirror_mode": {
    "name": "ipython",
    "version": 2
   },
   "file_extension": ".py",
   "mimetype": "text/x-python",
   "name": "python",
   "nbconvert_exporter": "python",
   "pygments_lexer": "ipython2",
   "version": "2.7.6"
  }
 },
 "nbformat": 4,
 "nbformat_minor": 5
}
