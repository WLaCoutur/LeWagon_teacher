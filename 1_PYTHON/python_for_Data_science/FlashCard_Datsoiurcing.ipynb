{
 "cells": [
  {
   "cell_type": "code",
   "execution_count": null,
   "id": "initial_id",
   "metadata": {
    "collapsed": true
   },
   "outputs": [],
   "source": "What does API stand for and what does an API do?"
  },
  {
   "metadata": {},
   "cell_type": "markdown",
   "source": "What does API stand for and what does an API do?",
   "id": "c414ad22329aa56"
  },
  {
   "metadata": {},
   "cell_type": "markdown",
   "source": [
    "Data Sourcing with Python\n",
    "An application programming interface (API) is an interface or communication protocol between a client and a server intended to simplify the building of client-side software. It has been described as a “contract” between the client and the server."
   ],
   "id": "df4d57bd5d424dad"
  },
  {
   "metadata": {},
   "cell_type": "markdown",
   "source": "What does JSON mean and how is a .json file structured?",
   "id": "c7969539b3444961"
  },
  {
   "metadata": {},
   "cell_type": "markdown",
   "source": "JSON stands for JavaScript Object Notation, as it is structured like a JavaScript Object.",
   "id": "6e0e4c2b6ad13c84"
  },
  {
   "metadata": {},
   "cell_type": "markdown",
   "source": "What does CSV mean and how is a .csv file structured?",
   "id": "baf98a68b08b9de4"
  },
  {
   "metadata": {},
   "cell_type": "markdown",
   "source": "CSV means Comma-Separated Values, easy to read for humans, one row per record, record fields separated by a comma and the first optional row is for headers.",
   "id": "5c8562fdb4cc09e5"
  },
  {
   "metadata": {},
   "cell_type": "markdown",
   "source": "How do you target elements from the HTML DOM (Document Object Model)?",
   "id": "70a7b11d12487d5c"
  },
  {
   "metadata": {},
   "cell_type": "markdown",
   "source": "Using CSS selectors such as tag, id and class",
   "id": "b8503c0e086e731a"
  },
  {
   "metadata": {},
   "cell_type": "markdown",
   "source": "What are the main elements of HTTP requests?",
   "id": "8fe1b06740438941"
  },
  {
   "metadata": {},
   "cell_type": "markdown",
   "source": [
    "HTTP method (GET,POST,PATCH,DELETE,etc…)\n",
    "HTTP Headers\n",
    "HTTP Body\n",
    "HTTP URL"
   ],
   "id": "ffa9378e2ca88543"
  },
  {
   "metadata": {},
   "cell_type": "markdown",
   "source": "How would you read a CSV file for the headings to be considered as keys?",
   "id": "6dec788c0484c2d0"
  },
  {
   "metadata": {},
   "cell_type": "markdown",
   "source": "The function csv.DictReader() will read the CSV as a dictionary and each heading will be considered as a key.",
   "id": "c6bb399ff50cd2aa"
  },
  {
   "metadata": {},
   "cell_type": "markdown",
   "source": "When developing a scraper, operations are performed offline. Why?",
   "id": "ff74e5c8c1e25c7e"
  },
  {
   "metadata": {},
   "cell_type": "markdown",
   "source": "eOffline scraping is done to avoid sending excessive HTTP requests to the server. Such behavior puts us at risk of getting banned from the site.\n",
   "id": "8c4b124b6e06a0c0"
  },
  {
   "metadata": {},
   "cell_type": "markdown",
   "source": "What data format is returned by most modern APIs?",
   "id": "b0cd145506be0566"
  },
  {
   "metadata": {},
   "cell_type": "markdown",
   "source": "The data is returned in JSON format.",
   "id": "1ecd564b88388bb8"
  },
  {
   "metadata": {},
   "cell_type": "markdown",
   "source": "How would you read a CSV file in a dictionary structure?",
   "id": "47e9213748ab2f64"
  },
  {
   "metadata": {},
   "cell_type": "markdown",
   "source": "The function csv.DictReader() will read the CSV as a dictionary.",
   "id": "c380b49cdc550952"
  },
  {
   "metadata": {},
   "cell_type": "markdown",
   "source": "What are the 3 data file formats you know?",
   "id": "b6c0fcd5ac3fc934"
  },
  {
   "metadata": {},
   "cell_type": "markdown",
   "source": [
    "CSV for Comma-Separated Values\n",
    "XML for eXtensible Markup Language\n",
    "JSON for JavaScript Object Notation"
   ],
   "id": "f9d76a40edf49909"
  },
  {
   "metadata": {},
   "cell_type": "markdown",
   "source": "Which two libraries are used to parse HTML and scrape its content?",
   "id": "61179eee197ede51"
  },
  {
   "metadata": {},
   "cell_type": "markdown",
   "source": "requests is used to scrape (i.e. download) HTML and BeautifulSoup is used to parse its content to extract useful information.",
   "id": "b9a72e4c3a256c0e"
  },
  {
   "metadata": {},
   "cell_type": "markdown",
   "source": [
    "response = requests.get(url).json()\n",
    "In the code above, why is .json() chained after .get()?"
   ],
   "id": "df17902983a25b1"
  },
  {
   "metadata": {},
   "cell_type": "markdown",
   "source": ".json() converts the requests.models.Response returned by .get() into a Python object: a list or a dictionary.",
   "id": "db986c2c05a5e855"
  },
  {
   "metadata": {},
   "cell_type": "markdown",
   "source": "How would you read a CSV file for the headings to be considered as keys?",
   "id": "b21bc6d581837088"
  },
  {
   "metadata": {},
   "cell_type": "markdown",
   "source": "The function csv.DictReader() will read the CSV as a dictionary and each heading will be considered as a key.l",
   "id": "74fab121a6335a7e"
  }
 ],
 "metadata": {
  "kernelspec": {
   "display_name": "Python 3",
   "language": "python",
   "name": "python3"
  },
  "language_info": {
   "codemirror_mode": {
    "name": "ipython",
    "version": 2
   },
   "file_extension": ".py",
   "mimetype": "text/x-python",
   "name": "python",
   "nbconvert_exporter": "python",
   "pygments_lexer": "ipython2",
   "version": "2.7.6"
  }
 },
 "nbformat": 4,
 "nbformat_minor": 5
}
