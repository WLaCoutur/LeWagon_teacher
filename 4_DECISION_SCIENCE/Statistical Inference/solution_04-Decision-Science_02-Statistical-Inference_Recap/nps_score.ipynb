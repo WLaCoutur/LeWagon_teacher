{
 "cells": [
  {
   "cell_type": "markdown",
   "metadata": {},
   "source": [
    "## Imports"
   ]
  },
  {
   "cell_type": "code",
   "execution_count": null,
   "metadata": {},
   "outputs": [],
   "source": [
    "# Import the usual modules\n",
    "import pandas as pd\n",
    "import numpy as np\n",
    "import seaborn as sns\n",
    "import matplotlib.pyplot as plt\n",
    "\n",
    "# Import Olist data\n",
    "from olist.data import Olist\n",
    "from olist.order import Order"
   ]
  },
  {
   "cell_type": "markdown",
   "metadata": {},
   "source": [
    "# Olist's Net Promoter Score (NPS) 🔥\n",
    "\n",
    "The **Net Promoter Score (NPS)** of a service answers the following question:\n",
    "\n",
    "> How likely is it that you would recommend our company/product/service to a friend or colleague?\n",
    "\n",
    "For a service rated between 1 and 5 stars, like Olist, we can **classify customers into three categories** based on their answers:\n",
    "- ✅ **Promoters**: customers who answered  with a score of 5\n",
    "- 😴 **Passive**: customers who answered with a score of 4 \n",
    "- 😡 **Detractors**: customers who answered with a score between 1 and 3 (inclusive)\n",
    "\n",
    "<br>\n",
    "\n",
    "👉 NPS is computed by subtracting the percentage of customers who are **detractors** from the percentage of customers who are **promoters**.\n",
    "\n",
    "> NPS  \n",
    "= % Promoters - % Detractors   \n",
    "= (# Promoter - # Detractors) / # Reviews  \n",
    "= (# 5 stars - # <4 stars) / # Reviews"
   ]
  },
  {
   "cell_type": "markdown",
   "metadata": {},
   "source": [
    "## Computing the Overall NPS Score of Olist"
   ]
  },
  {
   "cell_type": "code",
   "execution_count": null,
   "metadata": {},
   "outputs": [],
   "source": [
    "data = Olist().get_data()\n",
    "orders = Order().get_training_data()"
   ]
  },
  {
   "cell_type": "code",
   "execution_count": null,
   "metadata": {
    "tags": [
     "delete"
    ]
   },
   "outputs": [
    {
     "data": {
      "text/plain": [
       "0        4\n",
       "1        4\n",
       "2        5\n",
       "3        5\n",
       "4        5\n",
       "        ..\n",
       "96356    5\n",
       "96357    4\n",
       "96358    5\n",
       "96359    2\n",
       "96360    5\n",
       "Name: review_score, Length: 96353, dtype: int64"
      ]
     },
     "execution_count": null,
     "metadata": {},
     "output_type": "execute_result"
    }
   ],
   "source": [
    "orders.review_score"
   ]
  },
  {
   "cell_type": "code",
   "execution_count": null,
   "metadata": {
    "tags": [
     "delete"
    ]
   },
   "outputs": [
    {
     "data": {
      "text/plain": [
       "pandas.core.series.Series"
      ]
     },
     "execution_count": null,
     "metadata": {},
     "output_type": "execute_result"
    }
   ],
   "source": [
    "type(orders.review_score)"
   ]
  },
  {
   "cell_type": "markdown",
   "metadata": {},
   "source": [
    "❓Create a function that converts `review_score` into `nps_class`. `nps_class` should be a **classification** depending on the `review_score`, so there are 3 possibilities:\n",
    "\n",
    "- `review_score` is **5** 👉 `nps_class` is **1** (promoter)\n",
    "- `review_score` is **4** 👉 `nps_class` is **0** (passive)\n",
    "- `review_score` is **3** or less 👉 `nps_class` is **-1** (detractor)"
   ]
  },
  {
   "cell_type": "code",
   "execution_count": null,
   "metadata": {
    "jupyter": {
     "outputs_hidden": true
    }
   },
   "outputs": [
    {
     "data": {
      "text/plain": [
       "0        0\n",
       "1        0\n",
       "2        1\n",
       "3        1\n",
       "4        1\n",
       "        ..\n",
       "96356    1\n",
       "96357    0\n",
       "96358    1\n",
       "96359   -1\n",
       "96360    1\n",
       "Name: review_score, Length: 96353, dtype: int64"
      ]
     },
     "execution_count": null,
     "metadata": {},
     "output_type": "execute_result"
    }
   ],
   "source": [
    "def promoter_score(review_score):\n",
    "    # $CHALLENGIFY_BEGIN\n",
    "    score = 0\n",
    "\n",
    "    if review_score == 5:\n",
    "        score = 1\n",
    "    if review_score < 4:\n",
    "        score = -1\n",
    "\n",
    "    return score\n",
    "\n",
    "orders.review_score.map(promoter_score)\n",
    "    # $CHALLENGIFY_END"
   ]
  },
  {
   "cell_type": "markdown",
   "metadata": {},
   "source": [
    "💡Let's try to rewrite this function into a single line of code that achieves the same result 😏\n",
    "\n",
    "There are **several** ways to do it! Let's look at some of them, then we can compare their execution times to that of our function to see which one is more efficient ⏱️\n",
    "\n",
    "Two general principles when it comes to programming/coding are:\n",
    "- `KISS`: **K**eep **I**t **S**imple and **S**mart\n",
    "- `DRY`: **D**on't **R**epeat **Y**ourself 😉\n",
    "\n",
    "<details>\n",
    "    <summary>💡Hint</summary>\n",
    "\n",
    "Use the following methods and use `%time` to compare their execution times:\n",
    "- `.apply()` with the function you wrote above\n",
    "- `.map()` or `.apply()` with a `lambda` function\n",
    "- `.loc[]` with boolean indexing\n",
    "- `np.select()` with matching conditions\n",
    "\n",
    "</details>    "
   ]
  },
  {
   "cell_type": "code",
   "execution_count": null,
   "metadata": {
    "tags": [
     "challengify"
    ]
   },
   "outputs": [
    {
     "name": "stdout",
     "output_type": "stream",
     "text": [
      "CPU times: user 38.7 ms, sys: 2.88 ms, total: 41.5 ms\n",
      "Wall time: 40.7 ms\n"
     ]
    }
   ],
   "source": [
    "%%time\n",
    "# Using .apply() with our function\n",
    "orders['promoter_class'] = orders.review_score.apply(promoter_score)"
   ]
  },
  {
   "cell_type": "code",
   "execution_count": null,
   "metadata": {
    "tags": [
     "delete"
    ]
   },
   "outputs": [
    {
     "name": "stdout",
     "output_type": "stream",
     "text": [
      "CPU times: user 35.9 ms, sys: 2.55 ms, total: 38.5 ms\n",
      "Wall time: 37.9 ms\n"
     ]
    }
   ],
   "source": [
    "%%time\n",
    "# Using .map() with our function\n",
    "orders['promoter_class'] = orders.review_score.map(promoter_score)"
   ]
  },
  {
   "cell_type": "code",
   "execution_count": null,
   "metadata": {
    "tags": [
     "delete"
    ]
   },
   "outputs": [
    {
     "name": "stdout",
     "output_type": "stream",
     "text": [
      "CPU times: user 37.4 ms, sys: 1.84 ms, total: 39.2 ms\n",
      "Wall time: 39.3 ms\n"
     ]
    }
   ],
   "source": [
    "%%time\n",
    "# Using .map() with lambda + chained ternary if statement; not recommended because it's harder to read\n",
    "orders['promoter_class'] = orders.review_score.map(lambda review_score: 1 if review_score == 5 else -1 if review_score < 4 else 0)"
   ]
  },
  {
   "cell_type": "code",
   "execution_count": null,
   "metadata": {
    "tags": [
     "delete"
    ]
   },
   "outputs": [
    {
     "name": "stdout",
     "output_type": "stream",
     "text": [
      "CPU times: user 3.14 ms, sys: 1.56 ms, total: 4.7 ms\n",
      "Wall time: 2.58 ms\n"
     ]
    }
   ],
   "source": [
    "%%time\n",
    "# Using .map() with a dictionary\n",
    "orders['promoter_class'] = orders.review_score.map({5: 1, 4: 0, 3: -1, 2: -1, 1: -1})"
   ]
  },
  {
   "cell_type": "code",
   "execution_count": null,
   "metadata": {
    "tags": [
     "delete"
    ]
   },
   "outputs": [
    {
     "name": "stdout",
     "output_type": "stream",
     "text": [
      "CPU times: user 5.87 ms, sys: 2.37 ms, total: 8.25 ms\n",
      "Wall time: 5.64 ms\n"
     ]
    }
   ],
   "source": [
    "%%time\n",
    "# Using .loc[] with boolean indexing (takes 1.91µs)\n",
    "# Setting conditions\n",
    "promoter = orders['review_score'] == 5\n",
    "passive = orders['review_score'] == 4\n",
    "detractor = orders['review_score'] <= 3\n",
    "\n",
    "orders.loc[promoter, 'promoter_class'] = 1\n",
    "orders.loc[passive, 'promoter_class'] = 0\n",
    "orders.loc[detractor, 'promoter_class'] = -1"
   ]
  },
  {
   "cell_type": "code",
   "execution_count": null,
   "metadata": {
    "tags": [
     "delete"
    ]
   },
   "outputs": [
    {
     "name": "stdout",
     "output_type": "stream",
     "text": [
      "CPU times: user 4.9 ms, sys: 4.2 ms, total: 9.11 ms\n",
      "Wall time: 7.04 ms\n"
     ]
    }
   ],
   "source": [
    "%%time\n",
    "# Using np.select()\n",
    "orders['promoter_class'] = np.select([orders.review_score == 5,orders.review_score == 4,orders.review_score < 4 ], [1, 0, -1])\n"
   ]
  },
  {
   "cell_type": "code",
   "execution_count": null,
   "metadata": {},
   "outputs": [
    {
     "name": "stdout",
     "output_type": "stream",
     "text": [
      "CPU times: user 3.26 ms, sys: 1.32 ms, total: 4.59 ms\n",
      "Wall time: 2.68 ms\n"
     ]
    }
   ],
   "source": [
    "%%time\n",
    "# Even more concisely with np.select()\n",
    "orders['promoter_class'] = np.select([orders.review_score >= 4], [orders.review_score - 4], -1)"
   ]
  },
  {
   "cell_type": "code",
   "execution_count": null,
   "metadata": {
    "tags": [
     "delete"
    ]
   },
   "outputs": [
    {
     "data": {
      "text/html": [
       "<div>\n",
       "<style scoped>\n",
       "    .dataframe tbody tr th:only-of-type {\n",
       "        vertical-align: middle;\n",
       "    }\n",
       "\n",
       "    .dataframe tbody tr th {\n",
       "        vertical-align: top;\n",
       "    }\n",
       "\n",
       "    .dataframe thead th {\n",
       "        text-align: right;\n",
       "    }\n",
       "</style>\n",
       "<table border=\"1\" class=\"dataframe\">\n",
       "  <thead>\n",
       "    <tr style=\"text-align: right;\">\n",
       "      <th></th>\n",
       "      <th>order_id</th>\n",
       "      <th>wait_time</th>\n",
       "      <th>expected_wait_time</th>\n",
       "      <th>delay_vs_expected</th>\n",
       "      <th>order_status</th>\n",
       "      <th>dim_is_five_star</th>\n",
       "      <th>dim_is_one_star</th>\n",
       "      <th>review_score</th>\n",
       "      <th>number_of_products</th>\n",
       "      <th>number_of_sellers</th>\n",
       "      <th>price</th>\n",
       "      <th>freight_value</th>\n",
       "      <th>promoter_class</th>\n",
       "    </tr>\n",
       "  </thead>\n",
       "  <tbody>\n",
       "    <tr>\n",
       "      <th>0</th>\n",
       "      <td>e481f51cbdc54678b7cc49136f2d6af7</td>\n",
       "      <td>8.436574</td>\n",
       "      <td>15.544063</td>\n",
       "      <td>0.0</td>\n",
       "      <td>delivered</td>\n",
       "      <td>0</td>\n",
       "      <td>0</td>\n",
       "      <td>4</td>\n",
       "      <td>1</td>\n",
       "      <td>1</td>\n",
       "      <td>29.99</td>\n",
       "      <td>8.72</td>\n",
       "      <td>0</td>\n",
       "    </tr>\n",
       "    <tr>\n",
       "      <th>1</th>\n",
       "      <td>53cdb2fc8bc7dce0b6741e2150273451</td>\n",
       "      <td>13.782037</td>\n",
       "      <td>19.137766</td>\n",
       "      <td>0.0</td>\n",
       "      <td>delivered</td>\n",
       "      <td>0</td>\n",
       "      <td>0</td>\n",
       "      <td>4</td>\n",
       "      <td>1</td>\n",
       "      <td>1</td>\n",
       "      <td>118.70</td>\n",
       "      <td>22.76</td>\n",
       "      <td>0</td>\n",
       "    </tr>\n",
       "    <tr>\n",
       "      <th>2</th>\n",
       "      <td>47770eb9100c2d0c44946d9cf07ec65d</td>\n",
       "      <td>9.394213</td>\n",
       "      <td>26.639711</td>\n",
       "      <td>0.0</td>\n",
       "      <td>delivered</td>\n",
       "      <td>1</td>\n",
       "      <td>0</td>\n",
       "      <td>5</td>\n",
       "      <td>1</td>\n",
       "      <td>1</td>\n",
       "      <td>159.90</td>\n",
       "      <td>19.22</td>\n",
       "      <td>1</td>\n",
       "    </tr>\n",
       "    <tr>\n",
       "      <th>3</th>\n",
       "      <td>949d5b44dbf5de918fe9c16f97b45f8a</td>\n",
       "      <td>13.208750</td>\n",
       "      <td>26.188819</td>\n",
       "      <td>0.0</td>\n",
       "      <td>delivered</td>\n",
       "      <td>1</td>\n",
       "      <td>0</td>\n",
       "      <td>5</td>\n",
       "      <td>1</td>\n",
       "      <td>1</td>\n",
       "      <td>45.00</td>\n",
       "      <td>27.20</td>\n",
       "      <td>1</td>\n",
       "    </tr>\n",
       "    <tr>\n",
       "      <th>4</th>\n",
       "      <td>ad21c59c0840e6cb83a9ceb5573f8159</td>\n",
       "      <td>2.873877</td>\n",
       "      <td>12.112049</td>\n",
       "      <td>0.0</td>\n",
       "      <td>delivered</td>\n",
       "      <td>1</td>\n",
       "      <td>0</td>\n",
       "      <td>5</td>\n",
       "      <td>1</td>\n",
       "      <td>1</td>\n",
       "      <td>19.90</td>\n",
       "      <td>8.72</td>\n",
       "      <td>1</td>\n",
       "    </tr>\n",
       "  </tbody>\n",
       "</table>\n",
       "</div>"
      ],
      "text/plain": [
       "                           order_id  wait_time  expected_wait_time  \\\n",
       "0  e481f51cbdc54678b7cc49136f2d6af7   8.436574           15.544063   \n",
       "1  53cdb2fc8bc7dce0b6741e2150273451  13.782037           19.137766   \n",
       "2  47770eb9100c2d0c44946d9cf07ec65d   9.394213           26.639711   \n",
       "3  949d5b44dbf5de918fe9c16f97b45f8a  13.208750           26.188819   \n",
       "4  ad21c59c0840e6cb83a9ceb5573f8159   2.873877           12.112049   \n",
       "\n",
       "   delay_vs_expected order_status  dim_is_five_star  dim_is_one_star  \\\n",
       "0                0.0    delivered                 0                0   \n",
       "1                0.0    delivered                 0                0   \n",
       "2                0.0    delivered                 1                0   \n",
       "3                0.0    delivered                 1                0   \n",
       "4                0.0    delivered                 1                0   \n",
       "\n",
       "   review_score  number_of_products  number_of_sellers   price  freight_value  \\\n",
       "0             4                   1                  1   29.99           8.72   \n",
       "1             4                   1                  1  118.70          22.76   \n",
       "2             5                   1                  1  159.90          19.22   \n",
       "3             5                   1                  1   45.00          27.20   \n",
       "4             5                   1                  1   19.90           8.72   \n",
       "\n",
       "   promoter_class  \n",
       "0               0  \n",
       "1               0  \n",
       "2               1  \n",
       "3               1  \n",
       "4               1  "
      ]
     },
     "execution_count": null,
     "metadata": {},
     "output_type": "execute_result"
    }
   ],
   "source": [
    "orders.head()"
   ]
  },
  {
   "cell_type": "markdown",
   "metadata": {},
   "source": [
    "**A Note About `.apply()`**\n",
    "\n",
    "Consider the following examples:\n",
    "\n",
    "```python\n",
    "df.apply(lambda col: col.max(), axis = 0)\n",
    "df.apply(lambda row: row['A'] + row['B'], axis = 1)\n",
    "```\n",
    "\n",
    "These operations look similar because they both use `.apply()`, but one is much slower than the other. The data layout for Pandas DataFrames is **column-major** (read more [here](https://en.wikipedia.org/wiki/Row-_and_column-major_order)), which means that column-wise operations are always going to be faster than row-wise operations. The second example above uses `axis=1`, making it a row-wise operation, which would be more appropriate for **row-major** data layouts such as NumPy arrays.\n",
    "\n",
    "For small amounts of data, this difference is irrelevant, but when you start working with huge datasets this will probably make a big difference. For big datasets, you're likely to notice that using `.loc[]`, `np.select()` or `np.apply_along_axis()` will run faster on Pandas DataFrames when applying a function on every row.\n",
    "\n",
    "It's always good to understand how your data is stored before you access it!"
   ]
  },
  {
   "cell_type": "markdown",
   "metadata": {},
   "source": [
    "👇 Now that you have the different promoter scores, you can compute `Olist's NPS`."
   ]
  },
  {
   "cell_type": "code",
   "execution_count": null,
   "metadata": {
    "tags": [
     "challengify"
    ]
   },
   "outputs": [],
   "source": [
    "nps = orders.review_score.map({5: 1, 4: 0, 3: -1, 2: -1, 1: -1}).sum() / orders.review_score.count()"
   ]
  },
  {
   "cell_type": "code",
   "execution_count": null,
   "metadata": {
    "tags": [
     "delete"
    ]
   },
   "outputs": [
    {
     "data": {
      "text/plain": [
       "'NPS Score: 38.1%'"
      ]
     },
     "execution_count": null,
     "metadata": {},
     "output_type": "execute_result"
    }
   ],
   "source": [
    "# Displaying as a percentage to 1 decimal place e.g \"NPS score = 47.8%\"\n",
    "f'NPS Score: {nps * 100:.1f}%'"
   ]
  },
  {
   "cell_type": "markdown",
   "metadata": {},
   "source": [
    "## NPS per Customer State\n",
    "\n",
    "👇 Here is the part of Olist's DB schema that is relevant for this section, to help you have an overview of things.\n",
    "\n",
    "<img src=\"https://wagon-public-datasets.s3-eu-west-1.amazonaws.com/04-Decision-Science/02-Statistical-Inference/olist_schema_for_nps.png\" width=750>"
   ]
  },
  {
   "cell_type": "markdown",
   "metadata": {},
   "source": [
    "### What is the average review score per state?"
   ]
  },
  {
   "cell_type": "markdown",
   "metadata": {},
   "source": [
    "❓First, create the dataset required for computation"
   ]
  },
  {
   "cell_type": "code",
   "execution_count": null,
   "metadata": {
    "tags": [
     "challengify"
    ]
   },
   "outputs": [
    {
     "data": {
      "text/plain": [
       "99224"
      ]
     },
     "execution_count": null,
     "metadata": {},
     "output_type": "execute_result"
    }
   ],
   "source": [
    "# Practice \"chaining\" methods in pandas\n",
    "# $CHALLENGIFY_BEGIN\n",
    "merge = data['orders']\\\n",
    ".merge(data['order_reviews'], on='order_id')\\\n",
    ".merge(data['customers'], on='customer_id')\n",
    "\n",
    "len(merge)\n",
    "# $CHALLENGIFY_END"
   ]
  },
  {
   "cell_type": "code",
   "execution_count": null,
   "metadata": {
    "tags": [
     "delete"
    ]
   },
   "outputs": [
    {
     "data": {
      "text/plain": [
       "order_id                         98673\n",
       "customer_id                      98673\n",
       "order_status                         8\n",
       "order_purchase_timestamp         98115\n",
       "order_approved_at                90082\n",
       "order_delivered_carrier_date     80451\n",
       "order_delivered_customer_date    95022\n",
       "order_estimated_delivery_date      459\n",
       "review_id                        98410\n",
       "review_score                         5\n",
       "review_comment_title              4527\n",
       "review_comment_message           36159\n",
       "review_creation_date               636\n",
       "review_answer_timestamp          98248\n",
       "customer_unique_id               95380\n",
       "customer_zip_code_prefix         14973\n",
       "customer_city                     4117\n",
       "customer_state                      27\n",
       "dtype: int64"
      ]
     },
     "execution_count": null,
     "metadata": {},
     "output_type": "execute_result"
    }
   ],
   "source": [
    "merge.nunique()"
   ]
  },
  {
   "cell_type": "markdown",
   "metadata": {},
   "source": [
    "👉 Now, we can aggregate this dataset per  `customer_state` using any aggregation method of our choice :)\n",
    "\n",
    "❓ Let's start with the average review score: compute the average `review_score` per `customer_state`.\n",
    "\n",
    "*Hints:* try to tackle this question using three different methods:\n",
    "- with `.mean()`\n",
    "- then with `.apply()`\n",
    "- and eventually the `.agg()`"
   ]
  },
  {
   "cell_type": "code",
   "execution_count": null,
   "metadata": {
    "tags": [
     "challengify"
    ]
   },
   "outputs": [
    {
     "data": {
      "text/plain": [
       "customer_state\n",
       "AC    4.049383\n",
       "AL    3.751208\n",
       "AM    4.183673\n",
       "AP    4.194030\n",
       "BA    3.860888\n",
       "Name: review_score, dtype: float64"
      ]
     },
     "execution_count": null,
     "metadata": {},
     "output_type": "execute_result"
    }
   ],
   "source": [
    "# Compute the average review_score per customer_state\n",
    "merge.groupby(['customer_state'])['review_score'].mean().head()"
   ]
  },
  {
   "cell_type": "code",
   "execution_count": null,
   "metadata": {
    "tags": [
     "challengify"
    ]
   },
   "outputs": [
    {
     "data": {
      "text/plain": [
       "customer_state\n",
       "AC    4.049383\n",
       "AL    3.751208\n",
       "AM    4.183673\n",
       "AP    4.194030\n",
       "BA    3.860888\n",
       "Name: review_score, dtype: float64"
      ]
     },
     "execution_count": null,
     "metadata": {},
     "output_type": "execute_result"
    }
   ],
   "source": [
    "# Use .apply() to do the same thing\n",
    "merge.groupby(['customer_state'])['review_score'].apply(np.mean).head()"
   ]
  },
  {
   "cell_type": "code",
   "execution_count": null,
   "metadata": {
    "tags": [
     "challengify"
    ]
   },
   "outputs": [
    {
     "data": {
      "text/html": [
       "<div>\n",
       "<style scoped>\n",
       "    .dataframe tbody tr th:only-of-type {\n",
       "        vertical-align: middle;\n",
       "    }\n",
       "\n",
       "    .dataframe tbody tr th {\n",
       "        vertical-align: top;\n",
       "    }\n",
       "\n",
       "    .dataframe thead th {\n",
       "        text-align: right;\n",
       "    }\n",
       "</style>\n",
       "<table border=\"1\" class=\"dataframe\">\n",
       "  <thead>\n",
       "    <tr style=\"text-align: right;\">\n",
       "      <th></th>\n",
       "      <th>mean_review_score</th>\n",
       "    </tr>\n",
       "    <tr>\n",
       "      <th>customer_state</th>\n",
       "      <th></th>\n",
       "    </tr>\n",
       "  </thead>\n",
       "  <tbody>\n",
       "    <tr>\n",
       "      <th>AC</th>\n",
       "      <td>4.049383</td>\n",
       "    </tr>\n",
       "    <tr>\n",
       "      <th>AL</th>\n",
       "      <td>3.751208</td>\n",
       "    </tr>\n",
       "    <tr>\n",
       "      <th>AM</th>\n",
       "      <td>4.183673</td>\n",
       "    </tr>\n",
       "    <tr>\n",
       "      <th>AP</th>\n",
       "      <td>4.194030</td>\n",
       "    </tr>\n",
       "    <tr>\n",
       "      <th>BA</th>\n",
       "      <td>3.860888</td>\n",
       "    </tr>\n",
       "  </tbody>\n",
       "</table>\n",
       "</div>"
      ],
      "text/plain": [
       "                mean_review_score\n",
       "customer_state                   \n",
       "AC                       4.049383\n",
       "AL                       3.751208\n",
       "AM                       4.183673\n",
       "AP                       4.194030\n",
       "BA                       3.860888"
      ]
     },
     "execution_count": null,
     "metadata": {},
     "output_type": "execute_result"
    }
   ],
   "source": [
    "# Try with .agg(), it's much more flexible!\n",
    "merge.groupby(['customer_state']).agg({'review_score': np.mean})\\\n",
    ".rename(columns={'review_score': 'mean_review_score'})\\\n",
    ".head()"
   ]
  },
  {
   "cell_type": "markdown",
   "metadata": {},
   "source": [
    "🤩 `.agg()` is much more flexible than the other methods, push it further!"
   ]
  },
  {
   "cell_type": "code",
   "execution_count": null,
   "metadata": {
    "tags": [
     "challengify"
    ]
   },
   "outputs": [
    {
     "data": {
      "text/html": [
       "<div>\n",
       "<style scoped>\n",
       "    .dataframe tbody tr th:only-of-type {\n",
       "        vertical-align: middle;\n",
       "    }\n",
       "\n",
       "    .dataframe tbody tr th {\n",
       "        vertical-align: top;\n",
       "    }\n",
       "\n",
       "    .dataframe thead tr th {\n",
       "        text-align: left;\n",
       "    }\n",
       "\n",
       "    .dataframe thead tr:last-of-type th {\n",
       "        text-align: right;\n",
       "    }\n",
       "</style>\n",
       "<table border=\"1\" class=\"dataframe\">\n",
       "  <thead>\n",
       "    <tr>\n",
       "      <th></th>\n",
       "      <th colspan=\"2\" halign=\"left\">review_score</th>\n",
       "      <th>customer_zip_code_prefix</th>\n",
       "    </tr>\n",
       "    <tr>\n",
       "      <th></th>\n",
       "      <th>max</th>\n",
       "      <th>mean</th>\n",
       "      <th>nunique</th>\n",
       "    </tr>\n",
       "    <tr>\n",
       "      <th>customer_state</th>\n",
       "      <th></th>\n",
       "      <th></th>\n",
       "      <th></th>\n",
       "    </tr>\n",
       "  </thead>\n",
       "  <tbody>\n",
       "    <tr>\n",
       "      <th>AC</th>\n",
       "      <td>5</td>\n",
       "      <td>4.049383</td>\n",
       "      <td>20</td>\n",
       "    </tr>\n",
       "    <tr>\n",
       "      <th>AL</th>\n",
       "      <td>5</td>\n",
       "      <td>3.751208</td>\n",
       "      <td>126</td>\n",
       "    </tr>\n",
       "    <tr>\n",
       "      <th>AM</th>\n",
       "      <td>5</td>\n",
       "      <td>4.183673</td>\n",
       "      <td>55</td>\n",
       "    </tr>\n",
       "    <tr>\n",
       "      <th>AP</th>\n",
       "      <td>5</td>\n",
       "      <td>4.194030</td>\n",
       "      <td>18</td>\n",
       "    </tr>\n",
       "    <tr>\n",
       "      <th>BA</th>\n",
       "      <td>5</td>\n",
       "      <td>3.860888</td>\n",
       "      <td>734</td>\n",
       "    </tr>\n",
       "  </tbody>\n",
       "</table>\n",
       "</div>"
      ],
      "text/plain": [
       "               review_score           customer_zip_code_prefix\n",
       "                        max      mean                  nunique\n",
       "customer_state                                                \n",
       "AC                        5  4.049383                       20\n",
       "AL                        5  3.751208                      126\n",
       "AM                        5  4.183673                       55\n",
       "AP                        5  4.194030                       18\n",
       "BA                        5  3.860888                      734"
      ]
     },
     "execution_count": null,
     "metadata": {},
     "output_type": "execute_result"
    }
   ],
   "source": [
    "merge.groupby(['customer_state']).agg({\n",
    "    'review_score': [max, np.mean],\n",
    "    'customer_zip_code_prefix': [pd.Series.nunique]\n",
    "}).head()\\\n",
    "#.loc[:, ('review_score', 'max')]"
   ]
  },
  {
   "cell_type": "markdown",
   "metadata": {},
   "source": [
    "### NPS per State"
   ]
  },
  {
   "cell_type": "markdown",
   "metadata": {},
   "source": [
    "❓Now, it is time to create a 🔥 **custom aggregation function** to compute the `NPS per customer_state` directly.\n",
    "\n",
    "1️⃣ Create your `nps` function\n",
    "\n",
    "2️⃣ Try to debug it using the `breakpoint()` debugger within your function to understand clearly what objects you are manipulating\n",
    "\n",
    "<br>\n",
    "\n",
    "💡 *PS.:* always **cleanly** exit your debugger by typing `exit` when inside the debugging session, otherwise you will have to restart your Notebook!"
   ]
  },
  {
   "cell_type": "code",
   "execution_count": null,
   "metadata": {
    "tags": [
     "challengify"
    ]
   },
   "outputs": [],
   "source": [
    "def nps(series):\n",
    "    # breakpoint()\n",
    "    return series.map(promoter_score).sum() / series.count()"
   ]
  },
  {
   "cell_type": "markdown",
   "metadata": {},
   "source": [
    "👉 Now, use your `nps` function to compute the `NPS per customer_state`."
   ]
  },
  {
   "cell_type": "code",
   "execution_count": null,
   "metadata": {
    "tags": [
     "challengify"
    ]
   },
   "outputs": [
    {
     "data": {
      "text/html": [
       "<div>\n",
       "<style scoped>\n",
       "    .dataframe tbody tr th:only-of-type {\n",
       "        vertical-align: middle;\n",
       "    }\n",
       "\n",
       "    .dataframe tbody tr th {\n",
       "        vertical-align: top;\n",
       "    }\n",
       "\n",
       "    .dataframe thead th {\n",
       "        text-align: right;\n",
       "    }\n",
       "</style>\n",
       "<table border=\"1\" class=\"dataframe\">\n",
       "  <thead>\n",
       "    <tr style=\"text-align: right;\">\n",
       "      <th></th>\n",
       "      <th>review_score</th>\n",
       "    </tr>\n",
       "    <tr>\n",
       "      <th>customer_state</th>\n",
       "      <th></th>\n",
       "    </tr>\n",
       "  </thead>\n",
       "  <tbody>\n",
       "    <tr>\n",
       "      <th>AC</th>\n",
       "      <td>0.296296</td>\n",
       "    </tr>\n",
       "    <tr>\n",
       "      <th>AL</th>\n",
       "      <td>0.166667</td>\n",
       "    </tr>\n",
       "    <tr>\n",
       "      <th>AM</th>\n",
       "      <td>0.414966</td>\n",
       "    </tr>\n",
       "    <tr>\n",
       "      <th>AP</th>\n",
       "      <td>0.313433</td>\n",
       "    </tr>\n",
       "    <tr>\n",
       "      <th>BA</th>\n",
       "      <td>0.199881</td>\n",
       "    </tr>\n",
       "  </tbody>\n",
       "</table>\n",
       "</div>"
      ],
      "text/plain": [
       "                review_score\n",
       "customer_state              \n",
       "AC                  0.296296\n",
       "AL                  0.166667\n",
       "AM                  0.414966\n",
       "AP                  0.313433\n",
       "BA                  0.199881"
      ]
     },
     "execution_count": null,
     "metadata": {},
     "output_type": "execute_result"
    }
   ],
   "source": [
    "merge.groupby(['customer_state']).agg({\n",
    "    'review_score': nps,\n",
    "}).head()"
   ]
  },
  {
   "cell_type": "markdown",
   "metadata": {},
   "source": [
    "Again, instead of using this function, try to do the same task in one line of code, remember the `KISS` principle? 😉"
   ]
  },
  {
   "cell_type": "code",
   "execution_count": null,
   "metadata": {
    "tags": [
     "challengify"
    ]
   },
   "outputs": [
    {
     "data": {
      "text/plain": [
       "customer_state\n",
       "AC    0.296296\n",
       "AL    0.166667\n",
       "AM    0.414966\n",
       "AP    0.313433\n",
       "BA    0.199881\n",
       "CE    0.207675\n",
       "DF    0.333799\n",
       "ES    0.311012\n",
       "GO    0.305830\n",
       "MA    0.156836\n",
       "MG    0.372989\n",
       "MS    0.374309\n",
       "MT    0.343300\n",
       "PA    0.205579\n",
       "PB    0.306968\n",
       "PE    0.312272\n",
       "PI    0.250509\n",
       "PR    0.398769\n",
       "RJ    0.253349\n",
       "RN    0.358921\n",
       "RO    0.301587\n",
       "RR    0.043478\n",
       "RS    0.368959\n",
       "SC    0.332597\n",
       "SE    0.206304\n",
       "SP    0.397481\n",
       "TO    0.326165\n",
       "Name: review_score, dtype: float64"
      ]
     },
     "execution_count": null,
     "metadata": {},
     "output_type": "execute_result"
    }
   ],
   "source": [
    "# Challenge: Try a one-liner code!\n",
    "merge.groupby(['customer_state'])['review_score'].apply(nps)"
   ]
  },
  {
   "cell_type": "markdown",
   "metadata": {},
   "source": [
    "# Cheat Sheet for `map`, `apply`, `applymap` and `groupby`"
   ]
  },
  {
   "cell_type": "markdown",
   "metadata": {},
   "source": [
    "```python\n",
    "# MAP (for Series)\n",
    "series.map(function) \n",
    "series.map({mapping dict})\n",
    "\n",
    "# APPLY (for DataFrame)\n",
    "df.apply(lambda col: col.max(), axis = 0)     # default axis\n",
    "df.apply(lambda row: row[‘A’] + row[‘B’], axis = 1)\n",
    "\n",
    "df.applymap(my_funct_for_indiv_elements)\n",
    "df.applymap(lambda x: '%.2f' % x)\n",
    "```"
   ]
  },
  {
   "cell_type": "markdown",
   "metadata": {},
   "source": [
    "```python\n",
    "## GROUPBY\n",
    "group = df.groupby('col_A')\n",
    "\n",
    "group.mean()\n",
    "group.apply(np.mean)\n",
    "group.agg({\n",
    "    col_A: ['mean', np.sum],\n",
    "    col_B: my_custom_sum,\n",
    "    col_B: lambda s: my_custom_sum(s)\n",
    "})\n",
    "\n",
    "group.apply(custom_mean_function)\n",
    "```"
   ]
  },
  {
   "cell_type": "markdown",
   "metadata": {},
   "source": [
    "[Introduction to Pandas' `apply`, `applymap` and `map` - Towards Data Science](https://medium.com/towards-data-science/introduction-to-pandas-apply-applymap-and-map-5d3e044e93ff)"
   ]
  }
 ],
 "metadata": {
  "kernelspec": {
   "display_name": "Python 3",
   "language": "python",
   "name": "python3"
  }
 },
 "nbformat": 4,
 "nbformat_minor": 4
}
