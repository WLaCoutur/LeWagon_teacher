{
 "cells": [
  {
   "cell_type": "code",
   "execution_count": null,
   "metadata": {},
   "outputs": [],
   "source": [
    "import pandas as pd\n",
    "import numpy as np\n",
    "import matplotlib.pyplot as plt\n",
    "import seaborn as sns\n",
    "\n",
    "from sklearn import datasets\n",
    "from sklearn.linear_model import LinearRegression\n",
    "from sklearn.model_selection import train_test_split\n",
    "from sklearn.metrics import mean_squared_error"
   ]
  },
  {
   "cell_type": "markdown",
   "metadata": {},
   "source": [
    "# Gradient Descent (Advanced)"
   ]
  },
  {
   "cell_type": "markdown",
   "metadata": {},
   "source": [
    "In this exercise, we will\n",
    "\n",
    "- Code our Gradient Descent in vectorized form for a high-dimensional Loss Function\n",
    "- Fine-tune your choice of # of epochs on GD"
   ]
  },
  {
   "cell_type": "markdown",
   "metadata": {},
   "source": [
    "## 1. Our Dataset"
   ]
  },
  {
   "cell_type": "markdown",
   "metadata": {},
   "source": [
    "We are going to study the [diabetes dataset](https://scikit-learn.org/stable/datasets/toy_dataset.html#diabetes-dataset) and try to predict the **intensity of the disease** based on **10 quantitative features**, such as body-mass-index, age, etc. (regression problem)"
   ]
  },
  {
   "cell_type": "code",
   "execution_count": null,
   "metadata": {},
   "outputs": [
    {
     "name": "stdout",
     "output_type": "stream",
     "text": [
      "(442, 10)\n",
      "(442,)\n"
     ]
    }
   ],
   "source": [
    "X, y = datasets.load_diabetes(return_X_y = True, as_frame = True)\n",
    "\n",
    "print(X.shape)\n",
    "print(y.shape)"
   ]
  },
  {
   "cell_type": "code",
   "execution_count": null,
   "metadata": {},
   "outputs": [
    {
     "data": {
      "text/html": [
       "<div>\n",
       "<style scoped>\n",
       "    .dataframe tbody tr th:only-of-type {\n",
       "        vertical-align: middle;\n",
       "    }\n",
       "\n",
       "    .dataframe tbody tr th {\n",
       "        vertical-align: top;\n",
       "    }\n",
       "\n",
       "    .dataframe thead th {\n",
       "        text-align: right;\n",
       "    }\n",
       "</style>\n",
       "<table border=\"1\" class=\"dataframe\">\n",
       "  <thead>\n",
       "    <tr style=\"text-align: right;\">\n",
       "      <th></th>\n",
       "      <th>age</th>\n",
       "      <th>sex</th>\n",
       "      <th>bmi</th>\n",
       "      <th>bp</th>\n",
       "      <th>s1</th>\n",
       "      <th>s2</th>\n",
       "      <th>s3</th>\n",
       "      <th>s4</th>\n",
       "      <th>s5</th>\n",
       "      <th>s6</th>\n",
       "    </tr>\n",
       "  </thead>\n",
       "  <tbody>\n",
       "    <tr>\n",
       "      <th>0</th>\n",
       "      <td>0.038076</td>\n",
       "      <td>0.050680</td>\n",
       "      <td>0.061696</td>\n",
       "      <td>0.021872</td>\n",
       "      <td>-0.044223</td>\n",
       "      <td>-0.034821</td>\n",
       "      <td>-0.043401</td>\n",
       "      <td>-0.002592</td>\n",
       "      <td>0.019907</td>\n",
       "      <td>-0.017646</td>\n",
       "    </tr>\n",
       "    <tr>\n",
       "      <th>1</th>\n",
       "      <td>-0.001882</td>\n",
       "      <td>-0.044642</td>\n",
       "      <td>-0.051474</td>\n",
       "      <td>-0.026328</td>\n",
       "      <td>-0.008449</td>\n",
       "      <td>-0.019163</td>\n",
       "      <td>0.074412</td>\n",
       "      <td>-0.039493</td>\n",
       "      <td>-0.068332</td>\n",
       "      <td>-0.092204</td>\n",
       "    </tr>\n",
       "    <tr>\n",
       "      <th>2</th>\n",
       "      <td>0.085299</td>\n",
       "      <td>0.050680</td>\n",
       "      <td>0.044451</td>\n",
       "      <td>-0.005670</td>\n",
       "      <td>-0.045599</td>\n",
       "      <td>-0.034194</td>\n",
       "      <td>-0.032356</td>\n",
       "      <td>-0.002592</td>\n",
       "      <td>0.002861</td>\n",
       "      <td>-0.025930</td>\n",
       "    </tr>\n",
       "    <tr>\n",
       "      <th>3</th>\n",
       "      <td>-0.089063</td>\n",
       "      <td>-0.044642</td>\n",
       "      <td>-0.011595</td>\n",
       "      <td>-0.036656</td>\n",
       "      <td>0.012191</td>\n",
       "      <td>0.024991</td>\n",
       "      <td>-0.036038</td>\n",
       "      <td>0.034309</td>\n",
       "      <td>0.022688</td>\n",
       "      <td>-0.009362</td>\n",
       "    </tr>\n",
       "    <tr>\n",
       "      <th>4</th>\n",
       "      <td>0.005383</td>\n",
       "      <td>-0.044642</td>\n",
       "      <td>-0.036385</td>\n",
       "      <td>0.021872</td>\n",
       "      <td>0.003935</td>\n",
       "      <td>0.015596</td>\n",
       "      <td>0.008142</td>\n",
       "      <td>-0.002592</td>\n",
       "      <td>-0.031988</td>\n",
       "      <td>-0.046641</td>\n",
       "    </tr>\n",
       "  </tbody>\n",
       "</table>\n",
       "</div>"
      ],
      "text/plain": [
       "        age       sex       bmi        bp        s1        s2        s3  \\\n",
       "0  0.038076  0.050680  0.061696  0.021872 -0.044223 -0.034821 -0.043401   \n",
       "1 -0.001882 -0.044642 -0.051474 -0.026328 -0.008449 -0.019163  0.074412   \n",
       "2  0.085299  0.050680  0.044451 -0.005670 -0.045599 -0.034194 -0.032356   \n",
       "3 -0.089063 -0.044642 -0.011595 -0.036656  0.012191  0.024991 -0.036038   \n",
       "4  0.005383 -0.044642 -0.036385  0.021872  0.003935  0.015596  0.008142   \n",
       "\n",
       "         s4        s5        s6  \n",
       "0 -0.002592  0.019907 -0.017646  \n",
       "1 -0.039493 -0.068332 -0.092204  \n",
       "2 -0.002592  0.002861 -0.025930  \n",
       "3  0.034309  0.022688 -0.009362  \n",
       "4 -0.002592 -0.031988 -0.046641  "
      ]
     },
     "execution_count": null,
     "metadata": {},
     "output_type": "execute_result"
    }
   ],
   "source": [
    "X.head()"
   ]
  },
  {
   "cell_type": "code",
   "execution_count": null,
   "metadata": {},
   "outputs": [
    {
     "data": {
      "image/png": "[encoded data removed]",
      "text/plain": [
       "<Figure size 640x480 with 1 Axes>"
      ]
     },
     "metadata": {},
     "output_type": "display_data"
    }
   ],
   "source": [
    "sns.histplot(y, kde = True);"
   ]
  },
  {
   "cell_type": "markdown",
   "metadata": {},
   "source": [
    "## 2. Code a Vectorial Gradient Descent"
   ]
  },
  {
   "cell_type": "markdown",
   "metadata": {},
   "source": [
    "We're modeling a linear regression $\\hat{y} = X\\beta$"
   ]
  },
  {
   "cell_type": "markdown",
   "metadata": {},
   "source": [
    "<img src=\"https://wagon-public-datasets.s3.amazonaws.com/05-Machine-Learning/04-Under-the-Hood/vectorial-gradient.jpg\">"
   ]
  },
  {
   "cell_type": "markdown",
   "metadata": {},
   "source": [
    "So, first, let's add an \"intercept\" column of \"ones\" to our feature matrix X"
   ]
  },
  {
   "cell_type": "code",
   "execution_count": null,
   "metadata": {},
   "outputs": [
    {
     "data": {
      "text/plain": [
       "(442, 11)"
      ]
     },
     "execution_count": null,
     "metadata": {},
     "output_type": "execute_result"
    }
   ],
   "source": [
    "# Let's add an intercept column of \"ones\"\n",
    "X = np.hstack((X, np.ones((X.shape[0], 1))))\n",
    "X.shape"
   ]
  },
  {
   "cell_type": "code",
   "execution_count": null,
   "metadata": {},
   "outputs": [
    {
     "data": {
      "text/html": [
       "<div>\n",
       "<style scoped>\n",
       "    .dataframe tbody tr th:only-of-type {\n",
       "        vertical-align: middle;\n",
       "    }\n",
       "\n",
       "    .dataframe tbody tr th {\n",
       "        vertical-align: top;\n",
       "    }\n",
       "\n",
       "    .dataframe thead th {\n",
       "        text-align: right;\n",
       "    }\n",
       "</style>\n",
       "<table border=\"1\" class=\"dataframe\">\n",
       "  <thead>\n",
       "    <tr style=\"text-align: right;\">\n",
       "      <th></th>\n",
       "      <th>0</th>\n",
       "      <th>1</th>\n",
       "      <th>2</th>\n",
       "      <th>3</th>\n",
       "      <th>4</th>\n",
       "      <th>5</th>\n",
       "      <th>6</th>\n",
       "      <th>7</th>\n",
       "      <th>8</th>\n",
       "      <th>9</th>\n",
       "      <th>10</th>\n",
       "    </tr>\n",
       "  </thead>\n",
       "  <tbody>\n",
       "    <tr>\n",
       "      <th>0</th>\n",
       "      <td>0.038076</td>\n",
       "      <td>0.050680</td>\n",
       "      <td>0.061696</td>\n",
       "      <td>0.021872</td>\n",
       "      <td>-0.044223</td>\n",
       "      <td>-0.034821</td>\n",
       "      <td>-0.043401</td>\n",
       "      <td>-0.002592</td>\n",
       "      <td>0.019907</td>\n",
       "      <td>-0.017646</td>\n",
       "      <td>1.0</td>\n",
       "    </tr>\n",
       "    <tr>\n",
       "      <th>1</th>\n",
       "      <td>-0.001882</td>\n",
       "      <td>-0.044642</td>\n",
       "      <td>-0.051474</td>\n",
       "      <td>-0.026328</td>\n",
       "      <td>-0.008449</td>\n",
       "      <td>-0.019163</td>\n",
       "      <td>0.074412</td>\n",
       "      <td>-0.039493</td>\n",
       "      <td>-0.068332</td>\n",
       "      <td>-0.092204</td>\n",
       "      <td>1.0</td>\n",
       "    </tr>\n",
       "    <tr>\n",
       "      <th>2</th>\n",
       "      <td>0.085299</td>\n",
       "      <td>0.050680</td>\n",
       "      <td>0.044451</td>\n",
       "      <td>-0.005670</td>\n",
       "      <td>-0.045599</td>\n",
       "      <td>-0.034194</td>\n",
       "      <td>-0.032356</td>\n",
       "      <td>-0.002592</td>\n",
       "      <td>0.002861</td>\n",
       "      <td>-0.025930</td>\n",
       "      <td>1.0</td>\n",
       "    </tr>\n",
       "    <tr>\n",
       "      <th>3</th>\n",
       "      <td>-0.089063</td>\n",
       "      <td>-0.044642</td>\n",
       "      <td>-0.011595</td>\n",
       "      <td>-0.036656</td>\n",
       "      <td>0.012191</td>\n",
       "      <td>0.024991</td>\n",
       "      <td>-0.036038</td>\n",
       "      <td>0.034309</td>\n",
       "      <td>0.022688</td>\n",
       "      <td>-0.009362</td>\n",
       "      <td>1.0</td>\n",
       "    </tr>\n",
       "    <tr>\n",
       "      <th>4</th>\n",
       "      <td>0.005383</td>\n",
       "      <td>-0.044642</td>\n",
       "      <td>-0.036385</td>\n",
       "      <td>0.021872</td>\n",
       "      <td>0.003935</td>\n",
       "      <td>0.015596</td>\n",
       "      <td>0.008142</td>\n",
       "      <td>-0.002592</td>\n",
       "      <td>-0.031988</td>\n",
       "      <td>-0.046641</td>\n",
       "      <td>1.0</td>\n",
       "    </tr>\n",
       "  </tbody>\n",
       "</table>\n",
       "</div>"
      ],
      "text/plain": [
       "         0         1         2         3         4         5         6   \\\n",
       "0  0.038076  0.050680  0.061696  0.021872 -0.044223 -0.034821 -0.043401   \n",
       "1 -0.001882 -0.044642 -0.051474 -0.026328 -0.008449 -0.019163  0.074412   \n",
       "2  0.085299  0.050680  0.044451 -0.005670 -0.045599 -0.034194 -0.032356   \n",
       "3 -0.089063 -0.044642 -0.011595 -0.036656  0.012191  0.024991 -0.036038   \n",
       "4  0.005383 -0.044642 -0.036385  0.021872  0.003935  0.015596  0.008142   \n",
       "\n",
       "         7         8         9    10  \n",
       "0 -0.002592  0.019907 -0.017646  1.0  \n",
       "1 -0.039493 -0.068332 -0.092204  1.0  \n",
       "2 -0.002592  0.002861 -0.025930  1.0  \n",
       "3  0.034309  0.022688 -0.009362  1.0  \n",
       "4 -0.002592 -0.031988 -0.046641  1.0  "
      ]
     },
     "execution_count": null,
     "metadata": {},
     "output_type": "execute_result"
    }
   ],
   "source": [
    "pd.DataFrame(X).head()"
   ]
  },
  {
   "cell_type": "markdown",
   "metadata": {},
   "source": [
    "We've created a train/test split for you with `test_size=0.3` and `random_state=1` (so that we all have repeatable results)"
   ]
  },
  {
   "cell_type": "code",
   "execution_count": null,
   "metadata": {},
   "outputs": [],
   "source": [
    "X_train, X_test, y_train, y_test = train_test_split(X, y, test_size = .3, random_state = 1)"
   ]
  },
  {
   "cell_type": "markdown",
   "metadata": {},
   "source": [
    "\n",
    "Let's recall the definition of the gradient descent algorithm\n",
    "\n",
    "$$\\text{Gradient descent - vector formula}$$\n",
    "$$\\beta^{\\color {red}{(k+1)}} = \\beta^{\\color {red}{(k)}} - \\eta \\ \\nabla L(\\beta^{\\color{red}{(k)}})$$\n",
    "\n",
    "The MSE Loss for an OLS regression is\n",
    "\n",
    "$$L(\\beta) = \\frac{1}{n}\\|X \\beta - y\\|^2 = \\frac{1}{n}(X \\beta - y)^T(X \\beta - y)$$\n",
    "\n",
    "and its gradient is\n",
    "$${\\displaystyle \\nabla L(\\beta)=\n",
    "{\\begin{bmatrix}{\\frac {\\partial L}{\\partial \\beta_{0}}}(\\beta)\\\\\\vdots \\\\{\\frac {\\partial L}{\\partial \\beta_{p}}}(\\beta)\\end{bmatrix}} = \\frac{2}{n} X^T (X\\beta - y) \n",
    "}$$"
   ]
  },
  {
   "cell_type": "markdown",
   "metadata": {},
   "source": [
    "Let's store our main problem parameters below:"
   ]
  },
  {
   "cell_type": "code",
   "execution_count": null,
   "metadata": {},
   "outputs": [],
   "source": [
    "# n observations\n",
    "n = X.shape[0]\n",
    "n_train = X_train.shape[0]\n",
    "n_test = X_test.shape[0]\n",
    "\n",
    "# p features (including the intercept)\n",
    "p = X.shape[1]\n",
    "\n",
    "# Gradient Descent hyper-params\n",
    "eta = .1\n",
    "n_epochs= 100"
   ]
  },
  {
   "cell_type": "markdown",
   "metadata": {},
   "source": [
    "❓ Initialize a $\\beta$ vector of zeros of shape **p**"
   ]
  },
  {
   "cell_type": "code",
   "execution_count": null,
   "metadata": {
    "tags": [
     "challengify"
    ]
   },
   "outputs": [
    {
     "data": {
      "text/plain": [
       "(11,)"
      ]
     },
     "execution_count": null,
     "metadata": {},
     "output_type": "execute_result"
    }
   ],
   "source": [
    "beta = np.zeros(p)\n",
    "\n",
    "beta.shape"
   ]
  },
  {
   "cell_type": "markdown",
   "metadata": {},
   "source": [
    "❓ Using the vectorized formula given above, create a Gradient Descent that loops over `n_epochs` to find the best $\\beta$ of an OLS using the `train` set\n",
    "- make use of NumPy's matrix operations and broadcasting capabilities\n",
    "- this shouldn't take more than 4 lines of code!"
   ]
  },
  {
   "cell_type": "code",
   "execution_count": null,
   "metadata": {
    "tags": [
     "challengify"
    ]
   },
   "outputs": [],
   "source": [
    "for epoch in range(n_epochs):\n",
    "    gradient = 2 / n_train * np.dot(X_train.T, (np.dot(X_train, beta) - y_train))\n",
    "    beta = beta - eta * gradient"
   ]
  },
  {
   "cell_type": "code",
   "execution_count": null,
   "metadata": {
    "tags": [
     "delete"
    ]
   },
   "outputs": [
    {
     "name": "stdout",
     "output_type": "stream",
     "text": [
      "Best ß:  [ 13.88877812   1.6767504   45.64204342  31.67134515  13.17780485\n",
      "   9.52749193 -28.21620784  30.03382058  41.48427879  27.12324669\n",
      " 153.73815888]\n"
     ]
    }
   ],
   "source": [
    "print('Best ß: ', beta)"
   ]
  },
  {
   "cell_type": "markdown",
   "metadata": {},
   "source": [
    "## Predict"
   ]
  },
  {
   "cell_type": "markdown",
   "metadata": {},
   "source": [
    "❓Compute predictions on your test set (`y_pred`), and the resulting `loss_test` (MSE loss for OLS)."
   ]
  },
  {
   "cell_type": "code",
   "execution_count": null,
   "metadata": {
    "tags": [
     "challengify"
    ]
   },
   "outputs": [],
   "source": [
    "# Compute y_pred\n",
    "y_pred_train = X_train.dot(beta)\n",
    "y_pred_test = X_test.dot(beta)"
   ]
  },
  {
   "cell_type": "code",
   "execution_count": null,
   "metadata": {
    "tags": [
     "challengify"
    ]
   },
   "outputs": [
    {
     "name": "stdout",
     "output_type": "stream",
     "text": [
      "Train Loss: 5536.456061612208\n",
      "Test Loss: 4477.6183367564\n"
     ]
    }
   ],
   "source": [
    "# Print test loss and train loss\n",
    "print('Train Loss:', mean_squared_error(y_train, y_pred_train))\n",
    "print('Test Loss:', mean_squared_error(y_test, y_pred_test))"
   ]
  },
  {
   "cell_type": "markdown",
   "metadata": {},
   "source": [
    "## Wrap these into a function called `gradient_descent`\n",
    "\n",
    "❓ Wrap this logic into a function called `gradient_descent`, which takes as input some (`X_train`, `y_train`, `X_test`, `y_test`, `eta`, `n_epoch`) values, and returns:\n",
    "- the final value for $\\beta$ fitted on the train set\n",
    "- the values of the `loss_train` at each epoch as a list called `loss_train_history`\n",
    "- the values of the `loss_test` at each epoch as a list called `loss_test_history`\n",
    "- (optional) make the function robust to call with only a train_set"
   ]
  },
  {
   "cell_type": "code",
   "execution_count": null,
   "metadata": {},
   "outputs": [],
   "source": [
    "def gradient_descent(X_train, y_train, X_test, y_test, eta = eta, n_epochs = 100):\n",
    "    n_train = X_train.shape[0]\n",
    "    n_test = X_test.shape[0]\n",
    "    p = X_train.shape[1]\n",
    "\n",
    "    beta = np.zeros(p)\n",
    "\n",
    "    loss_train_history = []\n",
    "    loss_test_history = []\n",
    "\n",
    "    # $CHALLENGIFY_BEGIN\n",
    "    for epoch in range(n_epochs):\n",
    "        # GD\n",
    "        gradients = 2/n_train * X_train.T.dot(X_train.dot(beta) - y_train)\n",
    "        beta = beta - eta * gradients\n",
    "\n",
    "        # Compute predictions\n",
    "        y_pred_train = X_train.dot(beta)\n",
    "        y_pred_test = X_test.dot(beta)\n",
    "\n",
    "        # Compute loss histories\n",
    "        loss_train = 1 / n_train*(y_pred_train - y_train).T.dot(y_pred_train - y_train)\n",
    "        loss_test = 1 / n_test*(y_pred_test - y_test).T.dot(y_pred_test - y_test)\n",
    "\n",
    "        loss_train_history.append(loss_train)\n",
    "        loss_test_history.append(loss_test)\n",
    "        # $CHALLENGIFY_END\n",
    "\n",
    "    return beta, loss_train_history, loss_test_history"
   ]
  },
  {
   "cell_type": "markdown",
   "metadata": {},
   "source": [
    "## Early stopping criteria?"
   ]
  },
  {
   "cell_type": "markdown",
   "metadata": {},
   "source": [
    "❓Plot the loss as a function of epochs, on your train dataset. \n",
    "- Try it with `n_epochs=10000` and `eta=0.1` as was initially set\n",
    "- Zoom in with `plt.ylim(ymin=2800, ymax=3000)` to see the behavior of the Loss Function on the test set\n",
    "- What can you conclude? Should you always \"descend\" the gradient down to the absolute minimum?"
   ]
  },
  {
   "cell_type": "code",
   "execution_count": null,
   "metadata": {
    "tags": [
     "challengify"
    ]
   },
   "outputs": [],
   "source": [
    "beta, loss_train_history, loss_test_history = gradient_descent(X_train, y_train, X_test, y_test, eta = 0.1, n_epochs = 10000)"
   ]
  },
  {
   "cell_type": "code",
   "execution_count": null,
   "metadata": {},
   "outputs": [
    {
     "data": {
      "text/plain": [
       "<matplotlib.legend.Legend at 0x146a89600>"
      ]
     },
     "execution_count": null,
     "metadata": {},
     "output_type": "execute_result"
    },
    {
     "data": {
      "image/png": "[encoded data removed]",
      "text/plain": [
       "<Figure size 640x480 with 1 Axes>"
      ]
     },
     "metadata": {},
     "output_type": "display_data"
    }
   ],
   "source": [
    "# Plot train and test histories\n",
    "plt.plot(loss_train_history, label = 'loss_train')\n",
    "plt.plot(loss_test_history, label = 'loss_test')\n",
    "\n",
    "# Set title and labels\n",
    "plt.title('Loss')\n",
    "plt.ylabel('MSE Loss')\n",
    "plt.xlabel('Epochs')\n",
    "\n",
    "# Change limits\n",
    "plt.ylim(ymin = 2800, ymax = 3000)\n",
    "\n",
    "# Generate legend\n",
    "plt.legend()"
   ]
  },
  {
   "cell_type": "markdown",
   "metadata": {},
   "source": [
    "❓ What do you notice?"
   ]
  },
  {
   "cell_type": "markdown",
   "metadata": {
    "tags": [
     "challengify"
    ]
   },
   "source": [
    "**Answer:** we could have stopped earlier to get a better score"
   ]
  },
  {
   "cell_type": "markdown",
   "metadata": {},
   "source": [
    "❓Can you think of a method to improve the performance of your model? Take time to write it in pseudo-code below before looking at the hints."
   ]
  },
  {
   "cell_type": "markdown",
   "metadata": {},
   "source": [
    "<details>\n",
    "    <summary>Hints</summary>\n",
    "\n",
    "- We could decide to stop the GD as soon as the test loss starts to increase again.\n",
    "- ⚠️ Yet we can't use the \"test set\" created initially to decide when to stop descending gradient; this would create data leakage! Never use your test set to optimize your model's `hyperparameters`.\n",
    "- Create instead a train/test split **within** your current training set and optimize your early stopping based on the loss of this new test set only. This one is usually called a **validation set**. \n",
    "</details>"
   ]
  },
  {
   "cell_type": "code",
   "execution_count": null,
   "metadata": {},
   "outputs": [],
   "source": [
    "#PSEUDO-CODE"
   ]
  },
  {
   "cell_type": "markdown",
   "metadata": {},
   "source": [
    "❓ Update your `gradient_descent` method based on the Hints above!"
   ]
  },
  {
   "cell_type": "code",
   "execution_count": null,
   "metadata": {
    "tags": [
     "challengify"
    ]
   },
   "outputs": [],
   "source": [
    "def gradient_descent_early_stopping(X_train, y_train, X_test, y_test, eta = eta, n_epochs = n_epochs):\n",
    "    n_train = X_train.shape[0]\n",
    "    n_test = X_test.shape[0]\n",
    "\n",
    "    p = X_train.shape[1]\n",
    "\n",
    "    beta = np.zeros(p)\n",
    "\n",
    "    loss_train_history = []\n",
    "    loss_test_history = []\n",
    "\n",
    "    for epoch in range(n_epochs):\n",
    "        # Compute predictions\n",
    "        y_pred_train = X_train.dot(beta)\n",
    "        y_pred_test = X_test.dot(beta)\n",
    "\n",
    "        # GD\n",
    "        gradients = 2/n_train * X_train.T.dot(y_pred_train - y_train)\n",
    "        beta = beta - eta * gradients\n",
    "\n",
    "        # Compute loss histories\n",
    "        loss_train = 1 / n_train * (y_pred_train - y_train).T.dot(y_pred_train - y_train)\n",
    "        loss_test = 1 / n_test * (y_pred_test - y_test).T.dot(y_pred_test - y_test)\n",
    "\n",
    "        # Break the loop to escape as soon as test loss increases\n",
    "        if epoch > 0:\n",
    "            if loss_test > loss_test_history[-1]:\n",
    "                break\n",
    "\n",
    "        loss_train_history.append(loss_train)\n",
    "        loss_test_history.append(loss_test)\n",
    "\n",
    "    return beta, loss_train_history, loss_test_history"
   ]
  },
  {
   "cell_type": "markdown",
   "metadata": {},
   "source": [
    "❓ Create your train/val set and try to improve your MSE with early stopping, using `random_state = 1`\n",
    "\n",
    "It should stop earlier than before!"
   ]
  },
  {
   "cell_type": "code",
   "execution_count": null,
   "metadata": {
    "tags": [
     "challengify"
    ]
   },
   "outputs": [],
   "source": [
    "X_train_train, X_val, y_train_train, y_val = train_test_split(X_train, y_train, random_state = 1)"
   ]
  },
  {
   "cell_type": "code",
   "execution_count": null,
   "metadata": {},
   "outputs": [
    {
     "data": {
      "text/plain": [
       "<matplotlib.legend.Legend at 0x146c74f40>"
      ]
     },
     "execution_count": null,
     "metadata": {},
     "output_type": "execute_result"
    },
    {
     "data": {
      "image/png": "[encoded data removed]",
      "text/plain": [
       "<Figure size 640x480 with 1 Axes>"
      ]
     },
     "metadata": {},
     "output_type": "display_data"
    }
   ],
   "source": [
    "beta_es, loss_train_history, loss_val_history = gradient_descent_early_stopping(X_train_train, y_train_train, X_val, y_val, n_epochs = 10000, eta = .1)\n",
    "\n",
    "# Plot train and test histories\n",
    "plt.plot(loss_train_history, label = 'loss_train')\n",
    "plt.plot(loss_test_history, label = 'loss_test')\n",
    "\n",
    "# Set title and labels\n",
    "plt.title('Loss')\n",
    "plt.ylabel('MSE Loss')\n",
    "plt.xlabel('Epochs')\n",
    "\n",
    "# Change limits\n",
    "plt.ylim(ymin = 2500, ymax = 4000)\n",
    "\n",
    "# Generate legend\n",
    "plt.legend()"
   ]
  },
  {
   "cell_type": "markdown",
   "metadata": {},
   "source": [
    "## Mini-Batch Descent"
   ]
  },
  {
   "cell_type": "markdown",
   "metadata": {},
   "source": [
    "❓ Modify your gradient_descent function into a `minibatch_gradient_descent` one."
   ]
  },
  {
   "cell_type": "code",
   "execution_count": null,
   "metadata": {},
   "outputs": [],
   "source": [
    "def minibatch_gradient_descent(X_train, y_train, X_test, y_test, batch_size = 16, eta = eta, n_epochs = n_epochs):\n",
    "    n_train = X_train.shape[0]\n",
    "    n_test = X_test.shape[0]\n",
    "\n",
    "    p = X_train.shape[1]\n",
    "\n",
    "    beta = np.zeros(p)\n",
    "\n",
    "    loss_train_history = []\n",
    "    loss_test_history = []\n",
    "\n",
    "    if isinstance(y_train, pd.Series):\n",
    "        y_train = y_train.to_numpy()\n",
    "\n",
    "    for epoch in range(n_epochs):\n",
    "        # Shuffle your (X_train, y_train) dataset\n",
    "        # $CHALLENGIFY_BEGIN\n",
    "        indices = np.random.permutation(n_train)\n",
    "        X_train = X_train[indices]\n",
    "        y_train = y_train[indices]\n",
    "        # $CHALLENGIFY_END\n",
    "\n",
    "        # Loop over your dataset in mini-batches, and for each mini-batch update your beta\n",
    "        # $CHALLENGIFY_BEGIN\n",
    "        for i in range(0, n_train, batch_size): # i = [0, 15, 31, ... n]\n",
    "            # Slicing \"from i to i + you batch size\"\n",
    "            X_mini = X_train[i:i + batch_size]\n",
    "            y_mini = y_train[i:i + batch_size]\n",
    "\n",
    "            # Compute mini-batch y_pred\n",
    "            y_pred_mini = X_mini.dot(beta)\n",
    "\n",
    "            # GD\n",
    "            gradients = 2 / batch_size * X_mini.T.dot(y_pred_mini - y_mini)\n",
    "            beta = beta - eta * gradients\n",
    "            # $CHALLENGIFY_END\n",
    "\n",
    "        # Keep track of loss histories per epoch\n",
    "        # $CHALLENGIFY_BEGIN\n",
    "        y_pred_train = X_train.dot(beta)\n",
    "        y_pred_test = X_test.dot(beta)\n",
    "\n",
    "        loss_train = 1 / n_train * (y_pred_train - y_train).T.dot(y_pred_train - y_train)\n",
    "        loss_test = 1 / n_test * (y_pred_test - y_test).T.dot(y_pred_test - y_test)\n",
    "\n",
    "        loss_train_history.append(loss_train)\n",
    "        loss_test_history.append(loss_test)\n",
    "        # $CHALLENGIFY_END\n",
    "\n",
    "    return beta, loss_train_history, loss_test_history"
   ]
  },
  {
   "cell_type": "markdown",
   "metadata": {},
   "source": [
    "❓ Plot the evolution of your train and val losses per epoch. What if you chose minibatch = 1?"
   ]
  },
  {
   "cell_type": "code",
   "execution_count": null,
   "metadata": {
    "tags": [
     "challengify"
    ]
   },
   "outputs": [
    {
     "data": {
      "text/plain": [
       "<matplotlib.legend.Legend at 0x146b56770>"
      ]
     },
     "execution_count": null,
     "metadata": {},
     "output_type": "execute_result"
    },
    {
     "data": {
      "image/png": "[encoded data removed]",
      "text/plain": [
       "<Figure size 640x480 with 1 Axes>"
      ]
     },
     "metadata": {},
     "output_type": "display_data"
    }
   ],
   "source": [
    "beta_mini, loss_train_history_mini, loss_val_history_mini = minibatch_gradient_descent(\n",
    "    X_train_train,\n",
    "    y_train_train,\n",
    "    X_val,\n",
    "    y_val,\n",
    "    batch_size = 8,\n",
    "    n_epochs = 100\n",
    ")\n",
    "\n",
    "plt.plot(loss_train_history_mini, label = 'train loss')\n",
    "plt.plot(loss_val_history_mini, label = 'val less')\n",
    "\n",
    "plt.title('Mini-batch loss history')\n",
    "plt.legend()"
   ]
  },
  {
   "cell_type": "markdown",
   "metadata": {},
   "source": [
    "❓ How would you adjust the early stopping criteria to these fluctuations?\n",
    "\n",
    "<details>\n",
    "    <summary>Hint</summary>\n",
    "\n",
    "To avoid early stopping too early due to the stochastic nature of the mini-batch descent, we could add a \"patience\" term to stop only after the val loss is increased for a sustained period of \"patience\" # of epochs.\n",
    "</details>"
   ]
  },
  {
   "cell_type": "markdown",
   "metadata": {},
   "source": [
    "## Conclusion: a new way to check for overfitting"
   ]
  },
  {
   "cell_type": "markdown",
   "metadata": {},
   "source": [
    "<img src=\"https://wagon-public-datasets.s3-eu-west-1.amazonaws.com/05-Machine-Learning/04-Under-the-Hood/underfitting_overfitting_at_a_glance.webp\" width=800>"
   ]
  },
  {
   "cell_type": "markdown",
   "metadata": {},
   "source": [
    "📚 Read more about:\n",
    "\n",
    "- [Underfitting and overfitting](https://medium.com/towards-data-science/overfitting-vs-underfitting-a-complete-example-d05dd7e19765)\n",
    "- [Gradient Descent in Python](https://medium.com/towards-data-science/gradient-descent-in-python-a0d07285742f)"
   ]
  },
  {
   "cell_type": "markdown",
   "metadata": {},
   "source": [
    "# 🏁 Congrats on completing this challenge! Time to push your notebook"
   ]
  }
 ],
 "metadata": {
  "kernelspec": {
   "display_name": "Python 3",
   "language": "python",
   "name": "python3"
  }
 },
 "nbformat": 4,
 "nbformat_minor": 4
}
