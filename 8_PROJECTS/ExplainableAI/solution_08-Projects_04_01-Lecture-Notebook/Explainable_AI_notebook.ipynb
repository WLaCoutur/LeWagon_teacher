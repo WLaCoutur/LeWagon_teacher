{
 "cells": [
  {
   "cell_type": "markdown",
   "metadata": {
    "slideshow": {
     "slide_type": "slide"
    }
   },
   "source": [
    "# Explainable AI"
   ]
  },
  {
   "cell_type": "markdown",
   "metadata": {},
   "source": [
    "## SHAP and tree based models"
   ]
  },
  {
   "cell_type": "markdown",
   "metadata": {
    "slideshow": {
     "slide_type": "subslide"
    }
   },
   "source": [
    "### Let's put it into practice with 🏠🏠🏠 and XGBoost 🚀"
   ]
  },
  {
   "cell_type": "markdown",
   "metadata": {},
   "source": [
    "First the regular stuff"
   ]
  },
  {
   "cell_type": "code",
   "execution_count": null,
   "metadata": {
    "slideshow": {
     "slide_type": "-"
    }
   },
   "outputs": [],
   "source": [
    "import numpy as np\n",
    "import pandas as pd\n",
    "import matplotlib.pyplot as plt\n",
    "from sklearn import datasets, ensemble\n",
    "from sklearn.model_selection import train_test_split\n",
    "from sklearn.metrics import mean_squared_error\n",
    "import xgboost"
   ]
  },
  {
   "cell_type": "markdown",
   "metadata": {},
   "source": [
    "Let's add SHAP"
   ]
  },
  {
   "cell_type": "code",
   "execution_count": null,
   "metadata": {
    "slideshow": {
     "slide_type": "-"
    }
   },
   "outputs": [],
   "source": [
    "# !pip install shap\n",
    "import shap\n",
    "# Run the following command. Needed for some visualizations.\n",
    "shap.initjs();"
   ]
  },
  {
   "cell_type": "markdown",
   "metadata": {
    "slideshow": {
     "slide_type": "subslide"
    }
   },
   "source": [
    "### Fit a model\n",
    "\n",
    "We are using California house prices from 1990, in $100.000"
   ]
  },
  {
   "cell_type": "code",
   "execution_count": null,
   "metadata": {
    "slideshow": {
     "slide_type": "-"
    }
   },
   "outputs": [],
   "source": [
    "# Load the data\n",
    "X, y = shap.datasets.california()\n",
    "X_train, X_test, y_train, y_test = train_test_split(X, y, test_size=0.2, random_state=13)\n",
    "\n",
    "# Fit our model\n",
    "model_tree = xgboost.XGBRegressor(n_estimators=100, max_depth=2)\n",
    "model_tree.fit(X_train, y_train)\n",
    "\n",
    "# Predict\n",
    "y_test_pred = model_tree.predict(X_test)"
   ]
  },
  {
   "cell_type": "markdown",
   "metadata": {
    "slideshow": {
     "slide_type": "subslide"
    }
   },
   "source": [
    "### Let's have a look at the predictions"
   ]
  },
  {
   "cell_type": "code",
   "execution_count": null,
   "metadata": {
    "slideshow": {
     "slide_type": "-"
    }
   },
   "outputs": [],
   "source": [
    "# The average house price (in $100.000)\n",
    "print(f\"The average house price in the train set is {y_train.mean():.3f}\")\n",
    "\n",
    "\n",
    "# Have a look at the mean squared error on the test set\n",
    "mse = mean_squared_error(y_test, y_test_pred)\n",
    "print(f\"The Mean Squared Error on the test set is   {mse:.3f}\")"
   ]
  },
  {
   "cell_type": "code",
   "execution_count": null,
   "metadata": {
    "slideshow": {
     "slide_type": "subslide"
    }
   },
   "outputs": [],
   "source": [
    "# Let's check our predictions on the test set visually\n",
    "plt.scatter(y_test, y_test_pred)\n",
    "plt.title(\"Prediction vs true value\")\n",
    "plt.xlabel(\"y_test\"); plt.ylabel(\"y_test_predict\");"
   ]
  },
  {
   "cell_type": "markdown",
   "metadata": {
    "slideshow": {
     "slide_type": "slide"
    }
   },
   "source": [
    "### Local explanations"
   ]
  },
  {
   "cell_type": "markdown",
   "metadata": {
    "slideshow": {
     "slide_type": "subslide"
    }
   },
   "source": [
    "Select an instance, and calculate the prediction"
   ]
  },
  {
   "cell_type": "code",
   "execution_count": null,
   "metadata": {
    "slideshow": {
     "slide_type": "-"
    }
   },
   "outputs": [],
   "source": [
    "row_to_show = 24  # Select one instance to explain\n",
    "feature_values = X_test.iloc[[row_to_show]]\n",
    "prediction = model_tree.predict(feature_values)\n",
    "print(f\"{'The prediction for this instance:':<35}{prediction[0]:>7.3f}\")"
   ]
  },
  {
   "cell_type": "markdown",
   "metadata": {
    "slideshow": {
     "slide_type": "subslide"
    }
   },
   "source": [
    "Now, calculate the SHAP values"
   ]
  },
  {
   "cell_type": "code",
   "execution_count": null,
   "metadata": {
    "slideshow": {
     "slide_type": "fragment"
    }
   },
   "outputs": [],
   "source": [
    "# Step 1: Create a SHAP Explainer\n",
    "explainer = shap.Explainer(model_tree)"
   ]
  },
  {
   "cell_type": "code",
   "execution_count": null,
   "metadata": {
    "slideshow": {
     "slide_type": "fragment"
    }
   },
   "outputs": [],
   "source": [
    "# Step 2: Calculate the SHAP values\n",
    "# Using the explainer we just created\n",
    "# and giving as input the feature values for our instance\n",
    "shap_values_one = explainer(feature_values)"
   ]
  },
  {
   "cell_type": "code",
   "execution_count": null,
   "metadata": {
    "slideshow": {
     "slide_type": "fragment"
    }
   },
   "outputs": [],
   "source": [
    "# Have a look at these values\n",
    "print(f\"{'Base value:':<35}{shap_values_one.base_values[0]:>7.3f}\")\n",
    "print(f\"{'Sum of SHAP values:':<35}{shap_values_one.values.sum():>7.3f}\")\n",
    "print(f\"{'The prediction for this instance:':<35}{prediction[0]:>7.3f}\")"
   ]
  },
  {
   "cell_type": "markdown",
   "metadata": {
    "slideshow": {
     "slide_type": "subslide"
    }
   },
   "source": [
    "Now that we have our SHAP values, let's visualize them"
   ]
  },
  {
   "cell_type": "code",
   "execution_count": null,
   "metadata": {
    "slideshow": {
     "slide_type": "subslide"
    }
   },
   "outputs": [],
   "source": [
    "shap.plots.bar(shap_values_one[0])"
   ]
  },
  {
   "cell_type": "code",
   "execution_count": null,
   "metadata": {
    "slideshow": {
     "slide_type": "subslide"
    }
   },
   "outputs": [],
   "source": [
    "shap.plots.waterfall(shap_values_one[0])"
   ]
  },
  {
   "cell_type": "code",
   "execution_count": null,
   "metadata": {
    "slideshow": {
     "slide_type": "skip"
    }
   },
   "outputs": [],
   "source": [
    "# # For some tree based models this might not work\n",
    "# # (encountered this with GradientBoostingRegressor)\n",
    "# # Here is a workaround:\n",
    "# # Create a wrapper object, that we will use as input for waterfall\n",
    "# shap_object = shap.Explanation(\n",
    "#     base_values = shap_values_one[0][0].base_values,\n",
    "#     values = shap_values_one[0].values,\n",
    "#     feature_names = X_train.columns,\n",
    "#     data = shap_values_one[0].data)\n",
    "# shap.plots.waterfall(shap_object)"
   ]
  },
  {
   "cell_type": "code",
   "execution_count": null,
   "metadata": {
    "slideshow": {
     "slide_type": "subslide"
    }
   },
   "outputs": [],
   "source": [
    "shap.plots.force(shap_values_one[0])"
   ]
  },
  {
   "cell_type": "markdown",
   "metadata": {
    "slideshow": {
     "slide_type": "slide"
    }
   },
   "source": [
    "### Global explainability"
   ]
  },
  {
   "cell_type": "code",
   "execution_count": null,
   "metadata": {
    "slideshow": {
     "slide_type": "subslide"
    }
   },
   "outputs": [],
   "source": [
    "# Let's calculate SHAP values for our whole test population\n",
    "# We can use the same explainer\n",
    "# This time we feed it our whole test population\n",
    "\n",
    "shap_values = explainer(X_test)"
   ]
  },
  {
   "cell_type": "code",
   "execution_count": null,
   "metadata": {
    "slideshow": {
     "slide_type": "subslide"
    }
   },
   "outputs": [],
   "source": [
    "shap.plots.bar(shap_values)"
   ]
  },
  {
   "cell_type": "code",
   "execution_count": null,
   "metadata": {
    "slideshow": {
     "slide_type": "-"
    }
   },
   "outputs": [],
   "source": [
    "shap.plots.beeswarm(shap_values)"
   ]
  },
  {
   "cell_type": "markdown",
   "metadata": {
    "slideshow": {
     "slide_type": "slide"
    }
   },
   "source": [
    "## SHAP and images"
   ]
  },
  {
   "cell_type": "markdown",
   "metadata": {
    "slideshow": {
     "slide_type": "subslide"
    }
   },
   "source": [
    "### Preparing a model\n",
    "\n",
    "Let's use a pretrained ResNet50 model"
   ]
  },
  {
   "cell_type": "code",
   "execution_count": null,
   "metadata": {
    "slideshow": {
     "slide_type": "-"
    }
   },
   "outputs": [],
   "source": [
    "# !pip install opencv-python\n",
    "import requests\n",
    "from tensorflow.keras.applications.resnet50 import ResNet50, preprocess_input, decode_predictions"
   ]
  },
  {
   "cell_type": "code",
   "execution_count": null,
   "metadata": {
    "slideshow": {
     "slide_type": "-"
    }
   },
   "outputs": [],
   "source": [
    "# Loading the class names from ImageNet 1000\n",
    "url = \"https://s3.amazonaws.com/deep-learning-models/image-models/imagenet_class_index.json\"\n",
    "class_names = requests.get(url).json().values()\n",
    "class_names = [value[1] for value in class_names]"
   ]
  },
  {
   "cell_type": "code",
   "execution_count": null,
   "metadata": {
    "slideshow": {
     "slide_type": "-"
    }
   },
   "outputs": [],
   "source": [
    "# Load the pre-trained model and some sample data\n",
    "model_deep = ResNet50(weights='imagenet')\n",
    "X, y = shap.datasets.imagenet50()\n",
    "X = X.astype(int)"
   ]
  },
  {
   "cell_type": "markdown",
   "metadata": {
    "slideshow": {
     "slide_type": "subslide"
    }
   },
   "source": [
    "### Obtaining the SHAP values"
   ]
  },
  {
   "cell_type": "code",
   "execution_count": null,
   "metadata": {
    "slideshow": {
     "slide_type": "-"
    }
   },
   "outputs": [],
   "source": [
    "# Function to preprocess the data and get the model output\n",
    "# We will use this as input for the SHAP explainer\n",
    "def model(X):\n",
    "    X_copy = X.copy()\n",
    "    X_copy = preprocess_input(X_copy)\n",
    "    return model_deep(X_copy)\n",
    "\n",
    "# A masker that will mask out partitions of the input image\n",
    "masker = shap.maskers.Image(\"blur(128,128)\", X[0].shape)\n",
    "\n",
    "# Finally create the explainer\n",
    "explainer = shap.Explainer(model, masker, output_names=class_names)\n",
    "\n",
    "# Explain some images using 500 evaluations of the model\n",
    "# to estimate the SHAP values\n",
    "shap_values = explainer(X[1:5], max_evals=500, batch_size=50,\n",
    "                        outputs=shap.Explanation.argsort.flip[:4])"
   ]
  },
  {
   "cell_type": "markdown",
   "metadata": {},
   "source": [
    "### And visualise them"
   ]
  },
  {
   "cell_type": "code",
   "execution_count": null,
   "metadata": {
    "slideshow": {
     "slide_type": "subslide"
    }
   },
   "outputs": [],
   "source": [
    "shap.image_plot(shap_values, pixel_values=X[1:5])"
   ]
  }
 ],
 "metadata": {
  "kernelspec": {
   "display_name": "Python 3",
   "language": "python",
   "name": "python3"
  }
 },
 "nbformat": 4,
 "nbformat_minor": 5
}
