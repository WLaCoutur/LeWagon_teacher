{
 "cells": [
  {
   "cell_type": "code",
   "execution_count": null,
   "id": "initial_id",
   "metadata": {
    "collapsed": true
   },
   "outputs": [],
   "source": [
    ""
   ]
  },
  {
   "metadata": {},
   "cell_type": "markdown",
   "source": [
    "Start your final project 🚀\n",
    "Setup the project\n",
    "I am the project leader"
   ],
   "id": "a61c56b2537da378"
  },
  {
   "metadata": {},
   "cell_type": "markdown",
   "source": [
    "I am a teammate\n",
    "Let’s clone the project:"
   ],
   "id": "5ddad682711b2a0"
  },
  {
   "metadata": {},
   "cell_type": "markdown",
   "source": "",
   "id": "c5ee0aed9e11cddd"
  },
  {
   "metadata": {},
   "cell_type": "code",
   "outputs": [],
   "execution_count": null,
   "source": [
    "mkdir ~/code/<PROJECT_LEADER_GITHUB_NICKNAME> && cd \"$_\"\n",
    "git clone git@github.com:<PROJECT_LEADER_GITHUB_NICKNAME>/<PROJECT_NAME>.git\n",
    "cd project_name"
   ],
   "id": "52126f925741069b"
  },
  {
   "metadata": {},
   "cell_type": "markdown",
   "source": "Then add a raw_data directory (as it is not tracked by git):",
   "id": "58d81ddb7687b9c6"
  },
  {
   "metadata": {},
   "cell_type": "code",
   "outputs": [],
   "execution_count": null,
   "source": "mkdir raw_data",
   "id": "24e87b01482b2c44"
  },
  {
   "metadata": {},
   "cell_type": "markdown",
   "source": "You’re good to go.",
   "id": "b03848ae38c399f0"
  },
  {
   "metadata": {},
   "cell_type": "markdown",
   "source": [
    "Setup a new virtualenv\n",
    "First, we will create a virtual env for the project:"
   ],
   "id": "fc5eb87769dbb57f"
  },
  {
   "metadata": {},
   "cell_type": "code",
   "outputs": [],
   "execution_count": null,
   "source": "pyenv virtualenv 3.10.6 project_name",
   "id": "905faa8bb1a06298"
  },
  {
   "metadata": {},
   "cell_type": "markdown",
   "source": [
    "Start your final project 🚀\n",
    "Setup the project\n",
    "I am the project leader\n",
    "I am a teammate\n",
    "Let’s clone the project:\n",
    "\n",
    "mkdir ~/code/<PROJECT_LEADER_GITHUB_NICKNAME> && cd \"$_\"\n",
    "git clone git@github.com:<PROJECT_LEADER_GITHUB_NICKNAME>/<PROJECT_NAME>.git\n",
    "cd project_name\n",
    "Then add a raw_data directory (as it is not tracked by git):\n",
    "\n",
    "mkdir raw_data\n",
    "You’re good to go.\n",
    "\n",
    "Setup a new virtualenv\n",
    "First, we will create a virtual env for the project:\n",
    "\n",
    "pyenv virtualenv 3.10.6 project_name\n",
    "Then, we need to tell pyenv that we want to use this virtual env for our project. In order to do that, let’s go to the directory of the project:\n",
    "\n",
    "I am the project leader\n",
    "I am a teammate\n",
    "And run:\n",
    "\n",
    "pyenv local project_name\n",
    "This command creates a .python-version file in the directory of the project containing the name of the virtual env (cat .python-version). This is what allows pyenv to know which virtual env to use\n",
    "\n",
    "👉 You may commit this file to your git repo. If you do so, make sure that your teammates use the same name as you do for the virtual env of the project\n",
    "\n",
    "👉 From now on, all the commands that you run in the directory (or in any sub directory) of your project will be using the virtual env of your project\n",
    "\n",
    "👉 All the commands that you run outside of the directory of your project will continue to use your global virtual env (set as lewagon on setup day by the command pyenv global lewagon)\n",
    "\n",
    "🚨 This applies in particular to jupyter notebooks: make sure that your are located inside of the directory of your project when running jupyter notebook if you want your code to run in the virtual env of your project\n",
    "\n",
    "Using this setup, you can easily switch from the virtual env of a project to the one of another project… All you need to do in order to do so is to go in the directory of the project… Pretty handy 👌\n",
    "\n",
    "Install minimal packages\n",
    "pip install --upgrade pip\n",
    "pip install -r https://gist.githubusercontent.com/krokrob/53ab953bbec16c96b9938fcaebf2b199/raw/9035bbf12922840905ef1fbbabc459dc565b79a3/minimal_requirements.txt\n",
    "pip list\n",
    "Split the work\n",
    "Brainstorm the objectives of the project with your team\n",
    "Write 4-8 parallel jobs\n",
    "Each teammate take one job and split it into small task\n",
    "You can use Post-it, a Trello board, GitHub Projects or any other project management tool your want to drive your project tasks."
   ],
   "id": "4a1d9032a192ac50"
  },
  {
   "metadata": {},
   "cell_type": "markdown",
   "source": "",
   "id": "6288511a4c0a6288"
  }
 ],
 "metadata": {
  "kernelspec": {
   "display_name": "Python 3",
   "language": "python",
   "name": "python3"
  },
  "language_info": {
   "codemirror_mode": {
    "name": "ipython",
    "version": 2
   },
   "file_extension": ".py",
   "mimetype": "text/x-python",
   "name": "python",
   "nbconvert_exporter": "python",
   "pygments_lexer": "ipython2",
   "version": "2.7.6"
  }
 },
 "nbformat": 4,
 "nbformat_minor": 5
}
